{
  "cells": [
    {
      "cell_type": "markdown",
      "metadata": {
        "id": "view-in-github",
        "colab_type": "text"
      },
      "source": [
        "<a href=\"https://colab.research.google.com/github/sushirito/Molecular-Dynamics/blob/carbon-structures/Copy_of_Mercury_Graphene_Sheet_MD.ipynb\" target=\"_parent\"><img src=\"https://colab.research.google.com/assets/colab-badge.svg\" alt=\"Open In Colab\"/></a>"
      ]
    },
    {
      "cell_type": "markdown",
      "metadata": {
        "id": "NM0ACbQ-qVWQ"
      },
      "source": [
        "# Install dependencies and compile LAMMPS\n"
      ]
    },
    {
      "cell_type": "code",
      "execution_count": null,
      "metadata": {
        "id": "kuDTTQe4PSeF"
      },
      "outputs": [],
      "source": [
        "# Install dependencies and compile LAMMPS\n",
        "%%capture\n",
        "!apt-get update\n",
        "!apt-get install -y build-essential cmake libfftw3-dev libjpeg-dev libpng-dev \\\n",
        "                    libopenmpi-dev openmpi-bin python3-dev python3-numpy git\n",
        "# Clone the LAMMPS repository\n",
        "%cd /content\n",
        "!git clone -b stable https://github.com/lammps/lammps.git\n",
        "%cd lammps\n",
        "\n",
        "# Create a build directory and compile LAMMPS with required packages\n",
        "!mkdir build\n",
        "%cd build\n",
        "!cmake ../cmake -DBUILD_SHARED_LIBS=yes \\\n",
        "                -DLAMMPS_EXCEPTIONS=yes \\\n",
        "                -DPKG_MOLECULE=yes \\\n",
        "                -DPKG_KSPACE=yes \\\n",
        "                -DPKG_RIGID=yes \\\n",
        "                -DPKG_MANYBODY=yes \\\n",
        "                -DPKG_USER-MISC=yes \\\n",
        "                -DPKG_PYTHON=yes \\\n",
        "                -DPYTHON_EXECUTABLE=`which python3`\n",
        "!make -j4\n",
        "!make install-python\n",
        "\n",
        "# Return to the working directory\n",
        "%cd /content/"
      ]
    },
    {
      "cell_type": "code",
      "execution_count": null,
      "metadata": {
        "id": "ifGGI8DH3Cn5"
      },
      "outputs": [],
      "source": [
        "import os\n",
        "os.environ[\"OMP_NUM_THREADS\"] = \"4\""
      ]
    },
    {
      "cell_type": "code",
      "source": [
        "!pip install MDAnalysis\n",
        "\n",
        "import numpy as np\n",
        "import MDAnalysis as mda\n",
        "from MDAnalysis.lib.util import openany\n",
        "from MDAnalysis.analysis.rdf import InterRDF\n",
        "import matplotlib.pyplot as plt\n",
        "from scipy.spatial import cKDTree\n",
        "from scipy.optimize import curve_fit\n",
        "from scipy.signal import find_peaks\n",
        "import math, sys, os\n",
        "\n",
        "np.random.seed(42)"
      ],
      "metadata": {
        "colab": {
          "base_uri": "https://localhost:8080/"
        },
        "id": "mFZKl6c4oTdM",
        "outputId": "373efb1b-e147-4ac1-d39b-e3bfb33f5c87"
      },
      "execution_count": 37,
      "outputs": [
        {
          "output_type": "stream",
          "name": "stdout",
          "text": [
            "Requirement already satisfied: MDAnalysis in /usr/local/lib/python3.10/dist-packages (2.8.0)\n",
            "Requirement already satisfied: numpy>=1.23.2 in /usr/local/lib/python3.10/dist-packages (from MDAnalysis) (1.26.4)\n",
            "Requirement already satisfied: GridDataFormats>=0.4.0 in /usr/local/lib/python3.10/dist-packages (from MDAnalysis) (1.0.2)\n",
            "Requirement already satisfied: mmtf-python>=1.0.0 in /usr/local/lib/python3.10/dist-packages (from MDAnalysis) (1.1.3)\n",
            "Requirement already satisfied: joblib>=0.12 in /usr/local/lib/python3.10/dist-packages (from MDAnalysis) (1.4.2)\n",
            "Requirement already satisfied: scipy>=1.5.0 in /usr/local/lib/python3.10/dist-packages (from MDAnalysis) (1.13.1)\n",
            "Requirement already satisfied: matplotlib>=1.5.1 in /usr/local/lib/python3.10/dist-packages (from MDAnalysis) (3.10.0)\n",
            "Requirement already satisfied: tqdm>=4.43.0 in /usr/local/lib/python3.10/dist-packages (from MDAnalysis) (4.67.1)\n",
            "Requirement already satisfied: threadpoolctl in /usr/local/lib/python3.10/dist-packages (from MDAnalysis) (3.5.0)\n",
            "Requirement already satisfied: packaging in /usr/local/lib/python3.10/dist-packages (from MDAnalysis) (24.2)\n",
            "Requirement already satisfied: fasteners in /usr/local/lib/python3.10/dist-packages (from MDAnalysis) (0.19)\n",
            "Requirement already satisfied: mda-xdrlib in /usr/local/lib/python3.10/dist-packages (from MDAnalysis) (0.2.0)\n",
            "Requirement already satisfied: waterdynamics in /usr/local/lib/python3.10/dist-packages (from MDAnalysis) (1.2.0)\n",
            "Requirement already satisfied: pathsimanalysis in /usr/local/lib/python3.10/dist-packages (from MDAnalysis) (1.2.0)\n",
            "Requirement already satisfied: mdahole2 in /usr/local/lib/python3.10/dist-packages (from MDAnalysis) (0.5.0)\n",
            "Requirement already satisfied: mrcfile in /usr/local/lib/python3.10/dist-packages (from GridDataFormats>=0.4.0->MDAnalysis) (1.5.3)\n",
            "Requirement already satisfied: contourpy>=1.0.1 in /usr/local/lib/python3.10/dist-packages (from matplotlib>=1.5.1->MDAnalysis) (1.3.1)\n",
            "Requirement already satisfied: cycler>=0.10 in /usr/local/lib/python3.10/dist-packages (from matplotlib>=1.5.1->MDAnalysis) (0.12.1)\n",
            "Requirement already satisfied: fonttools>=4.22.0 in /usr/local/lib/python3.10/dist-packages (from matplotlib>=1.5.1->MDAnalysis) (4.55.3)\n",
            "Requirement already satisfied: kiwisolver>=1.3.1 in /usr/local/lib/python3.10/dist-packages (from matplotlib>=1.5.1->MDAnalysis) (1.4.8)\n",
            "Requirement already satisfied: pillow>=8 in /usr/local/lib/python3.10/dist-packages (from matplotlib>=1.5.1->MDAnalysis) (11.1.0)\n",
            "Requirement already satisfied: pyparsing>=2.3.1 in /usr/local/lib/python3.10/dist-packages (from matplotlib>=1.5.1->MDAnalysis) (3.2.1)\n",
            "Requirement already satisfied: python-dateutil>=2.7 in /usr/local/lib/python3.10/dist-packages (from matplotlib>=1.5.1->MDAnalysis) (2.8.2)\n",
            "Requirement already satisfied: msgpack>=1.0.0 in /usr/local/lib/python3.10/dist-packages (from mmtf-python>=1.0.0->MDAnalysis) (1.1.0)\n",
            "Requirement already satisfied: six>=1.5 in /usr/local/lib/python3.10/dist-packages (from python-dateutil>=2.7->matplotlib>=1.5.1->MDAnalysis) (1.17.0)\n"
          ]
        }
      ]
    },
    {
      "cell_type": "code",
      "source": [
        "!wget -O CH.airebo https://raw.githubusercontent.com/simongravelle/lammps-input-files/main/inputs/amorphous-carbon/CH.airebo\n",
        "# Download necessary files\n",
        "!wget -O PARM.lammps https://raw.githubusercontent.com/simongravelle/lammps-input-files/0e14b4b20a3ba8982e4b32c3a3574ecfe2f8f266/inputs/water-in-graphene-slit/PARM.lammps\n",
        "!wget -O data.lammps https://raw.githubusercontent.com/simongravelle/lammps-input-files/0e14b4b20a3ba8982e4b32c3a3574ecfe2f8f266/inputs/water-in-graphene-slit/data.lammps\n"
      ],
      "metadata": {
        "colab": {
          "base_uri": "https://localhost:8080/"
        },
        "id": "Noac8ZQ2t2Hx",
        "outputId": "d0846cba-89f7-4a4a-f8b7-05528bd2f46a"
      },
      "execution_count": 42,
      "outputs": [
        {
          "output_type": "stream",
          "name": "stdout",
          "text": [
            "--2025-01-13 00:04:42--  https://raw.githubusercontent.com/simongravelle/lammps-input-files/main/inputs/amorphous-carbon/CH.airebo\n",
            "Resolving raw.githubusercontent.com (raw.githubusercontent.com)... 185.199.108.133, 185.199.109.133, 185.199.110.133, ...\n",
            "Connecting to raw.githubusercontent.com (raw.githubusercontent.com)|185.199.108.133|:443... connected.\n",
            "HTTP request sent, awaiting response... 200 OK\n",
            "Length: 926693 (905K) [text/plain]\n",
            "Saving to: ‘CH.airebo’\n",
            "\n",
            "\rCH.airebo             0%[                    ]       0  --.-KB/s               \rCH.airebo           100%[===================>] 904.97K  --.-KB/s    in 0.04s   \n",
            "\n",
            "2025-01-13 00:04:42 (21.7 MB/s) - ‘CH.airebo’ saved [926693/926693]\n",
            "\n",
            "--2025-01-13 00:04:42--  https://raw.githubusercontent.com/simongravelle/lammps-input-files/0e14b4b20a3ba8982e4b32c3a3574ecfe2f8f266/inputs/water-in-graphene-slit/PARM.lammps\n",
            "Resolving raw.githubusercontent.com (raw.githubusercontent.com)... 185.199.108.133, 185.199.109.133, 185.199.110.133, ...\n",
            "Connecting to raw.githubusercontent.com (raw.githubusercontent.com)|185.199.108.133|:443... connected.\n",
            "HTTP request sent, awaiting response... 200 OK\n",
            "Length: 430 [text/plain]\n",
            "Saving to: ‘PARM.lammps’\n",
            "\n",
            "PARM.lammps         100%[===================>]     430  --.-KB/s    in 0s      \n",
            "\n",
            "2025-01-13 00:04:43 (35.0 MB/s) - ‘PARM.lammps’ saved [430/430]\n",
            "\n",
            "--2025-01-13 00:04:43--  https://raw.githubusercontent.com/simongravelle/lammps-input-files/0e14b4b20a3ba8982e4b32c3a3574ecfe2f8f266/inputs/water-in-graphene-slit/data.lammps\n",
            "Resolving raw.githubusercontent.com (raw.githubusercontent.com)... 185.199.110.133, 185.199.108.133, 185.199.111.133, ...\n",
            "Connecting to raw.githubusercontent.com (raw.githubusercontent.com)|185.199.110.133|:443... connected.\n",
            "HTTP request sent, awaiting response... 200 OK\n",
            "Length: 8083598 (7.7M) [text/plain]\n",
            "Saving to: ‘data.lammps’\n",
            "\n",
            "data.lammps         100%[===================>]   7.71M  --.-KB/s    in 0.06s   \n",
            "\n",
            "2025-01-13 00:04:43 (122 MB/s) - ‘data.lammps’ saved [8083598/8083598]\n",
            "\n"
          ]
        }
      ]
    },
    {
      "cell_type": "code",
      "source": [
        "# Save the activated carbon script\n",
        "with open(\"activated_carbon.in\", \"w\") as f:\n",
        "    f.write(\"\"\"\n",
        "# LAMMPS input file for water in 3-graphene slit\n",
        "# LAMMPS input file for water in 3-graphene slit\n",
        "variable    tem equal 300\n",
        "variable    frc equal 2e-4  # Force applied to water molecules\n",
        "\n",
        "units       real\n",
        "atom_style  full\n",
        "bond_style  harmonic\n",
        "angle_style harmonic\n",
        "dihedral_style opls\n",
        "improper_style harmonic\n",
        "boundary    p p p\n",
        "pair_style  lj/cut/tip4p/long 1 2 1 1 0.105 10.0\n",
        "kspace_style pppm/tip4p 1.0e-4\n",
        "pair_modify mix arithmetic tail yes\n",
        "special_bonds lj/coul 0.0 0.0 0.5 angle yes\n",
        "\n",
        "read_data   data.lammps  # Load atomistic structure\n",
        "include     PARM.lammps  # Load parameters\n",
        "\n",
        "group       wat type 1 2  # Define water molecule group\n",
        "group       Car type 3    # Define graphene group\n",
        "\n",
        "fix         myshk wat shake 1.0e-4 200 0 b 1 a 1\n",
        "fix         mynve all nve\n",
        "\n",
        "compute     ctN wat temp/partial 0 1 1\n",
        "fix         myber1 wat temp/berendsen ${tem} ${tem} 100\n",
        "fix_modify  myber1 temp ctN\n",
        "\n",
        "compute     ctM Car temp\n",
        "fix         myber2 Car temp/berendsen ${tem} ${tem} 100\n",
        "fix_modify  myber2 temp ctM\n",
        "\n",
        "fix         kick wat addforce ${frc} 0.0 0.0\n",
        "\n",
        "fix         mymum Car momentum 1 linear 1 1 1\n",
        "fix         myrec Car recenter NULL NULL INIT\n",
        "\n",
        "dump        dp1 all atom 100 dump.lammpstrj  # Output simulation data\n",
        "\n",
        "timestep    2.0\n",
        "thermo      100\n",
        "run         1000\n",
        "\n",
        "    \"\"\")"
      ],
      "metadata": {
        "id": "sYEfTOYxu6_6"
      },
      "execution_count": 47,
      "outputs": []
    },
    {
      "cell_type": "code",
      "source": [
        "# Run the simulation\n",
        "! /content/lammps/build/lmp -in activated_carbon.in"
      ],
      "metadata": {
        "colab": {
          "base_uri": "https://localhost:8080/"
        },
        "id": "bCdSZDv2wLkd",
        "outputId": "c11902b6-bc1e-4583-c8f0-0a691add099a"
      },
      "execution_count": 48,
      "outputs": [
        {
          "output_type": "stream",
          "name": "stdout",
          "text": [
            "LAMMPS (29 Aug 2024 - Update 1)\n",
            "  using 4 OpenMP thread(s) per MPI task\n",
            "Reading data file ...\n",
            "  orthogonal box = (-40.834065 -40.734952 -16.552289) to (40.834065 40.734952 16.552289)\n",
            "  1 by 1 by 1 MPI processor grid\n",
            "  reading atoms ...\n",
            "  22728 atoms\n",
            "  reading velocities ...\n",
            "  22728 velocities\n",
            "  scanning bonds ...\n",
            "  2 = max bonds/atom\n",
            "  scanning angles ...\n",
            "  3 = max angles/atom\n",
            "  scanning dihedrals ...\n",
            "  8 = max dihedrals/atom\n",
            "  scanning impropers ...\n",
            "  3 = max impropers/atom\n",
            "  orthogonal box = (-40.834065 -40.734952 -16.552289) to (40.834065 40.734952 16.552289)\n",
            "  1 by 1 by 1 MPI processor grid\n",
            "  reading bonds ...\n",
            "  27692 bonds\n",
            "  reading angles ...\n",
            "  47704 angles\n",
            "  reading dihedrals ...\n",
            "  90288 dihedrals\n",
            "  reading impropers ...\n",
            "  15150 impropers\n",
            "Finding 1-2 1-3 1-4 neighbors ...\n",
            "  special bond factors lj:    0        0        0.5     \n",
            "  special bond factors coul:  0        0        0.5     \n",
            "     3 = max # of 1-2 neighbors\n",
            "     6 = max # of 1-3 neighbors\n",
            "    18 = max # of 1-4 neighbors\n",
            "  95408 = # of 1-3 neighbors before angle trim\n",
            "  95408 = # of 1-3 neighbors after angle trim\n",
            "    18 = max # of special neighbors\n",
            "  special bonds CPU = 0.025 seconds\n",
            "  read_data CPU = 0.800 seconds\n",
            "7680 atoms in group wat\n",
            "15048 atoms in group Car\n",
            "Finding SHAKE clusters ...\n",
            "       0 = # of size 2 clusters\n",
            "       0 = # of size 3 clusters\n",
            "       0 = # of size 4 clusters\n",
            "    2560 = # of frozen angles\n",
            "  find clusters CPU = 0.006 seconds\n",
            "\n",
            "CITE-CITE-CITE-CITE-CITE-CITE-CITE-CITE-CITE-CITE-CITE-CITE-CITE\n",
            "\n",
            "Your simulation uses code contributions which should be cited:\n",
            "- Type Label Framework: https://doi.org/10.1021/acs.jpcb.3c08419\n",
            "The log file lists these citations in BibTeX format.\n",
            "\n",
            "CITE-CITE-CITE-CITE-CITE-CITE-CITE-CITE-CITE-CITE-CITE-CITE-CITE\n",
            "\n",
            "PPPM initialization ...\n",
            "  extracting TIP4P info from pair style\n",
            "  using 12-bit tables for long-range coulomb (src/kspace.cpp:342)\n",
            "  G vector (1/distance) = 0.25600054\n",
            "  grid = 36 36 18\n",
            "  stencil order = 5\n",
            "  estimated absolute RMS force accuracy = 0.025516713\n",
            "  estimated relative force accuracy = 7.6842823e-05\n",
            "  using double precision FFTW3\n",
            "  3d grid and FFT values/proc = 42025 23328\n",
            "WARNING: Communication cutoff 0 is shorter than a bond length based estimate of 5.195. This may lead to errors. (src/comm.cpp:730)\n",
            "WARNING: Increasing communication cutoff to 13.0622 for TIP4P pair style (src/KSPACE/pair_lj_cut_tip4p_long.cpp:497)\n",
            "Generated 3 of 3 mixed pair_coeff terms from arithmetic mixing rule\n",
            "Neighbor list info ...\n",
            "  update: every = 1 steps, delay = 0 steps, check = yes\n",
            "  max neighbors/atom: 2000, page size: 100000\n",
            "  master list distance cutoff = 12.21\n",
            "  ghost atom cutoff = 13.0622\n",
            "  binsize = 6.105, bins = 14 14 6\n",
            "  1 neighbor lists, perpetual/occasional/extra = 1 0 0\n",
            "  (1) pair lj/cut/tip4p/long, perpetual\n",
            "      attributes: half, newton on\n",
            "      pair build: half/bin/newton\n",
            "      stencil: half/bin/3d\n",
            "      bin: standard\n",
            "Setting up Verlet run ...\n",
            "  Unit style    : real\n",
            "  Current step  : 0\n",
            "  Time step     : 2\n",
            "WARNING: Inconsistent image flags (src/domain.cpp:1051)\n",
            "Per MPI rank memory allocation (min/avg/max) = 116.1 | 116.1 | 116.1 Mbytes\n",
            "   Step          Temp          E_pair         E_mol          TotEng         Press     \n",
            "         0   294.42915     -23547.193      14785.867      8937.987      -198.79907    \n",
            "       100   298.35429     -23515.444      14904.369      9324.1939     -313.21034    \n",
            "       200   299.40101     -23573.418      14997.608      9422.3812     -378.0934     \n",
            "       300   300.97464     -23672.491      15004.8        9425.0965     -428.20669    \n",
            "       400   298.9666      -23564.038      15022.984      9431.0227     -323.87447    \n",
            "       500   301.33421     -23690.25       14958.47       9382.6228     -478.303      \n",
            "       600   298.21944     -23713.386      15173.643      9387.4195     -934.97738    \n",
            "       700   299.46262     -23687.077      14995.683      9310.5012     -681.326      \n",
            "       800   299.39237     -23665.391      14971.156      9303.4365     -391.15876    \n",
            "       900   296.04978     -23603.753      15106.543      9299.5247     -511.87988    \n",
            "      1000   298.68051     -23646.237      15004.174      9312.8157     -425.97664    \n",
            "Loop time of 279.656 on 4 procs for 1000 steps with 22728 atoms\n",
            "\n",
            "Performance: 0.618 ns/day, 38.841 hours/ns, 3.576 timesteps/s, 81.271 katom-step/s\n",
            "99.2% CPU use with 1 MPI tasks x 4 OpenMP threads\n",
            "\n",
            "MPI task timing breakdown:\n",
            "Section |  min time  |  avg time  |  max time  |%varavg| %total\n",
            "---------------------------------------------------------------\n",
            "Pair    | 207.74     | 207.74     | 207.74     |   0.0 | 74.28\n",
            "Bond    | 24.348     | 24.348     | 24.348     |   0.0 |  8.71\n",
            "Kspace  | 14.994     | 14.994     | 14.994     |   0.0 |  5.36\n",
            "Neigh   | 29.696     | 29.696     | 29.696     |   0.0 | 10.62\n",
            "Comm    | 0.50652    | 0.50652    | 0.50652    |   0.0 |  0.18\n",
            "Output  | 0.22116    | 0.22116    | 0.22116    |   0.0 |  0.08\n",
            "Modify  | 1.8982     | 1.8982     | 1.8982     |   0.0 |  0.68\n",
            "Other   |            | 0.2519     |            |       |  0.09\n",
            "\n",
            "Nlocal:          22728 ave       22728 max       22728 min\n",
            "Histogram: 1 0 0 0 0 0 0 0 0 0\n",
            "Nghost:          49723 ave       49723 max       49723 min\n",
            "Histogram: 1 0 0 0 0 0 0 0 0 0\n",
            "Neighs:    8.92822e+06 ave 8.92822e+06 max 8.92822e+06 min\n",
            "Histogram: 1 0 0 0 0 0 0 0 0 0\n",
            "\n",
            "Total # of neighbors = 8928218\n",
            "Ave neighs/atom = 392.82902\n",
            "Ave special neighs/atom = 12.593453\n",
            "Neighbor list builds = 97\n",
            "Dangerous builds = 0\n",
            "Total wall time: 0:04:41\n"
          ]
        }
      ]
    }
  ],
  "metadata": {
    "accelerator": "GPU",
    "colab": {
      "gpuType": "T4",
      "provenance": [],
      "authorship_tag": "ABX9TyOPFYCp0sk0B/dcYIMJBCoi",
      "include_colab_link": true
    },
    "kernelspec": {
      "display_name": "Python 3",
      "name": "python3"
    },
    "language_info": {
      "name": "python"
    }
  },
  "nbformat": 4,
  "nbformat_minor": 0
}