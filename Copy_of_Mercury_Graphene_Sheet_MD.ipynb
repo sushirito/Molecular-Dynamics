{
  "cells": [
    {
      "cell_type": "markdown",
      "metadata": {
        "id": "view-in-github",
        "colab_type": "text"
      },
      "source": [
        "<a href=\"https://colab.research.google.com/github/sushirito/Molecular-Dynamics/blob/carbon-structures/Copy_of_Mercury_Graphene_Sheet_MD.ipynb\" target=\"_parent\"><img src=\"https://colab.research.google.com/assets/colab-badge.svg\" alt=\"Open In Colab\"/></a>"
      ]
    },
    {
      "cell_type": "markdown",
      "metadata": {
        "id": "NM0ACbQ-qVWQ"
      },
      "source": [
        "# Install dependencies and compile LAMMPS\n"
      ]
    },
    {
      "cell_type": "code",
      "execution_count": null,
      "metadata": {
        "id": "kuDTTQe4PSeF"
      },
      "outputs": [],
      "source": [
        "# Install dependencies and compile LAMMPS\n",
        "%%capture\n",
        "!apt-get update\n",
        "!apt-get install -y build-essential cmake libfftw3-dev libjpeg-dev libpng-dev \\\n",
        "                    libopenmpi-dev openmpi-bin python3-dev python3-numpy git\n",
        "# Clone the LAMMPS repository\n",
        "%cd /content\n",
        "!git clone -b stable https://github.com/lammps/lammps.git\n",
        "%cd lammps\n",
        "\n",
        "# Create a build directory and compile LAMMPS with required packages\n",
        "!mkdir build\n",
        "%cd build\n",
        "!cmake ../cmake -DBUILD_SHARED_LIBS=yes \\\n",
        "                -DLAMMPS_EXCEPTIONS=yes \\\n",
        "                -DPKG_MOLECULE=yes \\\n",
        "                -DPKG_KSPACE=yes \\\n",
        "                -DPKG_RIGID=yes \\\n",
        "                -DPKG_MANYBODY=yes \\\n",
        "                -DPKG_USER-MISC=yes \\\n",
        "                -DPKG_PYTHON=yes \\\n",
        "                -DPYTHON_EXECUTABLE=`which python3`\n",
        "!make -j4\n",
        "!make install-python\n",
        "\n",
        "# Return to the working directory\n",
        "%cd /content/"
      ]
    },
    {
      "cell_type": "code",
      "execution_count": null,
      "metadata": {
        "id": "ifGGI8DH3Cn5"
      },
      "outputs": [],
      "source": [
        "import os\n",
        "os.environ[\"OMP_NUM_THREADS\"] = \"4\""
      ]
    },
    {
      "cell_type": "code",
      "source": [
        "!pip install MDAnalysis\n",
        "\n",
        "import numpy as np\n",
        "import MDAnalysis as mda\n",
        "from MDAnalysis.lib.util import openany\n",
        "from MDAnalysis.analysis.rdf import InterRDF\n",
        "import matplotlib.pyplot as plt\n",
        "from scipy.spatial import cKDTree\n",
        "from scipy.optimize import curve_fit\n",
        "from scipy.signal import find_peaks\n",
        "import math, sys, os\n",
        "\n",
        "np.random.seed(42)"
      ],
      "metadata": {
        "colab": {
          "base_uri": "https://localhost:8080/"
        },
        "id": "mFZKl6c4oTdM",
        "outputId": "c8194cac-7a1f-455f-ce3f-31d766e59855"
      },
      "execution_count": null,
      "outputs": [
        {
          "output_type": "stream",
          "name": "stdout",
          "text": [
            "Requirement already satisfied: MDAnalysis in /usr/local/lib/python3.10/dist-packages (2.8.0)\n",
            "Requirement already satisfied: numpy>=1.23.2 in /usr/local/lib/python3.10/dist-packages (from MDAnalysis) (1.26.4)\n",
            "Requirement already satisfied: GridDataFormats>=0.4.0 in /usr/local/lib/python3.10/dist-packages (from MDAnalysis) (1.0.2)\n",
            "Requirement already satisfied: mmtf-python>=1.0.0 in /usr/local/lib/python3.10/dist-packages (from MDAnalysis) (1.1.3)\n",
            "Requirement already satisfied: joblib>=0.12 in /usr/local/lib/python3.10/dist-packages (from MDAnalysis) (1.4.2)\n",
            "Requirement already satisfied: scipy>=1.5.0 in /usr/local/lib/python3.10/dist-packages (from MDAnalysis) (1.13.1)\n",
            "Requirement already satisfied: matplotlib>=1.5.1 in /usr/local/lib/python3.10/dist-packages (from MDAnalysis) (3.10.0)\n",
            "Requirement already satisfied: tqdm>=4.43.0 in /usr/local/lib/python3.10/dist-packages (from MDAnalysis) (4.67.1)\n",
            "Requirement already satisfied: threadpoolctl in /usr/local/lib/python3.10/dist-packages (from MDAnalysis) (3.5.0)\n",
            "Requirement already satisfied: packaging in /usr/local/lib/python3.10/dist-packages (from MDAnalysis) (24.2)\n",
            "Requirement already satisfied: fasteners in /usr/local/lib/python3.10/dist-packages (from MDAnalysis) (0.19)\n",
            "Requirement already satisfied: mda-xdrlib in /usr/local/lib/python3.10/dist-packages (from MDAnalysis) (0.2.0)\n",
            "Requirement already satisfied: waterdynamics in /usr/local/lib/python3.10/dist-packages (from MDAnalysis) (1.2.0)\n",
            "Requirement already satisfied: pathsimanalysis in /usr/local/lib/python3.10/dist-packages (from MDAnalysis) (1.2.0)\n",
            "Requirement already satisfied: mdahole2 in /usr/local/lib/python3.10/dist-packages (from MDAnalysis) (0.5.0)\n",
            "Requirement already satisfied: mrcfile in /usr/local/lib/python3.10/dist-packages (from GridDataFormats>=0.4.0->MDAnalysis) (1.5.3)\n",
            "Requirement already satisfied: contourpy>=1.0.1 in /usr/local/lib/python3.10/dist-packages (from matplotlib>=1.5.1->MDAnalysis) (1.3.1)\n",
            "Requirement already satisfied: cycler>=0.10 in /usr/local/lib/python3.10/dist-packages (from matplotlib>=1.5.1->MDAnalysis) (0.12.1)\n",
            "Requirement already satisfied: fonttools>=4.22.0 in /usr/local/lib/python3.10/dist-packages (from matplotlib>=1.5.1->MDAnalysis) (4.55.3)\n",
            "Requirement already satisfied: kiwisolver>=1.3.1 in /usr/local/lib/python3.10/dist-packages (from matplotlib>=1.5.1->MDAnalysis) (1.4.8)\n",
            "Requirement already satisfied: pillow>=8 in /usr/local/lib/python3.10/dist-packages (from matplotlib>=1.5.1->MDAnalysis) (11.1.0)\n",
            "Requirement already satisfied: pyparsing>=2.3.1 in /usr/local/lib/python3.10/dist-packages (from matplotlib>=1.5.1->MDAnalysis) (3.2.1)\n",
            "Requirement already satisfied: python-dateutil>=2.7 in /usr/local/lib/python3.10/dist-packages (from matplotlib>=1.5.1->MDAnalysis) (2.8.2)\n",
            "Requirement already satisfied: msgpack>=1.0.0 in /usr/local/lib/python3.10/dist-packages (from mmtf-python>=1.0.0->MDAnalysis) (1.1.0)\n",
            "Requirement already satisfied: six>=1.5 in /usr/local/lib/python3.10/dist-packages (from python-dateutil>=2.7->matplotlib>=1.5.1->MDAnalysis) (1.17.0)\n"
          ]
        }
      ]
    },
    {
      "cell_type": "code",
      "source": [
        "!wget -O CH.airebo https://raw.githubusercontent.com/simongravelle/lammps-input-files/main/inputs/amorphous-carbon/CH.airebo"
      ],
      "metadata": {
        "colab": {
          "base_uri": "https://localhost:8080/"
        },
        "id": "Noac8ZQ2t2Hx",
        "outputId": "c6362a3e-2628-4cea-f393-80deabb232f9"
      },
      "execution_count": null,
      "outputs": [
        {
          "output_type": "stream",
          "name": "stdout",
          "text": [
            "--2025-01-12 22:56:27--  https://raw.githubusercontent.com/simongravelle/lammps-input-files/main/inputs/amorphous-carbon/CH.airebo\n",
            "Resolving raw.githubusercontent.com (raw.githubusercontent.com)... 185.199.110.133, 185.199.109.133, 185.199.111.133, ...\n",
            "Connecting to raw.githubusercontent.com (raw.githubusercontent.com)|185.199.110.133|:443... connected.\n",
            "HTTP request sent, awaiting response... 200 OK\n",
            "Length: 926693 (905K) [text/plain]\n",
            "Saving to: ‘CH.airebo’\n",
            "\n",
            "CH.airebo           100%[===================>] 904.97K  --.-KB/s    in 0.04s   \n",
            "\n",
            "2025-01-12 22:56:27 (21.9 MB/s) - ‘CH.airebo’ saved [926693/926693]\n",
            "\n"
          ]
        }
      ]
    },
    {
      "cell_type": "code",
      "source": [
        "# Save the activated carbon script\n",
        "with open(\"activated_carbon.in\", \"w\") as f:\n",
        "    f.write(\"\"\"\n",
        "# This LAMMPS input script simulates the formation of amorphous carbon structure\n",
        "# Units and setup\n",
        "units metal\n",
        "atom_style full\n",
        "boundary p p p\n",
        "pair_style airebo 2.5 1 1\n",
        "\n",
        "# Create box and atoms\n",
        "region box block -20 20 -20 20 -20 20\n",
        "create_box 1 box\n",
        "create_atoms 1 random 5000 45287 box\n",
        "\n",
        "# Force field\n",
        "mass 1 12.0107\n",
        "pair_coeff * * CH.airebo C\n",
        "\n",
        "# Energy minimization\n",
        "thermo 10\n",
        "minimize 1.0e-4 1.0e-6 100 1000\n",
        "reset_timestep 0\n",
        "\n",
        "# Initial velocities and NVT fix\n",
        "velocity all create 10000 49284 mom yes rot yes dist gaussian\n",
        "fix mynvt all nvt temp 10000 4000 0.1\n",
        "timestep 0.0005\n",
        "\n",
        "# Dumps and thermo\n",
        "dump mydump all atom 10000 dump.lammpstrj\n",
        "thermo 1000\n",
        "\n",
        "# First run: Decrease temperature\n",
        "run 100000\n",
        "\n",
        "# Further steps\n",
        "fix mynvt all nvt temp 4000 4000 0.1\n",
        "run 500000\n",
        "\n",
        "fix mynvt all nvt temp 4000 3000 0.1\n",
        "run 500000\n",
        "\n",
        "fix mynvt all nvt temp 3000 300 0.1\n",
        "run 100000\n",
        "\n",
        "fix mynvt all nvt temp 300 300 0.1\n",
        "run 10000\n",
        "\n",
        "# Save final state\n",
        "write_data final_state.data\n",
        "    \"\"\")"
      ],
      "metadata": {
        "id": "sYEfTOYxu6_6"
      },
      "execution_count": null,
      "outputs": []
    },
    {
      "cell_type": "code",
      "source": [
        "# Run the simulation\n",
        "! /content/lammps/build/lmp -in activated_carbon.in"
      ],
      "metadata": {
        "colab": {
          "base_uri": "https://localhost:8080/"
        },
        "id": "bCdSZDv2wLkd",
        "outputId": "a1d84b06-892c-4367-a2b4-47fae9d29945"
      },
      "execution_count": null,
      "outputs": [
        {
          "output_type": "stream",
          "name": "stdout",
          "text": [
            "LAMMPS (29 Aug 2024 - Update 1)\n",
            "  using 4 OpenMP thread(s) per MPI task\n",
            "Created orthogonal box = (-20 -20 -20) to (20 20 20)\n",
            "  1 by 1 by 1 MPI processor grid\n",
            "Created 5000 atoms\n",
            "  using lattice units in orthogonal box = (-20 -20 -20) to (20 20 20)\n",
            "  create_atoms CPU = 0.002 seconds\n",
            "Reading airebo potential file CH.airebo with DATE: 2011-10-25\n",
            "Neighbor list info ...\n",
            "  update: every = 1 steps, delay = 0 steps, check = yes\n",
            "  max neighbors/atom: 2000, page size: 100000\n",
            "  master list distance cutoff = 10.5\n",
            "  ghost atom cutoff = 10.5\n",
            "  binsize = 5.25, bins = 8 8 8\n",
            "  1 neighbor lists, perpetual/occasional/extra = 1 0 0\n",
            "  (1) pair airebo, perpetual\n",
            "      attributes: full, newton on, ghost\n",
            "      pair build: full/bin/ghost\n",
            "      stencil: full/ghost/bin/3d\n",
            "      bin: standard\n",
            "Setting up cg style minimization ...\n",
            "  Unit style    : metal\n",
            "  Current step  : 0\n",
            "Per MPI rank memory allocation (min/avg/max) = 28.97 | 28.97 | 28.97 Mbytes\n",
            "   Step          Temp          E_pair         E_mol          TotEng         Press     \n",
            "         0   0              362034.54      0              362034.54      13444621     \n",
            "        10   0             -180.8807       0             -180.8807       1450519.3    \n",
            "        20   0             -15763.707      0             -15763.707      299290.05    \n",
            "        30   0             -18822.316      0             -18822.316      90267.659    \n",
            "        40   0             -20409.529      0             -20409.529      46901.716    \n",
            "        50   0             -21520.479      0             -21520.479      67233.226    \n",
            "        60   0             -22260.834      0             -22260.834      58512.023    \n",
            "        70   0             -22881.646      0             -22881.646      58274.319    \n",
            "        80   0             -23366.032      0             -23366.032      48228.425    \n",
            "        90   0             -23637.768      0             -23637.768      47142.439    \n",
            "       100   0             -23898.71       0             -23898.71       49122.597    \n",
            "Loop time of 15.8012 on 4 procs for 100 steps with 5000 atoms\n",
            "\n",
            "99.3% CPU use with 1 MPI tasks x 4 OpenMP threads\n",
            "\n",
            "Minimization stats:\n",
            "  Stopping criterion = max iterations\n",
            "  Energy initial, next-to-last, final = \n",
            "      362034.544652616  -23885.2336210024  -23898.7104480954\n",
            "  Force two-norm initial, final = 548624.94 244.47336\n",
            "  Force max component initial, final = 195703.31 73.280113\n",
            "  Final line search alpha, max atom move = 0.00066645555 0.048837938\n",
            "  Iterations, force evaluations = 100 116\n",
            "\n",
            "MPI task timing breakdown:\n",
            "Section |  min time  |  avg time  |  max time  |%varavg| %total\n",
            "---------------------------------------------------------------\n",
            "Pair    | 15.536     | 15.536     | 15.536     |   0.0 | 98.32\n",
            "Bond    | 4.4116e-05 | 4.4116e-05 | 4.4116e-05 |   0.0 |  0.00\n",
            "Neigh   | 0.2287     | 0.2287     | 0.2287     |   0.0 |  1.45\n",
            "Comm    | 0.010695   | 0.010695   | 0.010695   |   0.0 |  0.07\n",
            "Output  | 0.00073793 | 0.00073793 | 0.00073793 |   0.0 |  0.00\n",
            "Modify  | 0          | 0          | 0          |   0.0 |  0.00\n",
            "Other   |            | 0.02493    |            |       |  0.16\n",
            "\n",
            "Nlocal:           5000 ave        5000 max        5000 min\n",
            "Histogram: 1 0 0 0 0 0 0 0 0 0\n",
            "Nghost:          12867 ave       12867 max       12867 min\n",
            "Histogram: 1 0 0 0 0 0 0 0 0 0\n",
            "Neighs:              0 ave           0 max           0 min\n",
            "Histogram: 1 0 0 0 0 0 0 0 0 0\n",
            "FullNghs:  1.89753e+06 ave 1.89753e+06 max 1.89753e+06 min\n",
            "Histogram: 1 0 0 0 0 0 0 0 0 0\n",
            "\n",
            "Total # of neighbors = 1897528\n",
            "Ave neighs/atom = 379.5056\n",
            "Ave special neighs/atom = 0\n",
            "Neighbor list builds = 2\n",
            "Dangerous builds = 0\n",
            "Setting up Verlet run ...\n",
            "  Unit style    : metal\n",
            "  Current step  : 0\n",
            "  Time step     : 0.0005\n",
            "Per MPI rank memory allocation (min/avg/max) = 26.72 | 26.72 | 26.72 Mbytes\n",
            "   Step          Temp          E_pair         E_mol          TotEng         Press     \n",
            "         0   10000         -23898.71       0             -17436.996      156964.34    \n",
            "      1000   10222.486     -24613.087      0             -18007.608      52567.328    \n",
            "      2000   9788.718      -24966.752      0             -18641.562      59500.819    \n",
            "      3000   9946.2217     -24882.497      0             -18455.533      47710.322    \n",
            "      4000   9968.65       -24953.23       0             -18511.773      52017.284    \n",
            "      5000   9785.7265     -25096.943      0             -18773.685      45900.3      \n",
            "      6000   9667.8741     -24978.183      0             -18731.079      50096.839    \n",
            "      7000   9706.1652     -25103.057      0             -18831.21       58614.489    \n",
            "      8000   9772.9437     -25072.745      0             -18757.748      56916.264    \n",
            "      9000   9539.2122     -25082.674      0             -18918.707      53552.758    \n",
            "     10000   9354.9707     -25168.378      0             -19123.463      56288.91     \n",
            "     11000   9406.2124     -25211.744      0             -19133.718      41355.799    \n",
            "     12000   9460.7195     -25325.434      0             -19212.187      51809.049    \n",
            "^C\n"
          ]
        }
      ]
    }
  ],
  "metadata": {
    "accelerator": "GPU",
    "colab": {
      "gpuType": "T4",
      "provenance": [],
      "authorship_tag": "ABX9TyN95GAr4GI0Cu2HucUN4gAg",
      "include_colab_link": true
    },
    "kernelspec": {
      "display_name": "Python 3",
      "name": "python3"
    },
    "language_info": {
      "name": "python"
    }
  },
  "nbformat": 4,
  "nbformat_minor": 0
}