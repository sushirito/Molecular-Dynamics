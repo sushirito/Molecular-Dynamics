{
  "nbformat": 4,
  "nbformat_minor": 0,
  "metadata": {
    "colab": {
      "provenance": [],
      "authorship_tag": "ABX9TyMS0BNFtGGOveTmIbxsBB3d",
      "include_colab_link": true
    },
    "kernelspec": {
      "name": "python3",
      "display_name": "Python 3"
    },
    "language_info": {
      "name": "python"
    }
  },
  "cells": [
    {
      "cell_type": "markdown",
      "metadata": {
        "id": "view-in-github",
        "colab_type": "text"
      },
      "source": [
        "<a href=\"https://colab.research.google.com/github/sushirito/Molecular-Dynamics/blob/OpenMM/OpenMM_Scripting.ipynb\" target=\"_parent\"><img src=\"https://colab.research.google.com/assets/colab-badge.svg\" alt=\"Open In Colab\"/></a>"
      ]
    },
    {
      "cell_type": "markdown",
      "source": [
        "##**NOTE**: Code must be run twice to work"
      ],
      "metadata": {
        "id": "yBSZvmHQiB9g"
      }
    },
    {
      "cell_type": "code",
      "source": [
        "!pip install -q condacolab\n",
        "import condacolab\n",
        "condacolab.install()  # Will restart the runtime; re-run after restart\n",
        "\n",
        "!mamba install -c conda-forge ambertools -y"
      ],
      "metadata": {
        "colab": {
          "base_uri": "https://localhost:8080/"
        },
        "id": "oqbtMyFtgyCD",
        "outputId": "f7a5ff66-d162-4829-e176-7580b591fd1e"
      },
      "execution_count": 2,
      "outputs": [
        {
          "output_type": "stream",
          "name": "stdout",
          "text": [
            "✨🍰✨ Everything looks OK!\n",
            "\n",
            "Looking for: ['ambertools']\n",
            "\n",
            "conda-forge/linux-64                                        Using cache\n",
            "conda-forge/noarch                                          Using cache\n",
            "\n",
            "Pinned packages:\n",
            "  - python 3.11.*\n",
            "  - python 3.11.*\n",
            "  - python_abi 3.11.* *cp311*\n",
            "  - cuda-version 12.*\n",
            "\n",
            "\n",
            "Transaction\n",
            "\n",
            "  Prefix: /usr/local\n",
            "\n",
            "  All requested packages already installed\n",
            "\n",
            "\u001b[?25l\u001b[2K\u001b[0G\u001b[?25h"
          ]
        }
      ]
    },
    {
      "cell_type": "code",
      "source": [
        "!git clone https://github.com/Iourarum/GOPY.git\n",
        "%cd GOPY\n",
        "!python GOPY.py generate_PG 10 10 graphene.pdb\n",
        "!python GOPY.py generate_GO graphene.pdb 2 4 8 functionalized.pdb\n"
      ],
      "metadata": {
        "colab": {
          "base_uri": "https://localhost:8080/"
        },
        "id": "80uHRuxNgyyN",
        "outputId": "6fe378b4-ccb0-4bf1-f573-7c37aa314a76"
      },
      "execution_count": 3,
      "outputs": [
        {
          "output_type": "stream",
          "name": "stdout",
          "text": [
            "Cloning into 'GOPY'...\n",
            "remote: Enumerating objects: 197, done.\u001b[K\n",
            "remote: Counting objects: 100% (47/47), done.\u001b[K\n",
            "remote: Compressing objects: 100% (29/29), done.\u001b[K\n",
            "remote: Total 197 (delta 39), reused 18 (delta 18), pack-reused 150 (from 1)\u001b[K\n",
            "Receiving objects: 100% (197/197), 9.50 MiB | 16.66 MiB/s, done.\n",
            "Resolving deltas: 100% (99/99), done.\n",
            "/content/GOPY/GOPY\n",
            "done.\n",
            "GOPY.py\n",
            "generate_GO\n",
            "graphene.pdb\n",
            "2\n",
            "4\n",
            "8\n",
            "functionalized.pdb\n",
            "Left to add:  cooh:  2 epoxy:  4 hydroxyl:  8\n",
            "Left to add:  cooh:  2 epoxy:  3 hydroxyl:  8\n",
            "Left to add:  cooh:  1 epoxy:  3 hydroxyl:  8\n",
            "Left to add:  cooh:  0 epoxy:  3 hydroxyl:  8\n",
            "Left to add:  cooh:  0 epoxy:  3 hydroxyl:  7\n",
            "Left to add:  cooh:  0 epoxy:  3 hydroxyl:  6\n",
            "Left to add:  cooh:  0 epoxy:  2 hydroxyl:  6\n",
            "Left to add:  cooh:  0 epoxy:  1 hydroxyl:  6\n",
            "Left to add:  cooh:  0 epoxy:  0 hydroxyl:  6\n",
            "Left to add:  cooh:  0 epoxy:  0 hydroxyl:  5\n",
            "Left to add:  cooh:  0 epoxy:  0 hydroxyl:  4\n",
            "Left to add:  cooh:  0 epoxy:  0 hydroxyl:  3\n",
            "Left to add:  cooh:  0 epoxy:  0 hydroxyl:  2\n",
            "Left to add:  cooh:  0 epoxy:  0 hydroxyl:  1\n",
            "Placed:\n",
            "carboxyl:  2.0\n",
            "epoxy:  4.0\n",
            "hydroxyl:  8.0\n",
            "graphene atoms (CX - GGG) left:  32\n"
          ]
        }
      ]
    },
    {
      "cell_type": "code",
      "source": [
        "!wget https://raw.githubusercontent.com/Iourarum/GOPY/master/GO_tutorial/GGG.lib\n",
        "!wget https://raw.githubusercontent.com/Iourarum/GOPY/master/GO_tutorial/C1A.lib\n",
        "!wget https://raw.githubusercontent.com/Iourarum/GOPY/master/GO_tutorial/E1A.lib\n",
        "!wget https://raw.githubusercontent.com/Iourarum/GOPY/master/GO_tutorial/H1A.lib\n",
        "!mkdir -p FRCMOD\n",
        "!wget -P FRCMOD https://raw.githubusercontent.com/Iourarum/GOPY/master/GO_tutorial/FRCMOD/GO.frcmod"
      ],
      "metadata": {
        "colab": {
          "base_uri": "https://localhost:8080/"
        },
        "id": "xkUuAHbpg2ew",
        "outputId": "7ba808ef-f7f7-4c67-a60c-894e0cedb089"
      },
      "execution_count": 4,
      "outputs": [
        {
          "output_type": "stream",
          "name": "stdout",
          "text": [
            "--2025-01-21 23:30:11--  https://raw.githubusercontent.com/Iourarum/GOPY/master/GO_tutorial/GGG.lib\n",
            "Resolving raw.githubusercontent.com (raw.githubusercontent.com)... 185.199.111.133, 185.199.108.133, 185.199.110.133, ...\n",
            "Connecting to raw.githubusercontent.com (raw.githubusercontent.com)|185.199.111.133|:443... connected.\n",
            "HTTP request sent, awaiting response... 200 OK\n",
            "Length: 1063 (1.0K) [text/plain]\n",
            "Saving to: ‘GGG.lib’\n",
            "\n",
            "\rGGG.lib               0%[                    ]       0  --.-KB/s               \rGGG.lib             100%[===================>]   1.04K  --.-KB/s    in 0s      \n",
            "\n",
            "2025-01-21 23:30:12 (58.9 MB/s) - ‘GGG.lib’ saved [1063/1063]\n",
            "\n",
            "--2025-01-21 23:30:12--  https://raw.githubusercontent.com/Iourarum/GOPY/master/GO_tutorial/C1A.lib\n",
            "Resolving raw.githubusercontent.com (raw.githubusercontent.com)... 185.199.111.133, 185.199.110.133, 185.199.109.133, ...\n",
            "Connecting to raw.githubusercontent.com (raw.githubusercontent.com)|185.199.111.133|:443... connected.\n",
            "HTTP request sent, awaiting response... 200 OK\n",
            "Length: 1627 (1.6K) [text/plain]\n",
            "Saving to: ‘C1A.lib’\n",
            "\n",
            "C1A.lib             100%[===================>]   1.59K  --.-KB/s    in 0s      \n",
            "\n",
            "2025-01-21 23:30:12 (15.8 MB/s) - ‘C1A.lib’ saved [1627/1627]\n",
            "\n",
            "--2025-01-21 23:30:12--  https://raw.githubusercontent.com/Iourarum/GOPY/master/GO_tutorial/E1A.lib\n",
            "Resolving raw.githubusercontent.com (raw.githubusercontent.com)... 185.199.111.133, 185.199.110.133, 185.199.108.133, ...\n",
            "Connecting to raw.githubusercontent.com (raw.githubusercontent.com)|185.199.111.133|:443... connected.\n",
            "HTTP request sent, awaiting response... 200 OK\n",
            "Length: 1398 (1.4K) [text/plain]\n",
            "Saving to: ‘E1A.lib’\n",
            "\n",
            "E1A.lib             100%[===================>]   1.37K  --.-KB/s    in 0s      \n",
            "\n",
            "2025-01-21 23:30:12 (18.7 MB/s) - ‘E1A.lib’ saved [1398/1398]\n",
            "\n",
            "--2025-01-21 23:30:12--  https://raw.githubusercontent.com/Iourarum/GOPY/master/GO_tutorial/H1A.lib\n",
            "Resolving raw.githubusercontent.com (raw.githubusercontent.com)... 185.199.111.133, 185.199.110.133, 185.199.108.133, ...\n",
            "Connecting to raw.githubusercontent.com (raw.githubusercontent.com)|185.199.111.133|:443... connected.\n",
            "HTTP request sent, awaiting response... 200 OK\n",
            "Length: 1392 (1.4K) [text/plain]\n",
            "Saving to: ‘H1A.lib’\n",
            "\n",
            "H1A.lib             100%[===================>]   1.36K  --.-KB/s    in 0s      \n",
            "\n",
            "2025-01-21 23:30:13 (20.7 MB/s) - ‘H1A.lib’ saved [1392/1392]\n",
            "\n",
            "--2025-01-21 23:30:13--  https://raw.githubusercontent.com/Iourarum/GOPY/master/GO_tutorial/FRCMOD/GO.frcmod\n",
            "Resolving raw.githubusercontent.com (raw.githubusercontent.com)... 185.199.111.133, 185.199.108.133, 185.199.110.133, ...\n",
            "Connecting to raw.githubusercontent.com (raw.githubusercontent.com)|185.199.111.133|:443... connected.\n",
            "HTTP request sent, awaiting response... 200 OK\n",
            "Length: 9906 (9.7K) [text/plain]\n",
            "Saving to: ‘FRCMOD/GO.frcmod’\n",
            "\n",
            "GO.frcmod           100%[===================>]   9.67K  --.-KB/s    in 0s      \n",
            "\n",
            "2025-01-21 23:30:13 (75.1 MB/s) - ‘FRCMOD/GO.frcmod’ saved [9906/9906]\n",
            "\n"
          ]
        }
      ]
    },
    {
      "cell_type": "code",
      "source": [
        "!pip install openmm\n",
        "!pip install MDAnalysis"
      ],
      "metadata": {
        "colab": {
          "base_uri": "https://localhost:8080/"
        },
        "id": "9JTCiY1MzTR-",
        "outputId": "78a8b255-d157-4670-ce32-f71c9de66aa1"
      },
      "execution_count": 5,
      "outputs": [
        {
          "output_type": "stream",
          "name": "stdout",
          "text": [
            "Collecting openmm\n",
            "  Downloading OpenMM-8.2.0-cp311-cp311-manylinux_2_27_x86_64.manylinux_2_28_x86_64.whl.metadata (844 bytes)\n",
            "Requirement already satisfied: numpy in /usr/local/lib/python3.11/site-packages (from openmm) (1.26.4)\n",
            "Downloading OpenMM-8.2.0-cp311-cp311-manylinux_2_27_x86_64.manylinux_2_28_x86_64.whl (12.3 MB)\n",
            "\u001b[2K   \u001b[90m━━━━━━━━━━━━━━━━━━━━━━━━━━━━━━━━━━━━━━━━\u001b[0m \u001b[32m12.3/12.3 MB\u001b[0m \u001b[31m58.0 MB/s\u001b[0m eta \u001b[36m0:00:00\u001b[0m\n",
            "\u001b[?25hInstalling collected packages: openmm\n",
            "Successfully installed openmm-8.2.0\n",
            "Collecting MDAnalysis\n",
            "  Downloading MDAnalysis-2.8.0-cp311-cp311-manylinux_2_17_x86_64.manylinux2014_x86_64.whl.metadata (108 kB)\n",
            "Requirement already satisfied: numpy>=1.23.2 in /usr/local/lib/python3.11/site-packages (from MDAnalysis) (1.26.4)\n",
            "Collecting GridDataFormats>=0.4.0 (from MDAnalysis)\n",
            "  Downloading GridDataFormats-1.0.2-py3-none-any.whl.metadata (4.9 kB)\n",
            "Collecting mmtf-python>=1.0.0 (from MDAnalysis)\n",
            "  Downloading mmtf_python-1.1.3-py2.py3-none-any.whl.metadata (1.2 kB)\n",
            "Requirement already satisfied: joblib>=0.12 in /usr/local/lib/python3.11/site-packages (from MDAnalysis) (1.4.2)\n",
            "Requirement already satisfied: scipy>=1.5.0 in /usr/local/lib/python3.11/site-packages (from MDAnalysis) (1.15.1)\n",
            "Requirement already satisfied: matplotlib>=1.5.1 in /usr/local/lib/python3.11/site-packages (from MDAnalysis) (3.10.0)\n",
            "Requirement already satisfied: tqdm>=4.43.0 in /usr/local/lib/python3.11/site-packages (from MDAnalysis) (4.67.1)\n",
            "Collecting threadpoolctl (from MDAnalysis)\n",
            "  Downloading threadpoolctl-3.5.0-py3-none-any.whl.metadata (13 kB)\n",
            "Requirement already satisfied: packaging in /usr/local/lib/python3.11/site-packages (from MDAnalysis) (24.2)\n",
            "Collecting fasteners (from MDAnalysis)\n",
            "  Downloading fasteners-0.19-py3-none-any.whl.metadata (4.9 kB)\n",
            "Collecting mda-xdrlib (from MDAnalysis)\n",
            "  Downloading mda_xdrlib-0.2.0-py3-none-any.whl.metadata (19 kB)\n",
            "Collecting waterdynamics (from MDAnalysis)\n",
            "  Downloading waterdynamics-1.2.0-py3-none-any.whl.metadata (37 kB)\n",
            "Collecting pathsimanalysis (from MDAnalysis)\n",
            "  Downloading pathsimanalysis-1.2.0-py3-none-any.whl.metadata (37 kB)\n",
            "Collecting mdahole2 (from MDAnalysis)\n",
            "  Downloading mdahole2-0.5.0-py3-none-any.whl.metadata (36 kB)\n",
            "Collecting mrcfile (from GridDataFormats>=0.4.0->MDAnalysis)\n",
            "  Downloading mrcfile-1.5.3-py2.py3-none-any.whl.metadata (6.9 kB)\n",
            "Requirement already satisfied: contourpy>=1.0.1 in /usr/local/lib/python3.11/site-packages (from matplotlib>=1.5.1->MDAnalysis) (1.3.1)\n",
            "Requirement already satisfied: cycler>=0.10 in /usr/local/lib/python3.11/site-packages (from matplotlib>=1.5.1->MDAnalysis) (0.12.1)\n",
            "Requirement already satisfied: fonttools>=4.22.0 in /usr/local/lib/python3.11/site-packages (from matplotlib>=1.5.1->MDAnalysis) (4.55.4)\n",
            "Requirement already satisfied: kiwisolver>=1.3.1 in /usr/local/lib/python3.11/site-packages (from matplotlib>=1.5.1->MDAnalysis) (1.4.7)\n",
            "Requirement already satisfied: pillow>=8 in /usr/local/lib/python3.11/site-packages (from matplotlib>=1.5.1->MDAnalysis) (11.1.0)\n",
            "Requirement already satisfied: pyparsing>=2.3.1 in /usr/local/lib/python3.11/site-packages (from matplotlib>=1.5.1->MDAnalysis) (3.2.1)\n",
            "Requirement already satisfied: python-dateutil>=2.7 in /usr/local/lib/python3.11/site-packages (from matplotlib>=1.5.1->MDAnalysis) (2.9.0.post0)\n",
            "Collecting msgpack>=1.0.0 (from mmtf-python>=1.0.0->MDAnalysis)\n",
            "  Downloading msgpack-1.1.0-cp311-cp311-manylinux_2_17_x86_64.manylinux2014_x86_64.whl.metadata (8.4 kB)\n",
            "Requirement already satisfied: six>=1.5 in /usr/local/lib/python3.11/site-packages (from python-dateutil>=2.7->matplotlib>=1.5.1->MDAnalysis) (1.17.0)\n",
            "Downloading MDAnalysis-2.8.0-cp311-cp311-manylinux_2_17_x86_64.manylinux2014_x86_64.whl (13.0 MB)\n",
            "\u001b[2K   \u001b[90m━━━━━━━━━━━━━━━━━━━━━━━━━━━━━━━━━━━━━━━━\u001b[0m \u001b[32m13.0/13.0 MB\u001b[0m \u001b[31m77.7 MB/s\u001b[0m eta \u001b[36m0:00:00\u001b[0m\n",
            "\u001b[?25hDownloading GridDataFormats-1.0.2-py3-none-any.whl (2.1 MB)\n",
            "\u001b[2K   \u001b[90m━━━━━━━━━━━━━━━━━━━━━━━━━━━━━━━━━━━━━━━━\u001b[0m \u001b[32m2.1/2.1 MB\u001b[0m \u001b[31m63.3 MB/s\u001b[0m eta \u001b[36m0:00:00\u001b[0m\n",
            "\u001b[?25hDownloading mmtf_python-1.1.3-py2.py3-none-any.whl (25 kB)\n",
            "Downloading fasteners-0.19-py3-none-any.whl (18 kB)\n",
            "Downloading mda_xdrlib-0.2.0-py3-none-any.whl (14 kB)\n",
            "Downloading mdahole2-0.5.0-py3-none-any.whl (3.7 MB)\n",
            "\u001b[2K   \u001b[90m━━━━━━━━━━━━━━━━━━━━━━━━━━━━━━━━━━━━━━━━\u001b[0m \u001b[32m3.7/3.7 MB\u001b[0m \u001b[31m68.8 MB/s\u001b[0m eta \u001b[36m0:00:00\u001b[0m\n",
            "\u001b[?25hDownloading pathsimanalysis-1.2.0-py3-none-any.whl (48 kB)\n",
            "Downloading threadpoolctl-3.5.0-py3-none-any.whl (18 kB)\n",
            "Downloading waterdynamics-1.2.0-py3-none-any.whl (35 kB)\n",
            "Downloading msgpack-1.1.0-cp311-cp311-manylinux_2_17_x86_64.manylinux2014_x86_64.whl (403 kB)\n",
            "Downloading mrcfile-1.5.3-py2.py3-none-any.whl (44 kB)\n",
            "Installing collected packages: threadpoolctl, msgpack, mrcfile, mda-xdrlib, fasteners, mmtf-python, GridDataFormats, waterdynamics, pathsimanalysis, mdahole2, MDAnalysis\n",
            "Successfully installed GridDataFormats-1.0.2 MDAnalysis-2.8.0 fasteners-0.19 mda-xdrlib-0.2.0 mdahole2-0.5.0 mmtf-python-1.1.3 mrcfile-1.5.3 msgpack-1.1.0 pathsimanalysis-1.2.0 threadpoolctl-3.5.0 waterdynamics-1.2.0\n"
          ]
        }
      ]
    },
    {
      "cell_type": "code",
      "source": [
        "def fetch_hg_parameters():\n",
        "    # Return parameters for Hg2+\n",
        "    charge = +2.0\n",
        "    lj_radius = 2.000\n",
        "    lj_epsilon = 0.500\n",
        "    return charge, lj_radius, lj_epsilon\n",
        "\n",
        "def write_lib_file(charge):\n",
        "    lib_content = f\"\"\"\\\n",
        "! Amber library file for Hg2+\n",
        "RESI HG2PLUS {charge}\n",
        "GROUP\n",
        "ATOM HG  {charge:.2f} HG\n",
        "END\n",
        "\"\"\"\n",
        "    with open('HG2PLUS.lib', 'w') as f:\n",
        "        f.write(lib_content)\n",
        "\n",
        "def write_frcmod_file(radius, epsilon):\n",
        "    frcmod_content = f\"\"\"\\\n",
        "MASS\n",
        "HG    200.59 ! approximate atomic weight\n",
        "\n",
        "LJ parameters\n",
        "HG    {radius:.3f}    {epsilon:.3f}\n",
        "\"\"\"\n",
        "    with open('HG2PLUS.frcmod', 'w') as f:\n",
        "        f.write(frcmod_content)\n",
        "\n",
        "def generate_hg_files():\n",
        "    charge, radius, epsilon = fetch_hg_parameters()\n",
        "    write_lib_file(charge)\n",
        "    write_frcmod_file(radius, epsilon)\n",
        "\n",
        "generate_hg_files()\n"
      ],
      "metadata": {
        "id": "y_Lny_LeVrX1"
      },
      "execution_count": 8,
      "outputs": []
    },
    {
      "cell_type": "code",
      "source": [
        "import os\n",
        "\n",
        "print(\"Files in the current directory:\")\n",
        "print(os.listdir(\".\"))\n",
        "\n",
        "file_to_find = \"Hg2+.lib\"\n",
        "for dirpath, dirnames, filenames in os.walk(\"/\"):\n",
        "    if file_to_find in filenames:\n",
        "        print(f\"File found: {os.path.join(dirpath, file_to_find)}\")\n",
        "        break\n",
        "else:\n",
        "    print(\"File not found.\")\n"
      ],
      "metadata": {
        "colab": {
          "base_uri": "https://localhost:8080/"
        },
        "id": "z-hCMwrqWzVQ",
        "outputId": "c8b238ea-1b53-48ab-f875-af99099ff767"
      },
      "execution_count": 9,
      "outputs": [
        {
          "output_type": "stream",
          "name": "stdout",
          "text": [
            "Files in the current directory:\n",
            "['Tutorial_GO_topology.md', 'leap.in', 'C1A.lib', 'FRCMOD', 'H1A.lib', 'graphene.pdb', 'GOPY.py', 'functionalized.pdb', 'leap.log', 'GOPY_COO.py', 'HG2PLUS.lib', '.git', 'GGG.lib', 'Examples', 'README.md', 'GO_tutorial', 'HG2PLUS.frcmod', 'E1A.lib', 'wast2.png']\n",
            "File not found.\n"
          ]
        }
      ]
    },
    {
      "cell_type": "code",
      "source": [
        "from openmm.app import AmberPrmtopFile, AmberInpcrdFile, Simulation, PDBReporter, PME, HBonds\n",
        "from openmm import LangevinMiddleIntegrator, Platform\n",
        "from openmm.unit import kelvin, picosecond, nanometer, picoseconds\n",
        "import os, numpy as np, MDAnalysis as mda\n",
        "from MDAnalysis.analysis.rdf import InterRDF\n",
        "from scipy.signal import find_peaks\n",
        "from scipy.spatial import cKDTree\n",
        "from scipy.constants import Avogadro\n",
        "import matplotlib.pyplot as plt\n",
        "from scipy.optimize import curve_fit\n",
        "import csv\n",
        "\n",
        "def run_simulation_and_analyze(Hg2p_count, box_dims, mass_adsorbent=1.0, initial_counts=None):\n",
        "    leap_content = f\"\"\"\\\n",
        "source leaprc.gaff2\n",
        "source leaprc.water.tip3p\n",
        "loadoff GGG.lib\n",
        "loadoff C1A.lib\n",
        "loadoff E1A.lib\n",
        "loadoff H1A.lib\n",
        "loadamberparams FRCMOD/GO.frcmod\n",
        "mol = loadpdb functionalized.pdb\n",
        "bondbydistance mol\n",
        "solvateBox mol TIP3PBOX 5.0\n",
        "addIons2 mol Hg2+ {Hg2p_count}\n",
        "addIons2 mol Cl- {2*Hg2p_count}\n",
        "saveamberparm mol mol_solv.prmtop mol_solv.inpcrd\n",
        "quit\n",
        "\"\"\"\n",
        "    with open('leap.in', 'w') as f:\n",
        "        f.write(leap_content)\n",
        "    os.system('tleap -f leap.in')\n",
        "\n",
        "    prmtop = AmberPrmtopFile('mol_solv.prmtop')\n",
        "    inpcrd = AmberInpcrdFile('mol_solv.inpcrd')\n",
        "    topology = prmtop.topology\n",
        "    positions = inpcrd.positions\n",
        "\n",
        "    system = prmtop.createSystem(nonbondedMethod=PME, nonbondedCutoff=1.0*nanometer, constraints=HBonds)\n",
        "    integrator = LangevinMiddleIntegrator(300*kelvin, 1/picosecond, 0.004*picoseconds)\n",
        "    platform = Platform.getPlatformByName('CPU')\n",
        "    simulation = Simulation(topology, system, integrator, platform)\n",
        "    simulation.context.setPositions(positions)\n",
        "    simulation.minimizeEnergy()\n",
        "    simulation.reporters.append(PDBReporter(f'trajectory_Hg2p_{Hg2p_count}.pdb', 100))\n",
        "    simulation.step(5000)\n",
        "\n",
        "    u = mda.Universe('mol_solv.prmtop', f'trajectory_Hg2p_{Hg2p_count}.pdb')\n",
        "    for ts in u.trajectory:\n",
        "        ts.dimensions = [box_dims[0], box_dims[1], box_dims[2], 90.0, 90.0, 90.0]\n",
        "    u.trajectory.rewind()\n",
        "\n",
        "    protein = u.select_atoms('resname GGG E1A H1A C1A')\n",
        "    Hg2p = u.select_atoms('name HG')\n",
        "\n",
        "    r_min, r_max = 0.0, 12.0\n",
        "    rdf_calc = InterRDF(protein, Hg2p, range=(r_min, r_max), nbins=120)\n",
        "    rdf_calc.run()\n",
        "\n",
        "    peaks, _ = find_peaks(rdf_calc.rdf)\n",
        "    if len(peaks) > 0:\n",
        "        first_peak = peaks[0]\n",
        "        inverted = -rdf_calc.rdf\n",
        "        minima, _ = find_peaks(inverted, distance=10)\n",
        "        cands = minima[minima > first_peak]\n",
        "        r_cut = rdf_calc.bins[cands[0]] if len(cands) > 0 else r_max\n",
        "    else:\n",
        "        r_cut = r_max\n",
        "\n",
        "    adsorbed = 0\n",
        "    total_frames = 0\n",
        "    ref_group = protein\n",
        "    target_group = Hg2p\n",
        "    for ts in u.trajectory:\n",
        "        p_ref = ref_group.positions\n",
        "        p_tg = target_group.positions\n",
        "        tr_ref = cKDTree(p_ref)\n",
        "        tr_tg = cKDTree(p_tg)\n",
        "        sdm = tr_ref.sparse_distance_matrix(tr_tg, max_distance=r_cut, output_type='coo_matrix')\n",
        "        col_ids = np.unique(sdm.col)\n",
        "        adsorbed += len(col_ids)\n",
        "        total_frames += 1\n",
        "\n",
        "    avg_adsorbed = adsorbed / total_frames if total_frames > 0 else 0.0\n",
        "\n",
        "    MW_Hg2p = 200.59\n",
        "    if initial_counts is None:\n",
        "        initial_counts = {'Hg2+': Hg2p_count}\n",
        "    N_initial = initial_counts['Hg2+']\n",
        "\n",
        "    volume_A3 = box_dims[0] * box_dims[1] * box_dims[2]\n",
        "    volume_L = volume_A3 * 1e-24\n",
        "    N_unads = N_initial - avg_adsorbed\n",
        "    C_e = (N_unads * MW_Hg2p / Avogadro) / volume_L * 1e3\n",
        "    q_e = (avg_adsorbed * MW_Hg2p) / mass_adsorbent * 1e3\n",
        "\n",
        "    return C_e, q_e, rdf_calc.bins, rdf_calc.rdf\n",
        "\n",
        "Hg2p_counts = [20, 40, 60, 80]\n",
        "box_dims = (150.0, 150.0, 100.0)\n",
        "Ce_values = []\n",
        "qe_values = []\n",
        "rdf_data = []\n",
        "\n",
        "for count in Hg2p_counts:\n",
        "    Ce, qe, r, rdf = run_simulation_and_analyze(count, box_dims, mass_adsorbent=1.0, initial_counts={'Hg2+': count})\n",
        "    Ce_values.append(Ce)\n",
        "    qe_values.append(qe)\n",
        "    rdf_data.append((count, r, rdf))\n",
        "    print(f\"Hg2+ count: {count}, Ce: {Ce:.2f} mg/L, qe: {qe:.2f} mg/g\")\n",
        "\n",
        "with open('sorption_data_Hg2+.csv', mode='w', newline='') as file:\n",
        "    writer = csv.writer(file)\n",
        "    writer.writerow(['Hg2+ count', 'Ce (mg/L)', 'q_e (mg/g)'])\n",
        "    for count, Ce, qe in zip(Hg2p_counts, Ce_values, qe_values):\n",
        "        writer.writerow([count, Ce, qe])\n",
        "\n",
        "def langmuir(C, q_max, K_L):\n",
        "    return (q_max * K_L * C) / (1 + K_L * C)\n",
        "\n",
        "if len(Ce_values) > 2:\n",
        "    params, _ = curve_fit(langmuir, Ce_values, qe_values, p0=[max(qe_values), 0.1], maxfev=10000)\n",
        "    q_max, K_L = params\n",
        "\n",
        "    Ce_fit = np.linspace(min(Ce_values), max(Ce_values), 100)\n",
        "    qe_fit = langmuir(Ce_fit, *params)\n",
        "\n",
        "    plt.figure(figsize=(8, 6))\n",
        "    plt.scatter(Ce_values, qe_values, c='b', label='Simulation Data')\n",
        "    plt.plot(Ce_fit, qe_fit, 'r--', label='Langmuir Fit')\n",
        "    plt.xlabel('Cₑ (mg/L)')\n",
        "    plt.ylabel('qₑ (mg/g)')\n",
        "    plt.title('Hg²⁺ Sorption Isotherm on Activated Carbon')\n",
        "    plt.legend()\n",
        "    plt.grid(True)\n",
        "    plt.tight_layout()\n",
        "    plt.show()\n",
        "\n",
        "    print(f\"Langmuir fit parameters:\\nq_max = {q_max:.2f} mg/g\\nK_L = {K_L:.4f} L/mg\")\n",
        "\n",
        "plt.figure(figsize=(10, 6))\n",
        "for count, r, rdf in rdf_data:\n",
        "    plt.plot(r, rdf, label=f'Hg2+ count={count}')\n",
        "plt.xlabel('Distance r (Å)')\n",
        "plt.ylabel('g(r)')\n",
        "plt.title('Radial Distribution Function (RDF) for Each Hg²⁺ Count')\n",
        "plt.legend()\n",
        "plt.grid(True)\n",
        "plt.tight_layout()\n",
        "plt.show()"
      ],
      "metadata": {
        "id": "1ulLctgrzMuL",
        "colab": {
          "base_uri": "https://localhost:8080/",
          "height": 365
        },
        "outputId": "676a37b9-88b1-4885-cbb3-2fa5136578fe"
      },
      "execution_count": 11,
      "outputs": [
        {
          "output_type": "error",
          "ename": "FileNotFoundError",
          "evalue": "[Errno 2] No such file or directory: 'mol_solv.prmtop'",
          "traceback": [
            "\u001b[0;31m---------------------------------------------------------------------------\u001b[0m",
            "\u001b[0;31mFileNotFoundError\u001b[0m                         Traceback (most recent call last)",
            "\u001b[0;32m<ipython-input-11-5bb7629fb217>\u001b[0m in \u001b[0;36m<cell line: 0>\u001b[0;34m()\u001b[0m\n\u001b[1;32m    104\u001b[0m \u001b[0;34m\u001b[0m\u001b[0m\n\u001b[1;32m    105\u001b[0m \u001b[0;32mfor\u001b[0m \u001b[0mcount\u001b[0m \u001b[0;32min\u001b[0m \u001b[0mHg2p_counts\u001b[0m\u001b[0;34m:\u001b[0m\u001b[0;34m\u001b[0m\u001b[0;34m\u001b[0m\u001b[0m\n\u001b[0;32m--> 106\u001b[0;31m     \u001b[0mCe\u001b[0m\u001b[0;34m,\u001b[0m \u001b[0mqe\u001b[0m\u001b[0;34m,\u001b[0m \u001b[0mr\u001b[0m\u001b[0;34m,\u001b[0m \u001b[0mrdf\u001b[0m \u001b[0;34m=\u001b[0m \u001b[0mrun_simulation_and_analyze\u001b[0m\u001b[0;34m(\u001b[0m\u001b[0mcount\u001b[0m\u001b[0;34m,\u001b[0m \u001b[0mbox_dims\u001b[0m\u001b[0;34m,\u001b[0m \u001b[0mmass_adsorbent\u001b[0m\u001b[0;34m=\u001b[0m\u001b[0;36m1.0\u001b[0m\u001b[0;34m,\u001b[0m \u001b[0minitial_counts\u001b[0m\u001b[0;34m=\u001b[0m\u001b[0;34m{\u001b[0m\u001b[0;34m'Hg2+'\u001b[0m\u001b[0;34m:\u001b[0m \u001b[0mcount\u001b[0m\u001b[0;34m}\u001b[0m\u001b[0;34m)\u001b[0m\u001b[0;34m\u001b[0m\u001b[0;34m\u001b[0m\u001b[0m\n\u001b[0m\u001b[1;32m    107\u001b[0m     \u001b[0mCe_values\u001b[0m\u001b[0;34m.\u001b[0m\u001b[0mappend\u001b[0m\u001b[0;34m(\u001b[0m\u001b[0mCe\u001b[0m\u001b[0;34m)\u001b[0m\u001b[0;34m\u001b[0m\u001b[0;34m\u001b[0m\u001b[0m\n\u001b[1;32m    108\u001b[0m     \u001b[0mqe_values\u001b[0m\u001b[0;34m.\u001b[0m\u001b[0mappend\u001b[0m\u001b[0;34m(\u001b[0m\u001b[0mqe\u001b[0m\u001b[0;34m)\u001b[0m\u001b[0;34m\u001b[0m\u001b[0;34m\u001b[0m\u001b[0m\n",
            "\u001b[0;32m<ipython-input-11-5bb7629fb217>\u001b[0m in \u001b[0;36mrun_simulation_and_analyze\u001b[0;34m(Hg2p_count, box_dims, mass_adsorbent, initial_counts)\u001b[0m\n\u001b[1;32m     32\u001b[0m     \u001b[0mos\u001b[0m\u001b[0;34m.\u001b[0m\u001b[0msystem\u001b[0m\u001b[0;34m(\u001b[0m\u001b[0;34m'tleap -f leap.in'\u001b[0m\u001b[0;34m)\u001b[0m\u001b[0;34m\u001b[0m\u001b[0;34m\u001b[0m\u001b[0m\n\u001b[1;32m     33\u001b[0m \u001b[0;34m\u001b[0m\u001b[0m\n\u001b[0;32m---> 34\u001b[0;31m     \u001b[0mprmtop\u001b[0m \u001b[0;34m=\u001b[0m \u001b[0mAmberPrmtopFile\u001b[0m\u001b[0;34m(\u001b[0m\u001b[0;34m'mol_solv.prmtop'\u001b[0m\u001b[0;34m)\u001b[0m\u001b[0;34m\u001b[0m\u001b[0;34m\u001b[0m\u001b[0m\n\u001b[0m\u001b[1;32m     35\u001b[0m     \u001b[0minpcrd\u001b[0m \u001b[0;34m=\u001b[0m \u001b[0mAmberInpcrdFile\u001b[0m\u001b[0;34m(\u001b[0m\u001b[0;34m'mol_solv.inpcrd'\u001b[0m\u001b[0;34m)\u001b[0m\u001b[0;34m\u001b[0m\u001b[0;34m\u001b[0m\u001b[0m\n\u001b[1;32m     36\u001b[0m     \u001b[0mtopology\u001b[0m \u001b[0;34m=\u001b[0m \u001b[0mprmtop\u001b[0m\u001b[0;34m.\u001b[0m\u001b[0mtopology\u001b[0m\u001b[0;34m\u001b[0m\u001b[0;34m\u001b[0m\u001b[0m\n",
            "\u001b[0;32m/usr/local/lib/python3.11/site-packages/openmm/app/amberprmtopfile.py\u001b[0m in \u001b[0;36m__init__\u001b[0;34m(self, file, periodicBoxVectors, unitCellDimensions)\u001b[0m\n\u001b[1;32m    106\u001b[0m         \u001b[0;31m# Load the prmtop file\u001b[0m\u001b[0;34m\u001b[0m\u001b[0;34m\u001b[0m\u001b[0m\n\u001b[1;32m    107\u001b[0m \u001b[0;34m\u001b[0m\u001b[0m\n\u001b[0;32m--> 108\u001b[0;31m         \u001b[0mprmtop\u001b[0m \u001b[0;34m=\u001b[0m \u001b[0mamber_file_parser\u001b[0m\u001b[0;34m.\u001b[0m\u001b[0mPrmtopLoader\u001b[0m\u001b[0;34m(\u001b[0m\u001b[0mfile\u001b[0m\u001b[0;34m)\u001b[0m\u001b[0;34m\u001b[0m\u001b[0;34m\u001b[0m\u001b[0m\n\u001b[0m\u001b[1;32m    109\u001b[0m         \u001b[0mself\u001b[0m\u001b[0;34m.\u001b[0m\u001b[0m_prmtop\u001b[0m \u001b[0;34m=\u001b[0m \u001b[0mprmtop\u001b[0m\u001b[0;34m\u001b[0m\u001b[0;34m\u001b[0m\u001b[0m\n\u001b[1;32m    110\u001b[0m \u001b[0;34m\u001b[0m\u001b[0m\n",
            "\u001b[0;32m/usr/local/lib/python3.11/site-packages/openmm/app/internal/amber_file_parser.py\u001b[0m in \u001b[0;36m__init__\u001b[0;34m(self, inFilename)\u001b[0m\n\u001b[1;32m    122\u001b[0m         \u001b[0mself\u001b[0m\u001b[0;34m.\u001b[0m\u001b[0m_has_nbfix_terms\u001b[0m \u001b[0;34m=\u001b[0m \u001b[0;32mFalse\u001b[0m\u001b[0;34m\u001b[0m\u001b[0;34m\u001b[0m\u001b[0m\n\u001b[1;32m    123\u001b[0m \u001b[0;34m\u001b[0m\u001b[0m\n\u001b[0;32m--> 124\u001b[0;31m         \u001b[0;32mwith\u001b[0m \u001b[0mopen\u001b[0m\u001b[0;34m(\u001b[0m\u001b[0minFilename\u001b[0m\u001b[0;34m,\u001b[0m \u001b[0;34m'r'\u001b[0m\u001b[0;34m)\u001b[0m \u001b[0;32mas\u001b[0m \u001b[0mfIn\u001b[0m\u001b[0;34m:\u001b[0m\u001b[0;34m\u001b[0m\u001b[0;34m\u001b[0m\u001b[0m\n\u001b[0m\u001b[1;32m    125\u001b[0m             \u001b[0;32mfor\u001b[0m \u001b[0mline\u001b[0m \u001b[0;32min\u001b[0m \u001b[0mfIn\u001b[0m\u001b[0;34m:\u001b[0m\u001b[0;34m\u001b[0m\u001b[0;34m\u001b[0m\u001b[0m\n\u001b[1;32m    126\u001b[0m                 \u001b[0;32mif\u001b[0m \u001b[0mline\u001b[0m\u001b[0;34m[\u001b[0m\u001b[0;36m0\u001b[0m\u001b[0;34m]\u001b[0m \u001b[0;34m==\u001b[0m \u001b[0;34m'%'\u001b[0m\u001b[0;34m:\u001b[0m\u001b[0;34m\u001b[0m\u001b[0;34m\u001b[0m\u001b[0m\n",
            "\u001b[0;31mFileNotFoundError\u001b[0m: [Errno 2] No such file or directory: 'mol_solv.prmtop'"
          ]
        }
      ]
    },
    {
      "cell_type": "code",
      "source": [],
      "metadata": {
        "id": "gY26dC08ODG5"
      },
      "execution_count": null,
      "outputs": []
    }
  ]
}