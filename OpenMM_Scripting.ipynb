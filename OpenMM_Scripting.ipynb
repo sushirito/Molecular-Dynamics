{
  "nbformat": 4,
  "nbformat_minor": 0,
  "metadata": {
    "colab": {
      "provenance": [],
      "authorship_tag": "ABX9TyPcVhXyLxyy8RpojC+ha1ts",
      "include_colab_link": true
    },
    "kernelspec": {
      "name": "python3",
      "display_name": "Python 3"
    },
    "language_info": {
      "name": "python"
    }
  },
  "cells": [
    {
      "cell_type": "markdown",
      "metadata": {
        "id": "view-in-github",
        "colab_type": "text"
      },
      "source": [
        "<a href=\"https://colab.research.google.com/github/sushirito/Molecular-Dynamics/blob/OpenMM/OpenMM_Scripting.ipynb\" target=\"_parent\"><img src=\"https://colab.research.google.com/assets/colab-badge.svg\" alt=\"Open In Colab\"/></a>"
      ]
    },
    {
      "cell_type": "markdown",
      "source": [
        "##**NOTE**: Code must be run twice to work"
      ],
      "metadata": {
        "id": "yBSZvmHQiB9g"
      }
    },
    {
      "cell_type": "code",
      "source": [
        "!pip install -q condacolab\n",
        "import condacolab\n",
        "condacolab.install()  # Will restart the runtime; re-run after restart\n",
        "\n",
        "!mamba install -c conda-forge ambertools -y"
      ],
      "metadata": {
        "colab": {
          "base_uri": "https://localhost:8080/"
        },
        "id": "oqbtMyFtgyCD",
        "outputId": "0c67b7f4-ab13-4992-f5a5-b608f5f9db68"
      },
      "execution_count": 1,
      "outputs": [
        {
          "output_type": "stream",
          "name": "stdout",
          "text": [
            "✨🍰✨ Everything looks OK!\n",
            "\n",
            "Looking for: ['ambertools']\n",
            "\n",
            "conda-forge/linux-64                                        Using cache\n",
            "conda-forge/noarch                                          Using cache\n",
            "\n",
            "Pinned packages:\n",
            "  - python 3.11.*\n",
            "  - python 3.11.*\n",
            "  - python_abi 3.11.* *cp311*\n",
            "  - cuda-version 12.*\n",
            "\n",
            "\n",
            "Transaction\n",
            "\n",
            "  Prefix: /usr/local\n",
            "\n",
            "  All requested packages already installed\n",
            "\n",
            "\u001b[?25l\u001b[2K\u001b[0G\u001b[?25h"
          ]
        }
      ]
    },
    {
      "cell_type": "code",
      "source": [
        "!git clone https://github.com/Iourarum/GOPY.git\n",
        "%cd GOPY\n",
        "!python GOPY.py generate_PG 10 10 graphene.pdb\n",
        "!python GOPY.py generate_GO graphene.pdb 2 4 8 functionalized.pdb"
      ],
      "metadata": {
        "colab": {
          "base_uri": "https://localhost:8080/"
        },
        "id": "80uHRuxNgyyN",
        "outputId": "cd82907f-fb59-4788-9dc4-8d6c4e5f3419"
      },
      "execution_count": 2,
      "outputs": [
        {
          "output_type": "stream",
          "name": "stdout",
          "text": [
            "Cloning into 'GOPY'...\n",
            "remote: Enumerating objects: 197, done.\u001b[K\n",
            "remote: Counting objects: 100% (47/47), done.\u001b[K\n",
            "remote: Compressing objects: 100% (29/29), done.\u001b[K\n",
            "remote: Total 197 (delta 39), reused 18 (delta 18), pack-reused 150 (from 1)\u001b[K\n",
            "Receiving objects: 100% (197/197), 9.50 MiB | 26.16 MiB/s, done.\n",
            "Resolving deltas: 100% (99/99), done.\n",
            "/content/GOPY\n",
            "done.\n",
            "GOPY.py\n",
            "generate_GO\n",
            "graphene.pdb\n",
            "2\n",
            "4\n",
            "8\n",
            "functionalized.pdb\n",
            "Left to add:  cooh:  2 epoxy:  4 hydroxyl:  8\n",
            "Left to add:  cooh:  2 epoxy:  4 hydroxyl:  7\n",
            "Left to add:  cooh:  1 epoxy:  4 hydroxyl:  7\n",
            "Left to add:  cooh:  1 epoxy:  4 hydroxyl:  6\n",
            "Left to add:  cooh:  1 epoxy:  4 hydroxyl:  5\n",
            "Left to add:  cooh:  1 epoxy:  3 hydroxyl:  5\n",
            "Left to add:  cooh:  1 epoxy:  2 hydroxyl:  5\n",
            "Left to add:  cooh:  0 epoxy:  2 hydroxyl:  5\n",
            "Left to add:  cooh:  0 epoxy:  2 hydroxyl:  4\n",
            "Left to add:  cooh:  0 epoxy:  2 hydroxyl:  3\n",
            "Left to add:  cooh:  0 epoxy:  2 hydroxyl:  2\n",
            "Left to add:  cooh:  0 epoxy:  2 hydroxyl:  1\n",
            "Left to add:  cooh:  0 epoxy:  1 hydroxyl:  1\n",
            "Left to add:  cooh:  0 epoxy:  0 hydroxyl:  1\n",
            "Placed:\n",
            "carboxyl:  2.0\n",
            "epoxy:  4.0\n",
            "hydroxyl:  8.0\n",
            "graphene atoms (CX - GGG) left:  32\n"
          ]
        }
      ]
    },
    {
      "cell_type": "code",
      "source": [
        "!wget https://raw.githubusercontent.com/Iourarum/GOPY/master/GO_tutorial/GGG.lib\n",
        "!wget https://raw.githubusercontent.com/Iourarum/GOPY/master/GO_tutorial/C1A.lib\n",
        "!wget https://raw.githubusercontent.com/Iourarum/GOPY/master/GO_tutorial/E1A.lib\n",
        "!wget https://raw.githubusercontent.com/Iourarum/GOPY/master/GO_tutorial/H1A.lib\n",
        "!mkdir -p FRCMOD\n",
        "!wget -P FRCMOD https://raw.githubusercontent.com/Iourarum/GOPY/master/GO_tutorial/FRCMOD/GO.frcmod"
      ],
      "metadata": {
        "colab": {
          "base_uri": "https://localhost:8080/"
        },
        "id": "xkUuAHbpg2ew",
        "outputId": "38b2e616-00c9-4c99-bcd4-79c417a590e9"
      },
      "execution_count": 3,
      "outputs": [
        {
          "output_type": "stream",
          "name": "stdout",
          "text": [
            "--2025-01-27 06:18:39--  https://raw.githubusercontent.com/Iourarum/GOPY/master/GO_tutorial/GGG.lib\n",
            "Resolving raw.githubusercontent.com (raw.githubusercontent.com)... 185.199.108.133, 185.199.109.133, 185.199.110.133, ...\n",
            "Connecting to raw.githubusercontent.com (raw.githubusercontent.com)|185.199.108.133|:443... connected.\n",
            "HTTP request sent, awaiting response... 200 OK\n",
            "Length: 1063 (1.0K) [text/plain]\n",
            "Saving to: ‘GGG.lib’\n",
            "\n",
            "GGG.lib             100%[===================>]   1.04K  --.-KB/s    in 0s      \n",
            "\n",
            "2025-01-27 06:18:39 (55.2 MB/s) - ‘GGG.lib’ saved [1063/1063]\n",
            "\n",
            "--2025-01-27 06:18:39--  https://raw.githubusercontent.com/Iourarum/GOPY/master/GO_tutorial/C1A.lib\n",
            "Resolving raw.githubusercontent.com (raw.githubusercontent.com)... 185.199.108.133, 185.199.109.133, 185.199.110.133, ...\n",
            "Connecting to raw.githubusercontent.com (raw.githubusercontent.com)|185.199.108.133|:443... connected.\n",
            "HTTP request sent, awaiting response... 200 OK\n",
            "Length: 1627 (1.6K) [text/plain]\n",
            "Saving to: ‘C1A.lib’\n",
            "\n",
            "C1A.lib             100%[===================>]   1.59K  --.-KB/s    in 0s      \n",
            "\n",
            "2025-01-27 06:18:40 (23.4 MB/s) - ‘C1A.lib’ saved [1627/1627]\n",
            "\n",
            "--2025-01-27 06:18:40--  https://raw.githubusercontent.com/Iourarum/GOPY/master/GO_tutorial/E1A.lib\n",
            "Resolving raw.githubusercontent.com (raw.githubusercontent.com)... 185.199.108.133, 185.199.109.133, 185.199.110.133, ...\n",
            "Connecting to raw.githubusercontent.com (raw.githubusercontent.com)|185.199.108.133|:443... connected.\n",
            "HTTP request sent, awaiting response... 200 OK\n",
            "Length: 1398 (1.4K) [text/plain]\n",
            "Saving to: ‘E1A.lib’\n",
            "\n",
            "E1A.lib             100%[===================>]   1.37K  --.-KB/s    in 0s      \n",
            "\n",
            "2025-01-27 06:18:40 (18.5 MB/s) - ‘E1A.lib’ saved [1398/1398]\n",
            "\n",
            "--2025-01-27 06:18:40--  https://raw.githubusercontent.com/Iourarum/GOPY/master/GO_tutorial/H1A.lib\n",
            "Resolving raw.githubusercontent.com (raw.githubusercontent.com)... 185.199.109.133, 185.199.111.133, 185.199.108.133, ...\n",
            "Connecting to raw.githubusercontent.com (raw.githubusercontent.com)|185.199.109.133|:443... connected.\n",
            "HTTP request sent, awaiting response... 200 OK\n",
            "Length: 1392 (1.4K) [text/plain]\n",
            "Saving to: ‘H1A.lib’\n",
            "\n",
            "H1A.lib             100%[===================>]   1.36K  --.-KB/s    in 0s      \n",
            "\n",
            "2025-01-27 06:18:41 (13.2 MB/s) - ‘H1A.lib’ saved [1392/1392]\n",
            "\n",
            "--2025-01-27 06:18:41--  https://raw.githubusercontent.com/Iourarum/GOPY/master/GO_tutorial/FRCMOD/GO.frcmod\n",
            "Resolving raw.githubusercontent.com (raw.githubusercontent.com)... 185.199.110.133, 185.199.111.133, 185.199.108.133, ...\n",
            "Connecting to raw.githubusercontent.com (raw.githubusercontent.com)|185.199.110.133|:443... connected.\n",
            "HTTP request sent, awaiting response... 200 OK\n",
            "Length: 9906 (9.7K) [text/plain]\n",
            "Saving to: ‘FRCMOD/GO.frcmod’\n",
            "\n",
            "GO.frcmod           100%[===================>]   9.67K  --.-KB/s    in 0s      \n",
            "\n",
            "2025-01-27 06:18:41 (86.3 MB/s) - ‘FRCMOD/GO.frcmod’ saved [9906/9906]\n",
            "\n"
          ]
        }
      ]
    },
    {
      "cell_type": "code",
      "source": [
        "!pip install openmm\n",
        "!pip install MDAnalysis"
      ],
      "metadata": {
        "colab": {
          "base_uri": "https://localhost:8080/"
        },
        "id": "9JTCiY1MzTR-",
        "outputId": "3361461b-4754-45b9-d803-736a4f4513fb"
      },
      "execution_count": 4,
      "outputs": [
        {
          "output_type": "stream",
          "name": "stdout",
          "text": [
            "Collecting openmm\n",
            "  Downloading OpenMM-8.2.0-cp311-cp311-manylinux_2_27_x86_64.manylinux_2_28_x86_64.whl.metadata (844 bytes)\n",
            "Requirement already satisfied: numpy in /usr/local/lib/python3.11/site-packages (from openmm) (1.26.4)\n",
            "Downloading OpenMM-8.2.0-cp311-cp311-manylinux_2_27_x86_64.manylinux_2_28_x86_64.whl (12.3 MB)\n",
            "\u001b[2K   \u001b[90m━━━━━━━━━━━━━━━━━━━━━━━━━━━━━━━━━━━━━━━━\u001b[0m \u001b[32m12.3/12.3 MB\u001b[0m \u001b[31m61.7 MB/s\u001b[0m eta \u001b[36m0:00:00\u001b[0m\n",
            "\u001b[?25hInstalling collected packages: openmm\n",
            "Successfully installed openmm-8.2.0\n",
            "Collecting MDAnalysis\n",
            "  Downloading MDAnalysis-2.8.0-cp311-cp311-manylinux_2_17_x86_64.manylinux2014_x86_64.whl.metadata (108 kB)\n",
            "Requirement already satisfied: numpy>=1.23.2 in /usr/local/lib/python3.11/site-packages (from MDAnalysis) (1.26.4)\n",
            "Collecting GridDataFormats>=0.4.0 (from MDAnalysis)\n",
            "  Downloading GridDataFormats-1.0.2-py3-none-any.whl.metadata (4.9 kB)\n",
            "Collecting mmtf-python>=1.0.0 (from MDAnalysis)\n",
            "  Downloading mmtf_python-1.1.3-py2.py3-none-any.whl.metadata (1.2 kB)\n",
            "Requirement already satisfied: joblib>=0.12 in /usr/local/lib/python3.11/site-packages (from MDAnalysis) (1.4.2)\n",
            "Requirement already satisfied: scipy>=1.5.0 in /usr/local/lib/python3.11/site-packages (from MDAnalysis) (1.15.1)\n",
            "Requirement already satisfied: matplotlib>=1.5.1 in /usr/local/lib/python3.11/site-packages (from MDAnalysis) (3.10.0)\n",
            "Requirement already satisfied: tqdm>=4.43.0 in /usr/local/lib/python3.11/site-packages (from MDAnalysis) (4.67.1)\n",
            "Collecting threadpoolctl (from MDAnalysis)\n",
            "  Downloading threadpoolctl-3.5.0-py3-none-any.whl.metadata (13 kB)\n",
            "Requirement already satisfied: packaging in /usr/local/lib/python3.11/site-packages (from MDAnalysis) (24.2)\n",
            "Collecting fasteners (from MDAnalysis)\n",
            "  Downloading fasteners-0.19-py3-none-any.whl.metadata (4.9 kB)\n",
            "Collecting mda-xdrlib (from MDAnalysis)\n",
            "  Downloading mda_xdrlib-0.2.0-py3-none-any.whl.metadata (19 kB)\n",
            "Collecting waterdynamics (from MDAnalysis)\n",
            "  Downloading waterdynamics-1.2.0-py3-none-any.whl.metadata (37 kB)\n",
            "Collecting pathsimanalysis (from MDAnalysis)\n",
            "  Downloading pathsimanalysis-1.2.0-py3-none-any.whl.metadata (37 kB)\n",
            "Collecting mdahole2 (from MDAnalysis)\n",
            "  Downloading mdahole2-0.5.0-py3-none-any.whl.metadata (36 kB)\n",
            "Collecting mrcfile (from GridDataFormats>=0.4.0->MDAnalysis)\n",
            "  Downloading mrcfile-1.5.4-py2.py3-none-any.whl.metadata (7.0 kB)\n",
            "Requirement already satisfied: contourpy>=1.0.1 in /usr/local/lib/python3.11/site-packages (from matplotlib>=1.5.1->MDAnalysis) (1.3.1)\n",
            "Requirement already satisfied: cycler>=0.10 in /usr/local/lib/python3.11/site-packages (from matplotlib>=1.5.1->MDAnalysis) (0.12.1)\n",
            "Requirement already satisfied: fonttools>=4.22.0 in /usr/local/lib/python3.11/site-packages (from matplotlib>=1.5.1->MDAnalysis) (4.55.6)\n",
            "Requirement already satisfied: kiwisolver>=1.3.1 in /usr/local/lib/python3.11/site-packages (from matplotlib>=1.5.1->MDAnalysis) (1.4.7)\n",
            "Requirement already satisfied: pillow>=8 in /usr/local/lib/python3.11/site-packages (from matplotlib>=1.5.1->MDAnalysis) (11.1.0)\n",
            "Requirement already satisfied: pyparsing>=2.3.1 in /usr/local/lib/python3.11/site-packages (from matplotlib>=1.5.1->MDAnalysis) (3.2.1)\n",
            "Requirement already satisfied: python-dateutil>=2.7 in /usr/local/lib/python3.11/site-packages (from matplotlib>=1.5.1->MDAnalysis) (2.9.0.post0)\n",
            "Collecting msgpack>=1.0.0 (from mmtf-python>=1.0.0->MDAnalysis)\n",
            "  Downloading msgpack-1.1.0-cp311-cp311-manylinux_2_17_x86_64.manylinux2014_x86_64.whl.metadata (8.4 kB)\n",
            "Requirement already satisfied: six>=1.5 in /usr/local/lib/python3.11/site-packages (from python-dateutil>=2.7->matplotlib>=1.5.1->MDAnalysis) (1.17.0)\n",
            "Downloading MDAnalysis-2.8.0-cp311-cp311-manylinux_2_17_x86_64.manylinux2014_x86_64.whl (13.0 MB)\n",
            "\u001b[2K   \u001b[90m━━━━━━━━━━━━━━━━━━━━━━━━━━━━━━━━━━━━━━━━\u001b[0m \u001b[32m13.0/13.0 MB\u001b[0m \u001b[31m45.4 MB/s\u001b[0m eta \u001b[36m0:00:00\u001b[0m\n",
            "\u001b[?25hDownloading GridDataFormats-1.0.2-py3-none-any.whl (2.1 MB)\n",
            "\u001b[2K   \u001b[90m━━━━━━━━━━━━━━━━━━━━━━━━━━━━━━━━━━━━━━━━\u001b[0m \u001b[32m2.1/2.1 MB\u001b[0m \u001b[31m11.6 MB/s\u001b[0m eta \u001b[36m0:00:00\u001b[0m\n",
            "\u001b[?25hDownloading mmtf_python-1.1.3-py2.py3-none-any.whl (25 kB)\n",
            "Downloading fasteners-0.19-py3-none-any.whl (18 kB)\n",
            "Downloading mda_xdrlib-0.2.0-py3-none-any.whl (14 kB)\n",
            "Downloading mdahole2-0.5.0-py3-none-any.whl (3.7 MB)\n",
            "\u001b[2K   \u001b[90m━━━━━━━━━━━━━━━━━━━━━━━━━━━━━━━━━━━━━━━━\u001b[0m \u001b[32m3.7/3.7 MB\u001b[0m \u001b[31m90.3 MB/s\u001b[0m eta \u001b[36m0:00:00\u001b[0m\n",
            "\u001b[?25hDownloading pathsimanalysis-1.2.0-py3-none-any.whl (48 kB)\n",
            "Downloading threadpoolctl-3.5.0-py3-none-any.whl (18 kB)\n",
            "Downloading waterdynamics-1.2.0-py3-none-any.whl (35 kB)\n",
            "Downloading msgpack-1.1.0-cp311-cp311-manylinux_2_17_x86_64.manylinux2014_x86_64.whl (403 kB)\n",
            "Downloading mrcfile-1.5.4-py2.py3-none-any.whl (45 kB)\n",
            "Installing collected packages: threadpoolctl, msgpack, mrcfile, mda-xdrlib, fasteners, mmtf-python, GridDataFormats, waterdynamics, pathsimanalysis, mdahole2, MDAnalysis\n",
            "Successfully installed GridDataFormats-1.0.2 MDAnalysis-2.8.0 fasteners-0.19 mda-xdrlib-0.2.0 mdahole2-0.5.0 mmtf-python-1.1.3 mrcfile-1.5.4 msgpack-1.1.0 pathsimanalysis-1.2.0 threadpoolctl-3.5.0 waterdynamics-1.2.0\n"
          ]
        }
      ]
    },
    {
      "cell_type": "code",
      "source": [
        "from openmm.app import AmberPrmtopFile, AmberInpcrdFile, Simulation, PDBReporter, PME, HBonds\n",
        "from openmm import LangevinMiddleIntegrator, Platform\n",
        "from openmm.unit import kelvin, picosecond, nanometer, picoseconds\n",
        "import os, numpy as np, MDAnalysis as mda\n",
        "from MDAnalysis.analysis.rdf import InterRDF\n",
        "from scipy.signal import find_peaks\n",
        "from scipy.spatial import cKDTree\n",
        "from scipy.constants import Avogadro\n",
        "\n",
        "def run_simulation_and_analyze(Na_count, box_dims, mass_adsorbent=1.0, initial_counts=None):\n",
        "    # Create leap input for a given Na_count\n",
        "    leap_content = f\"\"\"source leaprc.protein.ff14SB\n",
        "source leaprc.water.tip3p\n",
        "loadoff GGG.lib\n",
        "loadoff C1A.lib\n",
        "loadoff E1A.lib\n",
        "loadoff H1A.lib\n",
        "loadamberparams FRCMOD/GO.frcmod\n",
        "mol = loadpdb functionalized.pdb\n",
        "bondbydistance mol\n",
        "solvateBox mol TIP3PBOX 5.0\n",
        "addIons2 mol Na+ {Na_count}\n",
        "addIons2 mol Cl- {Na_count}\n",
        "saveamberparm mol mol_solv.prmtop mol_solv.inpcrd\n",
        "quit\n",
        "\"\"\"\n",
        "    with open('leap.in', 'w') as f:\n",
        "        f.write(leap_content)\n",
        "    os.system('tleap -f leap.in')\n",
        "\n",
        "    # Run simulation\n",
        "    prmtop = AmberPrmtopFile('mol_solv.prmtop')\n",
        "    inpcrd = AmberInpcrdFile('mol_solv.inpcrd')\n",
        "    topology = prmtop.topology\n",
        "    positions = inpcrd.positions\n",
        "\n",
        "    system = prmtop.createSystem(nonbondedMethod=PME, nonbondedCutoff=1.0*nanometer, constraints=HBonds)\n",
        "    integrator = LangevinMiddleIntegrator(300*kelvin, 1/picosecond, 0.004*picoseconds)\n",
        "    platform = Platform.getPlatformByName('CPU')\n",
        "    simulation = Simulation(topology, system, integrator, platform)\n",
        "    simulation.context.setPositions(positions)\n",
        "    simulation.minimizeEnergy()\n",
        "    simulation.reporters.append(PDBReporter('trajectory.pdb', 100))\n",
        "    simulation.step(5000)\n",
        "\n",
        "    # Analyze trajectory for Ce, qe, and RDF\n",
        "    u = mda.Universe('mol_solv.prmtop', 'trajectory.pdb')\n",
        "    for ts in u.trajectory:\n",
        "        ts.dimensions = [box_dims[0], box_dims[1], box_dims[2], 90.0, 90.0, 90.0]\n",
        "    u.trajectory.rewind()\n",
        "\n",
        "    protein = u.select_atoms('resname GGG E1A H1A C1A')\n",
        "    Na = u.select_atoms('name Na+')\n",
        "\n",
        "    # RDF computation\n",
        "    r_min, r_max = 0.0, 12.0\n",
        "    rdf_calc = InterRDF(protein, Na, range=(r_min, r_max), nbins=120)\n",
        "    rdf_calc.run()\n",
        "\n",
        "    peaks, _ = find_peaks(rdf_calc.rdf)\n",
        "    if len(peaks) > 0:\n",
        "        first_peak = peaks[0]\n",
        "        inverted = -rdf_calc.rdf\n",
        "        minima, _ = find_peaks(inverted, distance=10)\n",
        "        cands = minima[minima > first_peak]\n",
        "        r_cut = rdf_calc.bins[cands[0]] if len(cands) > 0 else r_max\n",
        "    else:\n",
        "        r_cut = r_max\n",
        "\n",
        "    adsorbed = 0\n",
        "    total_frames = 0\n",
        "    ref_group = protein\n",
        "    target_group = Na\n",
        "    for ts in u.trajectory:\n",
        "        p_ref = ref_group.positions\n",
        "        p_tg = target_group.positions\n",
        "        tr_ref = cKDTree(p_ref)\n",
        "        tr_tg = cKDTree(p_tg)\n",
        "        sdm = tr_ref.sparse_distance_matrix(tr_tg, max_distance=r_cut, output_type='coo_matrix')\n",
        "        col_ids = np.unique(sdm.col)\n",
        "        adsorbed += len(col_ids)\n",
        "        total_frames += 1\n",
        "\n",
        "    avg_adsorbed = adsorbed / total_frames if total_frames > 0 else 0.0\n",
        "\n",
        "    MW_Na = 22.99\n",
        "    if initial_counts is None:\n",
        "        initial_counts = {'Na': Na_count}\n",
        "    N_initial = initial_counts['Na']\n",
        "\n",
        "    volume_A3 = box_dims[0] * box_dims[1] * box_dims[2]\n",
        "    volume_L = volume_A3 * 1e-24\n",
        "    N_unads = N_initial - avg_adsorbed\n",
        "    C_e = (N_unads * MW_Na / Avogadro) / volume_L * 1e3  # mg/L\n",
        "    q_e = (avg_adsorbed * MW_Na) / mass_adsorbent * 1e3  # mg/g\n",
        "\n",
        "    return C_e, q_e, rdf_calc.bins, rdf_calc.rdf\n",
        "\n",
        "# Loop over different Na⁺ counts\n",
        "import matplotlib.pyplot as plt\n",
        "from scipy.optimize import curve_fit\n",
        "import csv\n",
        "\n",
        "Na_counts = [20, 40, 60, 80]\n",
        "box_dims = (150.0, 150.0, 100.0)\n",
        "Ce_values = []\n",
        "qe_values = []\n",
        "rdf_data = []\n",
        "\n",
        "for count in Na_counts:\n",
        "    Ce, qe, r, rdf = run_simulation_and_analyze(count, box_dims, mass_adsorbent=1.0, initial_counts={'Na': count})\n",
        "    Ce_values.append(Ce)\n",
        "    qe_values.append(qe)\n",
        "    rdf_data.append((count, r, rdf))\n",
        "    print(f\"Na_count: {count}, Ce: {Ce:.2f} mg/L, qe: {qe:.2f} mg/g\")\n",
        "\n",
        "# Save simulation data to CSV\n",
        "with open('sorption_data.csv', mode='w', newline='') as file:\n",
        "    writer = csv.writer(file)\n",
        "    writer.writerow(['Na_count', 'Ce (mg/L)', 'q_e (mg/g)'])\n",
        "    for count, Ce, qe in zip(Na_counts, Ce_values, qe_values):\n",
        "        writer.writerow([count, Ce, qe])\n",
        "\n",
        "# Langmuir isotherm fitting and plotting\n",
        "def langmuir(C, q_max, K_L):\n",
        "    return (q_max * K_L * C) / (1 + K_L * C)\n",
        "\n",
        "if len(Ce_values) > 2:\n",
        "    params, _ = curve_fit(langmuir, Ce_values, qe_values, p0=[max(qe_values), 0.1], maxfev = 10000)\n",
        "    q_max, K_L = params\n",
        "\n",
        "    Ce_fit = np.linspace(min(Ce_values), max(Ce_values), 100)\n",
        "    qe_fit = langmuir(Ce_fit, *params)\n",
        "\n",
        "    plt.figure(figsize=(8, 6))\n",
        "    plt.scatter(Ce_values, qe_values, c='b', label='Simulation Data')\n",
        "    plt.plot(Ce_fit, qe_fit, 'r--', label='Langmuir Fit')\n",
        "    plt.xlabel('Cₑ (mg/L)')\n",
        "    plt.ylabel('qₑ (mg/g)')\n",
        "    plt.title('Na⁺ Sorption Isotherm on Activated Carbon')\n",
        "    plt.legend()\n",
        "    plt.grid(True)\n",
        "    plt.tight_layout()\n",
        "    plt.show()\n",
        "\n",
        "    print(f\"Langmuir fit parameters:\\nq_max = {q_max:.2f} mg/g\\nK_L = {K_L:.4f} L/mg\")\n",
        "\n",
        "# RDF plotting for each trial\n",
        "plt.figure(figsize=(10, 6))\n",
        "for count, r, rdf in rdf_data:\n",
        "    plt.plot(r, rdf, label=f'Na_count={count}')\n",
        "plt.xlabel('Distance r (Å)')\n",
        "plt.ylabel('g(r)')\n",
        "plt.title('Radial Distribution Function (RDF) for Each Na⁺ Count')\n",
        "plt.legend()\n",
        "plt.grid(True)\n",
        "plt.tight_layout()\n",
        "plt.show()"
      ],
      "metadata": {
        "colab": {
          "base_uri": "https://localhost:8080/"
        },
        "id": "gY26dC08ODG5",
        "outputId": "a9b203ad-ad7b-4de6-aa1b-6f627c100238"
      },
      "execution_count": null,
      "outputs": [
        {
          "output_type": "stream",
          "name": "stderr",
          "text": [
            "/usr/local/lib/python3.11/site-packages/MDAnalysis/analysis/base.py:522: UserWarning: Reader has no dt information, set to 1.0 ps\n",
            "  self.times[idx] = ts.time\n",
            "/usr/local/lib/python3.11/site-packages/MDAnalysis/analysis/rdf.py:347: DeprecationWarning: The `rdf` attribute was deprecated in MDAnalysis 2.0.0 and will be removed in MDAnalysis 3.0.0. Please use `results.rdf` instead\n",
            "  warnings.warn(wmsg, DeprecationWarning)\n",
            "/usr/local/lib/python3.11/site-packages/MDAnalysis/analysis/rdf.py:339: DeprecationWarning: The `bins` attribute was deprecated in MDAnalysis 2.0.0 and will be removed in MDAnalysis 3.0.0. Please use `results.bins` instead\n",
            "  warnings.warn(wmsg, DeprecationWarning)\n"
          ]
        },
        {
          "output_type": "stream",
          "name": "stdout",
          "text": [
            "Na_count: 20, Ce: 0.31 mg/L, qe: 44600.60 mg/g\n"
          ]
        }
      ]
    },
    {
      "cell_type": "code",
      "source": [
        "from openmm.app import AmberPrmtopFile, AmberInpcrdFile, Simulation, PDBReporter, PME, HBonds, StateDataReporter\n",
        "from openmm import LangevinMiddleIntegrator, Platform\n",
        "from openmm.unit import kelvin, picosecond, nanometer, picoseconds\n",
        "import os\n",
        "import numpy as np\n",
        "\n",
        "def run_simulation_and_generate_outputs(Na_count, simulation_steps=5000):\n",
        "    # Step 1: Create leap input for a given Na_count\n",
        "    leap_content = f\"\"\"source leaprc.protein.ff14SB\n",
        "source leaprc.water.tip3p\n",
        "loadoff GGG.lib\n",
        "loadoff C1A.lib\n",
        "loadoff E1A.lib\n",
        "loadoff H1A.lib\n",
        "loadamberparams FRCMOD/GO.frcmod\n",
        "mol = loadpdb functionalized.pdb\n",
        "bondbydistance mol\n",
        "solvateBox mol TIP3PBOX 5.0\n",
        "addIons2 mol Na+ {Na_count}\n",
        "addIons2 mol Cl- {Na_count}\n",
        "saveamberparm mol mol_solv.prmtop mol_solv.inpcrd\n",
        "quit\n",
        "\"\"\"\n",
        "    with open('leap.in', 'w') as f:\n",
        "        f.write(leap_content)\n",
        "\n",
        "    # Step 2: Run tleap to prepare the system\n",
        "    !tleap -f leap.in > leap.log\n",
        "\n",
        "    # Check if tleap ran successfully\n",
        "    if not os.path.exists('mol_solv.prmtop') or not os.path.exists('mol_solv.inpcrd'):\n",
        "        raise FileNotFoundError(\"tleap failed to create parameter/topology files. Check leap.log for details.\")\n",
        "\n",
        "    # Step 3: Set up OpenMM simulation\n",
        "    prmtop = AmberPrmtopFile('mol_solv.prmtop')\n",
        "    inpcrd = AmberInpcrdFile('mol_solv.inpcrd')\n",
        "    topology = prmtop.topology\n",
        "    positions = inpcrd.positions\n",
        "\n",
        "    system = prmtop.createSystem(nonbondedMethod=PME, nonbondedCutoff=1.0*nanometer, constraints=HBonds)\n",
        "    integrator = LangevinMiddleIntegrator(300*kelvin, 1/picosecond, 0.004*picoseconds)\n",
        "    platform = Platform.getPlatformByName('CPU')  # Use 'CUDA' or 'OpenCL' if GPU is available\n",
        "    simulation = Simulation(topology, system, integrator, platform)\n",
        "    simulation.context.setPositions(positions)\n",
        "\n",
        "    # Minimize energy\n",
        "    simulation.minimizeEnergy()\n",
        "\n",
        "    # Add reporters to save trajectory and log data\n",
        "    simulation.reporters.append(PDBReporter('trajectory.pdb', 1000))  # Save every 1000 steps\n",
        "    simulation.reporters.append(StateDataReporter('md1.out', 1000, step=True,\n",
        "                                                  potentialEnergy=True, temperature=True,\n",
        "                                                  totalEnergy=True, density=True))\n",
        "\n",
        "    # Run the simulation\n",
        "    simulation.step(simulation_steps)\n",
        "\n",
        "    # For energy equilibrium, generate Eq2.1.out (assuming this is required)\n",
        "    # For demonstration, we'll copy md1.out to Eq2.1.out\n",
        "    # In practice, Eq2.1.out should be generated based on your simulation specifics\n",
        "    !cp md1.out Eq2.1.out\n",
        "\n",
        "# Example usage:\n",
        "# Adding 10 Na+ ions; adjust Na_count as needed\n",
        "run_simulation_and_generate_outputs(Na_count=10, simulation_steps=5000)\n"
      ],
      "metadata": {
        "id": "ejbfg7rHcK3v"
      },
      "execution_count": 8,
      "outputs": []
    },
    {
      "cell_type": "code",
      "source": [
        "# Extract density values from md1.out\n",
        "!awk '/Density/ { print $3 }; $1==\"A\" && $2==\"V\" {exit 0}' md1.out > density.dat\n",
        "# Calculate average density\n",
        "!awk '{ sum += $1 } END { print \"average = \", sum/NR }' density.dat\n",
        "# Extract total energy values from Eq2.1.out\n",
        "!awk '/Etot/ {print $3}; ($1==\"A\" && $2==\"V\") {exit 0};' Eq2.1.out > etot.dat\n",
        "# Calculate average total energy\n",
        "!awk '{ sum += $1 } END { print \"average total energy = \", sum/NR }' etot.dat\n",
        "import matplotlib.pyplot as plt\n",
        "\n",
        "# Plot Density Data\n",
        "density = np.loadtxt('density.dat')\n",
        "\n",
        "plt.figure(figsize=(10, 5))\n",
        "plt.plot(density, label='Density')\n",
        "plt.xlabel('Time Steps')\n",
        "plt.ylabel('Density (units)')\n",
        "plt.title('Density Over Time')\n",
        "plt.legend()\n",
        "plt.grid(True)\n",
        "plt.show()\n",
        "\n",
        "# Plot Energy Total Data\n",
        "etot = np.loadtxt('etot.dat')\n",
        "\n",
        "plt.figure(figsize=(10, 5))\n",
        "plt.plot(etot, label='Total Energy', color='orange')\n",
        "plt.xlabel('Time Steps')\n",
        "plt.ylabel('Total Energy (units)')\n",
        "plt.title('Total Energy Over Time')\n",
        "plt.legend()\n",
        "plt.grid(True)\n",
        "plt.show()"
      ],
      "metadata": {
        "colab": {
          "base_uri": "https://localhost:8080/",
          "height": 507
        },
        "id": "KUkN3MK9cuY5",
        "outputId": "5339c096-bc5b-4f2a-b02c-2809e841311d"
      },
      "execution_count": 9,
      "outputs": [
        {
          "output_type": "stream",
          "name": "stdout",
          "text": [
            "average =  0\n",
            "average total energy =  -nan\n"
          ]
        },
        {
          "output_type": "error",
          "ename": "ValueError",
          "evalue": "could not convert string '(kJ/mole)\",\"Total' to float64 at row 0, column 1.",
          "traceback": [
            "\u001b[0;31m---------------------------------------------------------------------------\u001b[0m",
            "\u001b[0;31mValueError\u001b[0m                                Traceback (most recent call last)",
            "\u001b[0;31mValueError\u001b[0m: could not convert string to float: '(kJ/mole)\",\"Total'",
            "\nThe above exception was the direct cause of the following exception:\n",
            "\u001b[0;31mValueError\u001b[0m                                Traceback (most recent call last)",
            "\u001b[0;32m<ipython-input-9-1147e6cfdeea>\u001b[0m in \u001b[0;36m<cell line: 0>\u001b[0;34m()\u001b[0m\n\u001b[1;32m     10\u001b[0m \u001b[0;34m\u001b[0m\u001b[0m\n\u001b[1;32m     11\u001b[0m \u001b[0;31m# Plot Density Data\u001b[0m\u001b[0;34m\u001b[0m\u001b[0;34m\u001b[0m\u001b[0m\n\u001b[0;32m---> 12\u001b[0;31m \u001b[0mdensity\u001b[0m \u001b[0;34m=\u001b[0m \u001b[0mnp\u001b[0m\u001b[0;34m.\u001b[0m\u001b[0mloadtxt\u001b[0m\u001b[0;34m(\u001b[0m\u001b[0;34m'density.dat'\u001b[0m\u001b[0;34m)\u001b[0m\u001b[0;34m\u001b[0m\u001b[0;34m\u001b[0m\u001b[0m\n\u001b[0m\u001b[1;32m     13\u001b[0m \u001b[0;34m\u001b[0m\u001b[0m\n\u001b[1;32m     14\u001b[0m \u001b[0mplt\u001b[0m\u001b[0;34m.\u001b[0m\u001b[0mfigure\u001b[0m\u001b[0;34m(\u001b[0m\u001b[0mfigsize\u001b[0m\u001b[0;34m=\u001b[0m\u001b[0;34m(\u001b[0m\u001b[0;36m10\u001b[0m\u001b[0;34m,\u001b[0m \u001b[0;36m5\u001b[0m\u001b[0;34m)\u001b[0m\u001b[0;34m)\u001b[0m\u001b[0;34m\u001b[0m\u001b[0;34m\u001b[0m\u001b[0m\n",
            "\u001b[0;32m/usr/local/lib/python3.11/dist-packages/numpy/lib/npyio.py\u001b[0m in \u001b[0;36mloadtxt\u001b[0;34m(fname, dtype, comments, delimiter, converters, skiprows, usecols, unpack, ndmin, encoding, max_rows, quotechar, like)\u001b[0m\n\u001b[1;32m   1371\u001b[0m         \u001b[0mdelimiter\u001b[0m \u001b[0;34m=\u001b[0m \u001b[0mdelimiter\u001b[0m\u001b[0;34m.\u001b[0m\u001b[0mdecode\u001b[0m\u001b[0;34m(\u001b[0m\u001b[0;34m'latin1'\u001b[0m\u001b[0;34m)\u001b[0m\u001b[0;34m\u001b[0m\u001b[0;34m\u001b[0m\u001b[0m\n\u001b[1;32m   1372\u001b[0m \u001b[0;34m\u001b[0m\u001b[0m\n\u001b[0;32m-> 1373\u001b[0;31m     arr = _read(fname, dtype=dtype, comment=comment, delimiter=delimiter,\n\u001b[0m\u001b[1;32m   1374\u001b[0m                 \u001b[0mconverters\u001b[0m\u001b[0;34m=\u001b[0m\u001b[0mconverters\u001b[0m\u001b[0;34m,\u001b[0m \u001b[0mskiplines\u001b[0m\u001b[0;34m=\u001b[0m\u001b[0mskiprows\u001b[0m\u001b[0;34m,\u001b[0m \u001b[0musecols\u001b[0m\u001b[0;34m=\u001b[0m\u001b[0musecols\u001b[0m\u001b[0;34m,\u001b[0m\u001b[0;34m\u001b[0m\u001b[0;34m\u001b[0m\u001b[0m\n\u001b[1;32m   1375\u001b[0m                 \u001b[0munpack\u001b[0m\u001b[0;34m=\u001b[0m\u001b[0munpack\u001b[0m\u001b[0;34m,\u001b[0m \u001b[0mndmin\u001b[0m\u001b[0;34m=\u001b[0m\u001b[0mndmin\u001b[0m\u001b[0;34m,\u001b[0m \u001b[0mencoding\u001b[0m\u001b[0;34m=\u001b[0m\u001b[0mencoding\u001b[0m\u001b[0;34m,\u001b[0m\u001b[0;34m\u001b[0m\u001b[0;34m\u001b[0m\u001b[0m\n",
            "\u001b[0;32m/usr/local/lib/python3.11/dist-packages/numpy/lib/npyio.py\u001b[0m in \u001b[0;36m_read\u001b[0;34m(fname, delimiter, comment, quote, imaginary_unit, usecols, skiplines, max_rows, converters, ndmin, unpack, dtype, encoding)\u001b[0m\n\u001b[1;32m   1014\u001b[0m \u001b[0;34m\u001b[0m\u001b[0m\n\u001b[1;32m   1015\u001b[0m         \u001b[0;32mif\u001b[0m \u001b[0mread_dtype_via_object_chunks\u001b[0m \u001b[0;32mis\u001b[0m \u001b[0;32mNone\u001b[0m\u001b[0;34m:\u001b[0m\u001b[0;34m\u001b[0m\u001b[0;34m\u001b[0m\u001b[0m\n\u001b[0;32m-> 1016\u001b[0;31m             arr = _load_from_filelike(\n\u001b[0m\u001b[1;32m   1017\u001b[0m                 \u001b[0mdata\u001b[0m\u001b[0;34m,\u001b[0m \u001b[0mdelimiter\u001b[0m\u001b[0;34m=\u001b[0m\u001b[0mdelimiter\u001b[0m\u001b[0;34m,\u001b[0m \u001b[0mcomment\u001b[0m\u001b[0;34m=\u001b[0m\u001b[0mcomment\u001b[0m\u001b[0;34m,\u001b[0m \u001b[0mquote\u001b[0m\u001b[0;34m=\u001b[0m\u001b[0mquote\u001b[0m\u001b[0;34m,\u001b[0m\u001b[0;34m\u001b[0m\u001b[0;34m\u001b[0m\u001b[0m\n\u001b[1;32m   1018\u001b[0m                 \u001b[0mimaginary_unit\u001b[0m\u001b[0;34m=\u001b[0m\u001b[0mimaginary_unit\u001b[0m\u001b[0;34m,\u001b[0m\u001b[0;34m\u001b[0m\u001b[0;34m\u001b[0m\u001b[0m\n",
            "\u001b[0;31mValueError\u001b[0m: could not convert string '(kJ/mole)\",\"Total' to float64 at row 0, column 1."
          ]
        }
      ]
    },
    {
      "cell_type": "code",
      "source": [
        "# Create ptraj.in file\n",
        "ptraj_in_content = \"\"\"trajin trajectory.pdb\n",
        "radial Protein_Na .1 15.0 :GGG,E1A,H1A,C1A@N :Na+\n",
        "\"\"\"\n",
        "\n",
        "with open('ptraj.in', 'w') as f:\n",
        "    f.write(ptraj_in_content)\n",
        "# Run ptraj to calculate RDFs\n",
        "!ptraj mol_solv.prmtop < ptraj.in > ptraj.log"
      ],
      "metadata": {
        "colab": {
          "base_uri": "https://localhost:8080/"
        },
        "id": "Zx8WJ57edJRs",
        "outputId": "ae7db0af-2daf-4f42-a11b-1c34557064e9"
      },
      "execution_count": 12,
      "outputs": [
        {
          "output_type": "stream",
          "name": "stdout",
          "text": [
            "/bin/bash: line 1: ptraj: command not found\n"
          ]
        }
      ]
    },
    {
      "cell_type": "code",
      "source": [
        "!awk '/Density/ { print $3 }; $1==\"A\" && $2==\"V\" {exit 0}' md1.out > density.dat"
      ],
      "metadata": {
        "id": "DO-MU7Occ9GU"
      },
      "execution_count": 10,
      "outputs": []
    },
    {
      "cell_type": "code",
      "source": [
        "!awk '{ sum += $1 } END { print \"average = \", sum/NR }' density.dat"
      ],
      "metadata": {
        "colab": {
          "base_uri": "https://localhost:8080/"
        },
        "id": "d5pEjjpLdCTG",
        "outputId": "72acc36c-afb2-4bb2-ce94-dd5e02e66246"
      },
      "execution_count": 11,
      "outputs": [
        {
          "output_type": "stream",
          "name": "stdout",
          "text": [
            "average =  0\n"
          ]
        }
      ]
    }
  ]
}