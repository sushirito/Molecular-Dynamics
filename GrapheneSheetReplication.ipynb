{
  "nbformat": 4,
  "nbformat_minor": 0,
  "metadata": {
    "colab": {
      "provenance": [],
      "authorship_tag": "ABX9TyP3thOmE+N5ANfDtL726zvl",
      "include_colab_link": true
    },
    "kernelspec": {
      "name": "python3",
      "display_name": "Python 3"
    },
    "language_info": {
      "name": "python"
    }
  },
  "cells": [
    {
      "cell_type": "markdown",
      "metadata": {
        "id": "view-in-github",
        "colab_type": "text"
      },
      "source": [
        "<a href=\"https://colab.research.google.com/github/sushirito/Molecular-Dynamics/blob/23_AC_Replication/GrapheneSheetReplication.ipynb\" target=\"_parent\"><img src=\"https://colab.research.google.com/assets/colab-badge.svg\" alt=\"Open In Colab\"/></a>"
      ]
    },
    {
      "cell_type": "code",
      "execution_count": 9,
      "metadata": {
        "colab": {
          "base_uri": "https://localhost:8080/"
        },
        "id": "PL10Zp0pFqYe",
        "outputId": "2a02f944-090e-4a7b-cb81-0b330e23fea9"
      },
      "outputs": [
        {
          "output_type": "stream",
          "name": "stdout",
          "text": [
            "Corrected graphene structure saved as 'correct_graphene_aromatic.xyz'. Load it in VMD to visualize.\n"
          ]
        }
      ],
      "source": [
        "import numpy as np\n",
        "\n",
        "def generate_corrected_graphene_lattice(n_rows=5, n_cols=5):\n",
        "    \"\"\"\n",
        "    Generates a planar graphene structure using a honeycomb lattice approach\n",
        "    with explicit nearest-neighbor bonding, avoiding extraneous intermediary bonds.\n",
        "\n",
        "    Args:\n",
        "        n_rows (int): Number of unit cell rows.\n",
        "        n_cols (int): Number of unit cell columns.\n",
        "\n",
        "    Returns:\n",
        "        positions (list of [x, y, z]): Atom coordinates.\n",
        "        bonds (list of tuples): Bond connections.\n",
        "        atom_info (list of dicts): Atom details.\n",
        "    \"\"\"\n",
        "    bond_length = 1.42  # Å\n",
        "\n",
        "    # Lattice vectors and basis positions for graphene\n",
        "    a1 = np.array([1.5 * bond_length,  np.sqrt(3)/2 * bond_length, 0])\n",
        "    a2 = np.array([1.5 * bond_length, -np.sqrt(3)/2 * bond_length, 0])\n",
        "    dA = np.array([0, 0, 0])\n",
        "    dB = np.array([bond_length, 0, 0])\n",
        "\n",
        "    positions = []\n",
        "    atom_info = []\n",
        "    bonds = []\n",
        "    bond_id = 1\n",
        "\n",
        "    # Dictionaries to track atom indices for A and B sites\n",
        "    mapping_A = {}\n",
        "    mapping_B = {}\n",
        "    index = 1\n",
        "\n",
        "    # Generate atomic positions for honeycomb lattice\n",
        "    for i in range(n_rows):\n",
        "        for j in range(n_cols):\n",
        "            base = i * a1 + j * a2\n",
        "            posA = base + dA\n",
        "            posB = base + dB\n",
        "\n",
        "            positions.append(list(posA))\n",
        "            atom_info.append({'elem': 'C', 'type': 1, 'charge': 0.0})\n",
        "            mapping_A[(i, j)] = index\n",
        "            index += 1\n",
        "\n",
        "            positions.append(list(posB))\n",
        "            atom_info.append({'elem': 'C', 'type': 1, 'charge': 0.0})\n",
        "            mapping_B[(i, j)] = index\n",
        "            index += 1\n",
        "\n",
        "    # Create bonds explicitly from each A site to its three B neighbors\n",
        "    for i in range(n_rows):\n",
        "        for j in range(n_cols):\n",
        "            a_idx = mapping_A[(i, j)]\n",
        "\n",
        "            # Neighbor 1: B(i, j) in same cell\n",
        "            if (i, j) in mapping_B:\n",
        "                bonds.append((bond_id, 1, a_idx, mapping_B[(i, j)]))\n",
        "                bond_id += 1\n",
        "\n",
        "            # Neighbor 2: B(i-1, j) in adjacent cell left/upwards\n",
        "            if i - 1 >= 0 and (i - 1, j) in mapping_B:\n",
        "                bonds.append((bond_id, 1, a_idx, mapping_B[(i - 1, j)]))\n",
        "                bond_id += 1\n",
        "\n",
        "            # Neighbor 3: B(i, j-1) in adjacent cell downwards/rightwards\n",
        "            if j - 1 >= 0 and (i, j - 1) in mapping_B:\n",
        "                bonds.append((bond_id, 1, a_idx, mapping_B[(i, j - 1)]))\n",
        "                bond_id += 1\n",
        "\n",
        "    return positions, bonds, atom_info\n",
        "\n",
        "def write_xyz(positions, atom_info, filename=\"correct_graphene_aromaticb.xyz\"):\n",
        "    \"\"\"\n",
        "    Writes atom positions to an XYZ file for visualization.\n",
        "\n",
        "    Args:\n",
        "        positions (list of [x, y, z]): Atom coordinates.\n",
        "        atom_info (list of dicts): Atom details including element types.\n",
        "        filename (str): Output XYZ file name.\n",
        "    \"\"\"\n",
        "    with open(filename, \"w\") as f:\n",
        "        f.write(f\"{len(positions)}\\n\")\n",
        "        f.write(\"Corrected graphene aromatic structure\\n\")\n",
        "        for pos, atom in zip(positions, atom_info):\n",
        "            elem = atom['elem']\n",
        "            x, y, z = pos\n",
        "            f.write(f\"{elem} {x:.4f} {y:.4f} {z:.4f}\\n\")\n",
        "\n",
        "# Generate the corrected graphene lattice\n",
        "positions, bonds, atom_info = generate_corrected_graphene_lattice()\n",
        "\n",
        "# Write the structure to an XYZ file\n",
        "write_xyz(positions, atom_info)\n",
        "\n",
        "print(\"Corrected graphene structure saved as 'correct_graphene_aromatic.xyz'. Load it in VMD to visualize.\")"
      ]
    },
    {
      "cell_type": "code",
      "source": [
        "!pip install gopy"
      ],
      "metadata": {
        "colab": {
          "base_uri": "https://localhost:8080/"
        },
        "id": "gEyX6J3BOAFO",
        "outputId": "bc170143-b9cc-4270-f7af-91f2845f839a"
      },
      "execution_count": 10,
      "outputs": [
        {
          "output_type": "stream",
          "name": "stdout",
          "text": [
            "Collecting gopy\n",
            "  Downloading gopy-0.7.3-py3-none-any.whl.metadata (4.4 kB)\n",
            "Collecting snakeviz>=2.0.1 (from gopy)\n",
            "  Downloading snakeviz-2.2.2-py3-none-any.whl.metadata (3.6 kB)\n",
            "Requirement already satisfied: numpy>=1.17.0 in /usr/local/lib/python3.11/dist-packages (from gopy) (1.26.4)\n",
            "Requirement already satisfied: tornado>=2.0 in /usr/local/lib/python3.11/dist-packages (from snakeviz>=2.0.1->gopy) (6.3.3)\n",
            "Downloading gopy-0.7.3-py3-none-any.whl (53 kB)\n",
            "\u001b[2K   \u001b[90m━━━━━━━━━━━━━━━━━━━━━━━━━━━━━━━━━━━━━━━━\u001b[0m \u001b[32m53.1/53.1 kB\u001b[0m \u001b[31m3.7 MB/s\u001b[0m eta \u001b[36m0:00:00\u001b[0m\n",
            "\u001b[?25hDownloading snakeviz-2.2.2-py3-none-any.whl (183 kB)\n",
            "\u001b[2K   \u001b[90m━━━━━━━━━━━━━━━━━━━━━━━━━━━━━━━━━━━━━━━━\u001b[0m \u001b[32m183.5/183.5 kB\u001b[0m \u001b[31m6.4 MB/s\u001b[0m eta \u001b[36m0:00:00\u001b[0m\n",
            "\u001b[?25hInstalling collected packages: snakeviz, gopy\n",
            "Successfully installed gopy-0.7.3 snakeviz-2.2.2\n"
          ]
        }
      ]
    },
    {
      "cell_type": "code",
      "source": [
        "# Install required dependencies\n",
        "!apt-get update\n",
        "!apt-get install -y libgl1-mesa-glx libxi6 libxrender1\n",
        "!pip install numpy scipy\n",
        "\n",
        "# Clone the GOPY repository and navigate into it\n",
        "!git clone https://github.com/Iourarum/GOPY.git\n",
        "%cd GOPY"
      ],
      "metadata": {
        "colab": {
          "base_uri": "https://localhost:8080/"
        },
        "id": "mn44DfjWRprT",
        "outputId": "4cd50e7c-2280-44ee-909e-620b6cce8aab"
      },
      "execution_count": 1,
      "outputs": [
        {
          "output_type": "stream",
          "name": "stdout",
          "text": [
            "\r0% [Working]\r            \rGet:1 https://cloud.r-project.org/bin/linux/ubuntu jammy-cran40/ InRelease [3,626 B]\n",
            "Get:2 https://developer.download.nvidia.com/compute/cuda/repos/ubuntu2204/x86_64  InRelease [1,581 B]\n",
            "Get:3 https://cloud.r-project.org/bin/linux/ubuntu jammy-cran40/ Packages [62.5 kB]\n",
            "Get:4 https://developer.download.nvidia.com/compute/cuda/repos/ubuntu2204/x86_64  Packages [1,234 kB]\n",
            "Get:5 https://r2u.stat.illinois.edu/ubuntu jammy InRelease [6,555 B]\n",
            "Get:6 http://security.ubuntu.com/ubuntu jammy-security InRelease [129 kB]\n",
            "Hit:7 http://archive.ubuntu.com/ubuntu jammy InRelease\n",
            "Get:8 http://archive.ubuntu.com/ubuntu jammy-updates InRelease [128 kB]\n",
            "Hit:9 https://ppa.launchpadcontent.net/deadsnakes/ppa/ubuntu jammy InRelease\n",
            "Hit:10 https://ppa.launchpadcontent.net/graphics-drivers/ppa/ubuntu jammy InRelease\n",
            "Hit:11 https://ppa.launchpadcontent.net/ubuntugis/ppa/ubuntu jammy InRelease\n",
            "Get:12 https://r2u.stat.illinois.edu/ubuntu jammy/main all Packages [8,607 kB]\n",
            "Get:13 http://archive.ubuntu.com/ubuntu jammy-backports InRelease [127 kB]\n",
            "Get:14 https://r2u.stat.illinois.edu/ubuntu jammy/main amd64 Packages [2,643 kB]\n",
            "Get:15 http://security.ubuntu.com/ubuntu jammy-security/universe amd64 Packages [1,228 kB]\n",
            "Get:16 http://security.ubuntu.com/ubuntu jammy-security/main amd64 Packages [2,560 kB]\n",
            "Get:17 http://archive.ubuntu.com/ubuntu jammy-updates/universe amd64 Packages [1,519 kB]\n",
            "Get:18 http://archive.ubuntu.com/ubuntu jammy-updates/main amd64 Packages [2,859 kB]\n",
            "Fetched 21.1 MB in 11s (1,986 kB/s)\n",
            "Reading package lists... Done\n",
            "W: Skipping acquire of configured file 'main/source/Sources' as repository 'https://r2u.stat.illinois.edu/ubuntu jammy InRelease' does not seem to provide it (sources.list entry misspelt?)\n",
            "Reading package lists... Done\n",
            "Building dependency tree... Done\n",
            "Reading state information... Done\n",
            "libxi6 is already the newest version (2:1.8-1build1).\n",
            "libxi6 set to manually installed.\n",
            "libxrender1 is already the newest version (1:0.9.10-1build4).\n",
            "libxrender1 set to manually installed.\n",
            "The following NEW packages will be installed:\n",
            "  libgl1-mesa-glx\n",
            "0 upgraded, 1 newly installed, 0 to remove and 58 not upgraded.\n",
            "Need to get 5,584 B of archives.\n",
            "After this operation, 74.8 kB of additional disk space will be used.\n",
            "Get:1 http://archive.ubuntu.com/ubuntu jammy-updates/universe amd64 libgl1-mesa-glx amd64 23.0.4-0ubuntu1~22.04.1 [5,584 B]\n",
            "Fetched 5,584 B in 1s (8,224 B/s)\n",
            "Selecting previously unselected package libgl1-mesa-glx:amd64.\n",
            "(Reading database ... 124565 files and directories currently installed.)\n",
            "Preparing to unpack .../libgl1-mesa-glx_23.0.4-0ubuntu1~22.04.1_amd64.deb ...\n",
            "Unpacking libgl1-mesa-glx:amd64 (23.0.4-0ubuntu1~22.04.1) ...\n",
            "Setting up libgl1-mesa-glx:amd64 (23.0.4-0ubuntu1~22.04.1) ...\n",
            "Requirement already satisfied: numpy in /usr/local/lib/python3.11/dist-packages (1.26.4)\n",
            "Requirement already satisfied: scipy in /usr/local/lib/python3.11/dist-packages (1.13.1)\n",
            "Cloning into 'GOPY'...\n",
            "remote: Enumerating objects: 197, done.\u001b[K\n",
            "remote: Counting objects: 100% (47/47), done.\u001b[K\n",
            "remote: Compressing objects: 100% (29/29), done.\u001b[K\n",
            "remote: Total 197 (delta 39), reused 18 (delta 18), pack-reused 150 (from 1)\u001b[K\n",
            "Receiving objects: 100% (197/197), 9.50 MiB | 9.68 MiB/s, done.\n",
            "Resolving deltas: 100% (99/99), done.\n",
            "/content/GOPY\n"
          ]
        }
      ]
    },
    {
      "cell_type": "code",
      "source": [
        "# Generate a pristine graphene sheet\n",
        "!python GOPY.py generate_PG 30 30 graphene.pdb\n",
        "\n",
        "# Functionalize the graphene:\n",
        "# Arguments: path_to_file, number_of_COOH, number_of_epoxy, number_of_OH, output_filename\n",
        "!python GOPY.py generate_GO graphene.pdb 40 4 8 functionalized.pdb"
      ],
      "metadata": {
        "colab": {
          "base_uri": "https://localhost:8080/"
        },
        "id": "TZbMUnXUOCAb",
        "outputId": "33007dfd-927e-4e37-b58c-ab61b87bf4cc"
      },
      "execution_count": 2,
      "outputs": [
        {
          "output_type": "stream",
          "name": "stdout",
          "text": [
            "done.\n",
            "GOPY.py\n",
            "generate_GO\n",
            "graphene.pdb\n",
            "40\n",
            "4\n",
            "8\n",
            "functionalized.pdb\n",
            "Left to add:  cooh:  40 epoxy:  4 hydroxyl:  8\n",
            "Left to add:  cooh:  40 epoxy:  3 hydroxyl:  8\n",
            "Left to add:  cooh:  39 epoxy:  3 hydroxyl:  8\n",
            "Left to add:  cooh:  38 epoxy:  3 hydroxyl:  8\n",
            "Left to add:  cooh:  37 epoxy:  3 hydroxyl:  8\n",
            "Left to add:  cooh:  37 epoxy:  3 hydroxyl:  7\n",
            "Left to add:  cooh:  37 epoxy:  3 hydroxyl:  6\n",
            "Left to add:  cooh:  36 epoxy:  3 hydroxyl:  6\n",
            "Left to add:  cooh:  36 epoxy:  2 hydroxyl:  6\n",
            "Left to add:  cooh:  36 epoxy:  2 hydroxyl:  5\n",
            "Left to add:  cooh:  36 epoxy:  1 hydroxyl:  5\n",
            "Left to add:  cooh:  36 epoxy:  1 hydroxyl:  4\n",
            "Left to add:  cooh:  35 epoxy:  1 hydroxyl:  4\n",
            "Left to add:  cooh:  35 epoxy:  1 hydroxyl:  3\n",
            "Left to add:  cooh:  35 epoxy:  1 hydroxyl:  2\n",
            "Left to add:  cooh:  35 epoxy:  0 hydroxyl:  2\n",
            "Left to add:  cooh:  35 epoxy:  0 hydroxyl:  1\n",
            "Left to add:  cooh:  34 epoxy:  0 hydroxyl:  1\n",
            "Left to add:  cooh:  33 epoxy:  0 hydroxyl:  1\n",
            "Left to add:  cooh:  33 epoxy:  0 hydroxyl:  0\n",
            "Left to add:  cooh:  32 epoxy:  0 hydroxyl:  0\n",
            "Left to add:  cooh:  31 epoxy:  0 hydroxyl:  0\n",
            "Left to add:  cooh:  30 epoxy:  0 hydroxyl:  0\n",
            "Left to add:  cooh:  29 epoxy:  0 hydroxyl:  0\n",
            "Left to add:  cooh:  28 epoxy:  0 hydroxyl:  0\n",
            "Left to add:  cooh:  27 epoxy:  0 hydroxyl:  0\n",
            "Left to add:  cooh:  26 epoxy:  0 hydroxyl:  0\n",
            "Left to add:  cooh:  25 epoxy:  0 hydroxyl:  0\n",
            "Left to add:  cooh:  24 epoxy:  0 hydroxyl:  0\n",
            "Left to add:  cooh:  23 epoxy:  0 hydroxyl:  0\n",
            "Left to add:  cooh:  22 epoxy:  0 hydroxyl:  0\n",
            "Left to add:  cooh:  21 epoxy:  0 hydroxyl:  0\n",
            "Left to add:  cooh:  20 epoxy:  0 hydroxyl:  0\n",
            "Left to add:  cooh:  19 epoxy:  0 hydroxyl:  0\n",
            "Left to add:  cooh:  18 epoxy:  0 hydroxyl:  0\n",
            "Left to add:  cooh:  17 epoxy:  0 hydroxyl:  0\n",
            "Left to add:  cooh:  16 epoxy:  0 hydroxyl:  0\n",
            "Left to add:  cooh:  15 epoxy:  0 hydroxyl:  0\n",
            "Left to add:  cooh:  14 epoxy:  0 hydroxyl:  0\n",
            "Left to add:  cooh:  13 epoxy:  0 hydroxyl:  0\n",
            "Left to add:  cooh:  12 epoxy:  0 hydroxyl:  0\n",
            "Left to add:  cooh:  11 epoxy:  0 hydroxyl:  0\n",
            "Left to add:  cooh:  10 epoxy:  0 hydroxyl:  0\n",
            "Left to add:  cooh:  9 epoxy:  0 hydroxyl:  0\n",
            "Left to add:  cooh:  8 epoxy:  0 hydroxyl:  0\n",
            "Left to add:  cooh:  7 epoxy:  0 hydroxyl:  0\n",
            "Left to add:  cooh:  6 epoxy:  0 hydroxyl:  0\n",
            "Left to add:  cooh:  5 epoxy:  0 hydroxyl:  0\n",
            "Left to add:  cooh:  4 epoxy:  0 hydroxyl:  0\n",
            "Left to add:  cooh:  3 epoxy:  0 hydroxyl:  0\n",
            "Left to add:  cooh:  2 epoxy:  0 hydroxyl:  0\n",
            "Left to add:  cooh:  1 epoxy:  0 hydroxyl:  0\n",
            "Placed:\n",
            "carboxyl:  40.0\n",
            "epoxy:  4.0\n",
            "hydroxyl:  8.0\n",
            "graphene atoms (CX - GGG) left:  321\n"
          ]
        }
      ]
    }
  ]
}