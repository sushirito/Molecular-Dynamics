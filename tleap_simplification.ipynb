{
  "nbformat": 4,
  "nbformat_minor": 0,
  "metadata": {
    "colab": {
      "provenance": [],
      "authorship_tag": "ABX9TyN8EW3NzvYp43tXNfEQuPlV",
      "include_colab_link": true
    },
    "kernelspec": {
      "name": "python3",
      "display_name": "Python 3"
    },
    "language_info": {
      "name": "python"
    }
  },
  "cells": [
    {
      "cell_type": "markdown",
      "metadata": {
        "id": "view-in-github",
        "colab_type": "text"
      },
      "source": [
        "<a href=\"https://colab.research.google.com/github/sushirito/Molecular-Dynamics/blob/main/tleap_simplification.ipynb\" target=\"_parent\"><img src=\"https://colab.research.google.com/assets/colab-badge.svg\" alt=\"Open In Colab\"/></a>"
      ]
    },
    {
      "cell_type": "code",
      "source": [
        "# Install AmberTools\n",
        "!pip install -q condacolab\n",
        "import condacolab\n",
        "condacolab.install()  # Installs Conda\n",
        "!mamba install -c conda-forge ambertools -y"
      ],
      "metadata": {
        "colab": {
          "base_uri": "https://localhost:8080/"
        },
        "id": "LzwkngIcwd9q",
        "outputId": "a32d6158-6deb-43a1-81e1-58d5fe1cf336"
      },
      "execution_count": 1,
      "outputs": [
        {
          "output_type": "stream",
          "name": "stdout",
          "text": [
            "✨🍰✨ Everything looks OK!\n",
            "\n",
            "Looking for: ['ambertools']\n",
            "\n",
            "conda-forge/linux-64                                        Using cache\n",
            "conda-forge/noarch                                          Using cache\n",
            "\n",
            "Pinned packages:\n",
            "  - python 3.11.*\n",
            "  - python 3.11.*\n",
            "  - python_abi 3.11.* *cp311*\n",
            "  - cuda-version 12.*\n",
            "\n",
            "\n",
            "Transaction\n",
            "\n",
            "  Prefix: /usr/local\n",
            "\n",
            "  All requested packages already installed\n",
            "\n",
            "\u001b[?25l\u001b[2K\u001b[0G\u001b[?25h"
          ]
        }
      ]
    },
    {
      "cell_type": "code",
      "source": [
        "!pip install openmm\n",
        "!pip install MDAnalysis"
      ],
      "metadata": {
        "colab": {
          "base_uri": "https://localhost:8080/"
        },
        "id": "o4LmNTqixFdq",
        "outputId": "33cc9711-f597-4cdb-c325-0ffe5fad8ccc"
      },
      "execution_count": 2,
      "outputs": [
        {
          "output_type": "stream",
          "name": "stdout",
          "text": [
            "Collecting openmm\n",
            "  Downloading OpenMM-8.2.0-cp311-cp311-manylinux_2_27_x86_64.manylinux_2_28_x86_64.whl.metadata (844 bytes)\n",
            "Requirement already satisfied: numpy in /usr/local/lib/python3.11/site-packages (from openmm) (1.26.4)\n",
            "Downloading OpenMM-8.2.0-cp311-cp311-manylinux_2_27_x86_64.manylinux_2_28_x86_64.whl (12.3 MB)\n",
            "\u001b[2K   \u001b[90m━━━━━━━━━━━━━━━━━━━━━━━━━━━━━━━━━━━━━━━━\u001b[0m \u001b[32m12.3/12.3 MB\u001b[0m \u001b[31m94.2 MB/s\u001b[0m eta \u001b[36m0:00:00\u001b[0m\n",
            "\u001b[?25hInstalling collected packages: openmm\n",
            "Successfully installed openmm-8.2.0\n",
            "Collecting MDAnalysis\n",
            "  Downloading MDAnalysis-2.8.0-cp311-cp311-manylinux_2_17_x86_64.manylinux2014_x86_64.whl.metadata (108 kB)\n",
            "Requirement already satisfied: numpy>=1.23.2 in /usr/local/lib/python3.11/site-packages (from MDAnalysis) (1.26.4)\n",
            "Collecting GridDataFormats>=0.4.0 (from MDAnalysis)\n",
            "  Downloading GridDataFormats-1.0.2-py3-none-any.whl.metadata (4.9 kB)\n",
            "Collecting mmtf-python>=1.0.0 (from MDAnalysis)\n",
            "  Downloading mmtf_python-1.1.3-py2.py3-none-any.whl.metadata (1.2 kB)\n",
            "Requirement already satisfied: joblib>=0.12 in /usr/local/lib/python3.11/site-packages (from MDAnalysis) (1.4.2)\n",
            "Requirement already satisfied: scipy>=1.5.0 in /usr/local/lib/python3.11/site-packages (from MDAnalysis) (1.15.1)\n",
            "Requirement already satisfied: matplotlib>=1.5.1 in /usr/local/lib/python3.11/site-packages (from MDAnalysis) (3.10.0)\n",
            "Requirement already satisfied: tqdm>=4.43.0 in /usr/local/lib/python3.11/site-packages (from MDAnalysis) (4.67.1)\n",
            "Collecting threadpoolctl (from MDAnalysis)\n",
            "  Downloading threadpoolctl-3.5.0-py3-none-any.whl.metadata (13 kB)\n",
            "Requirement already satisfied: packaging in /usr/local/lib/python3.11/site-packages (from MDAnalysis) (24.2)\n",
            "Collecting fasteners (from MDAnalysis)\n",
            "  Downloading fasteners-0.19-py3-none-any.whl.metadata (4.9 kB)\n",
            "Collecting mda-xdrlib (from MDAnalysis)\n",
            "  Downloading mda_xdrlib-0.2.0-py3-none-any.whl.metadata (19 kB)\n",
            "Collecting waterdynamics (from MDAnalysis)\n",
            "  Downloading waterdynamics-1.2.0-py3-none-any.whl.metadata (37 kB)\n",
            "Collecting pathsimanalysis (from MDAnalysis)\n",
            "  Downloading pathsimanalysis-1.2.0-py3-none-any.whl.metadata (37 kB)\n",
            "Collecting mdahole2 (from MDAnalysis)\n",
            "  Downloading mdahole2-0.5.0-py3-none-any.whl.metadata (36 kB)\n",
            "Collecting mrcfile (from GridDataFormats>=0.4.0->MDAnalysis)\n",
            "  Downloading mrcfile-1.5.4-py2.py3-none-any.whl.metadata (7.0 kB)\n",
            "Requirement already satisfied: contourpy>=1.0.1 in /usr/local/lib/python3.11/site-packages (from matplotlib>=1.5.1->MDAnalysis) (1.3.1)\n",
            "Requirement already satisfied: cycler>=0.10 in /usr/local/lib/python3.11/site-packages (from matplotlib>=1.5.1->MDAnalysis) (0.12.1)\n",
            "Requirement already satisfied: fonttools>=4.22.0 in /usr/local/lib/python3.11/site-packages (from matplotlib>=1.5.1->MDAnalysis) (4.56.0)\n",
            "Requirement already satisfied: kiwisolver>=1.3.1 in /usr/local/lib/python3.11/site-packages (from matplotlib>=1.5.1->MDAnalysis) (1.4.7)\n",
            "Requirement already satisfied: pillow>=8 in /usr/local/lib/python3.11/site-packages (from matplotlib>=1.5.1->MDAnalysis) (11.1.0)\n",
            "Requirement already satisfied: pyparsing>=2.3.1 in /usr/local/lib/python3.11/site-packages (from matplotlib>=1.5.1->MDAnalysis) (3.2.1)\n",
            "Requirement already satisfied: python-dateutil>=2.7 in /usr/local/lib/python3.11/site-packages (from matplotlib>=1.5.1->MDAnalysis) (2.9.0.post0)\n",
            "Collecting msgpack>=1.0.0 (from mmtf-python>=1.0.0->MDAnalysis)\n",
            "  Downloading msgpack-1.1.0-cp311-cp311-manylinux_2_17_x86_64.manylinux2014_x86_64.whl.metadata (8.4 kB)\n",
            "Requirement already satisfied: six>=1.5 in /usr/local/lib/python3.11/site-packages (from python-dateutil>=2.7->matplotlib>=1.5.1->MDAnalysis) (1.17.0)\n",
            "Downloading MDAnalysis-2.8.0-cp311-cp311-manylinux_2_17_x86_64.manylinux2014_x86_64.whl (13.0 MB)\n",
            "\u001b[2K   \u001b[90m━━━━━━━━━━━━━━━━━━━━━━━━━━━━━━━━━━━━━━━━\u001b[0m \u001b[32m13.0/13.0 MB\u001b[0m \u001b[31m93.0 MB/s\u001b[0m eta \u001b[36m0:00:00\u001b[0m\n",
            "\u001b[?25hDownloading GridDataFormats-1.0.2-py3-none-any.whl (2.1 MB)\n",
            "\u001b[2K   \u001b[90m━━━━━━━━━━━━━━━━━━━━━━━━━━━━━━━━━━━━━━━━\u001b[0m \u001b[32m2.1/2.1 MB\u001b[0m \u001b[31m86.1 MB/s\u001b[0m eta \u001b[36m0:00:00\u001b[0m\n",
            "\u001b[?25hDownloading mmtf_python-1.1.3-py2.py3-none-any.whl (25 kB)\n",
            "Downloading fasteners-0.19-py3-none-any.whl (18 kB)\n",
            "Downloading mda_xdrlib-0.2.0-py3-none-any.whl (14 kB)\n",
            "Downloading mdahole2-0.5.0-py3-none-any.whl (3.7 MB)\n",
            "\u001b[2K   \u001b[90m━━━━━━━━━━━━━━━━━━━━━━━━━━━━━━━━━━━━━━━━\u001b[0m \u001b[32m3.7/3.7 MB\u001b[0m \u001b[31m88.8 MB/s\u001b[0m eta \u001b[36m0:00:00\u001b[0m\n",
            "\u001b[?25hDownloading pathsimanalysis-1.2.0-py3-none-any.whl (48 kB)\n",
            "Downloading threadpoolctl-3.5.0-py3-none-any.whl (18 kB)\n",
            "Downloading waterdynamics-1.2.0-py3-none-any.whl (35 kB)\n",
            "Downloading msgpack-1.1.0-cp311-cp311-manylinux_2_17_x86_64.manylinux2014_x86_64.whl (403 kB)\n",
            "Downloading mrcfile-1.5.4-py2.py3-none-any.whl (45 kB)\n",
            "Installing collected packages: threadpoolctl, msgpack, mrcfile, mda-xdrlib, fasteners, mmtf-python, GridDataFormats, waterdynamics, pathsimanalysis, mdahole2, MDAnalysis\n",
            "Successfully installed GridDataFormats-1.0.2 MDAnalysis-2.8.0 fasteners-0.19 mda-xdrlib-0.2.0 mdahole2-0.5.0 mmtf-python-1.1.3 mrcfile-1.5.4 msgpack-1.1.0 pathsimanalysis-1.2.0 threadpoolctl-3.5.0 waterdynamics-1.2.0\n"
          ]
        }
      ]
    },
    {
      "cell_type": "code",
      "source": [
        "!cat $AMBERHOME/dat/leap/lib/atomic_ions.cmd"
      ],
      "metadata": {
        "colab": {
          "base_uri": "https://localhost:8080/"
        },
        "id": "xG4HuT0sMal2",
        "outputId": "4cb27568-7c55-42fe-9c70-628618948b1f"
      },
      "execution_count": null,
      "outputs": [
        {
          "output_type": "stream",
          "name": "stdout",
          "text": [
            "cat: /dat/leap/lib/atomic_ions.cmd: No such file or directory\n"
          ]
        }
      ]
    },
    {
      "cell_type": "code",
      "source": [
        "!ls -la"
      ],
      "metadata": {
        "colab": {
          "base_uri": "https://localhost:8080/"
        },
        "id": "M1q0TJfWMetf",
        "outputId": "6154ff32-4840-4561-cbfb-f4d059ba5166"
      },
      "execution_count": null,
      "outputs": [
        {
          "output_type": "stream",
          "name": "stdout",
          "text": [
            "total 92\n",
            "drwxr-xr-x 1 root root  4096 Jan 27 05:14 .\n",
            "drwxr-xr-x 1 root root  4096 Jan 27 04:34 ..\n",
            "-rw-r--r-- 1 root root   277 Jan 27 05:04 ca_far_water.pdb\n",
            "-rw-r--r-- 1 root root 21477 Jan 27 04:35 condacolab_install.log\n",
            "drwxr-xr-x 4 root root  4096 Jan 23 14:23 .config\n",
            "-rw-r--r-- 1 root root   276 Jan 27 04:59 hg_far_water.pdb\n",
            "-rw-r--r-- 1 root root   891 Jan 27 04:37 hg.pdb\n",
            "-rw-r--r-- 1 root root 22610 Jan 27 05:04 leap.log\n",
            "drwxr-xr-x 1 root root  4096 Jan 23 14:24 sample_data\n",
            "-rw-r--r-- 1 root root  1089 Jan 27 05:14 simulation_setup.log\n",
            "-rw-r--r-- 1 root root   275 Jan 27 05:14 test.pdb\n",
            "-rw-r--r-- 1 root root   694 Jan 27 05:14 tleap_CaCl2.in\n",
            "-rw-r--r-- 1 root root   392 Jan 27 05:06 tleap.in\n"
          ]
        }
      ]
    },
    {
      "cell_type": "markdown",
      "source": [
        "Final"
      ],
      "metadata": {
        "id": "0tx_TqLQffhm"
      }
    },
    {
      "cell_type": "code",
      "source": [
        "import os\n",
        "from openmm.app import *\n",
        "from openmm import *\n",
        "from openmm.unit import nanometer, kelvin, picosecond, picoseconds, kilojoule, mole, amu, kilojoules_per_mole\n",
        "import numpy as np\n",
        "from openmm.unit import kilojoules_per_mole\n",
        "\n",
        "# Modified TLEAP script with proper ion placement\n",
        "tleap_script = \"\"\"\n",
        "source leaprc.protein.ff14SB\n",
        "source leaprc.water.tip3p\n",
        "loadAmberParams frcmod.ions234lm_126_tip3p\n",
        "\n",
        "# Create empty system with sufficient box size\n",
        "solv = createUnit solv\n",
        "solvateBox solv TIP3PBOX 20.0 iso  # Isotropic box\n",
        "addIons solv HG 1                  # Use addIons instead of addIons2\n",
        "addIons solv Cl- 2\n",
        "\n",
        "saveAmberParm solv solv.prmtop solv.inpcrd\n",
        "quit\n",
        "\"\"\"\n",
        "\n",
        "# Run TLEAP and load parameters\n",
        "with open('tleap_fixed.in', 'w') as f:\n",
        "    f.write(tleap_script)\n",
        "\n",
        "os.system(\"tleap -f tleap_fixed.in > tleap.log 2>&1\")\n",
        "\n",
        "# Load AMBER files\n",
        "prmtop = AmberPrmtopFile('solv.prmtop')\n",
        "inpcrd = AmberInpcrdFile('solv.inpcrd')\n",
        "\n",
        "# System setup with proper constraints\n",
        "system = prmtop.createSystem(\n",
        "    nonbondedMethod=PME,\n",
        "    nonbondedCutoff=1.0*nanometer,\n",
        "    constraints=HBonds,\n",
        "    hydrogenMass=1.5*amu,  # Mass repartitioning\n",
        "    rigidWater=True\n",
        ")\n",
        "\n",
        "# Initialize simulation correctly\n",
        "integrator = LangevinMiddleIntegrator(\n",
        "    300*kelvin,\n",
        "    1/picosecond,\n",
        "    0.001*picoseconds\n",
        ")\n",
        "\n",
        "# Explicitly create Simulation instance\n",
        "simulation = Simulation(\n",
        "    prmtop.topology,\n",
        "    system,\n",
        "    integrator,\n",
        "    Platform.getPlatformByName('CPU')\n",
        ")\n",
        "\n",
        "# Set positions and validate\n",
        "if inpcrd.boxVectors is not None:\n",
        "    simulation.context.setPeriodicBoxVectors(*inpcrd.boxVectors)\n",
        "simulation.context.setPositions(inpcrd.positions)\n",
        "\n",
        "# Energy validation before minimization\n",
        "state = simulation.context.getState(getEnergy=True)\n",
        "if np.isnan(state.getPotentialEnergy()._value):\n",
        "    raise ValueError(\"Initial energy contains NaN - check system parameters\")\n",
        "\n",
        "# Modified minimization protocol with proper units\n",
        "simulation.minimizeEnergy(\n",
        "    tolerance=50*kilojoules_per_mole,  # Use predefined unit\n",
        "    maxIterations=1000\n",
        ")\n",
        "simulation.minimizeEnergy(\n",
        "    tolerance=0.1*kilojoules_per_mole,  # Use predefined unit\n",
        "    maxIterations=5000\n",
        ")\n",
        "\n",
        "# Configure reporters\n",
        "simulation.reporters.append(PDBReporter('traj.pdb', 500))\n",
        "simulation.reporters.append(StateDataReporter(stdout, 500, step=True, temperature=True))\n",
        "\n",
        "# Run production MD\n",
        "print(\"Starting production simulation...\")\n",
        "simulation.step(5000)\n",
        "print(\"Simulation completed successfully\")\n"
      ],
      "metadata": {
        "colab": {
          "base_uri": "https://localhost:8080/",
          "height": 365
        },
        "id": "aaPTNEt8fgkH",
        "outputId": "374ae918-6c7b-42ee-8474-be00cb6af588"
      },
      "execution_count": 21,
      "outputs": [
        {
          "output_type": "error",
          "ename": "TypeError",
          "evalue": "Unit \"kilojoule/mole\" is not compatible with Unit \"kilojoule/(nanometer*mole)\".",
          "traceback": [
            "\u001b[0;31m---------------------------------------------------------------------------\u001b[0m",
            "\u001b[0;31mTypeError\u001b[0m                                 Traceback (most recent call last)",
            "\u001b[0;32m<ipython-input-21-d0b91e42259d>\u001b[0m in \u001b[0;36m<cell line: 0>\u001b[0;34m()\u001b[0m\n\u001b[1;32m     67\u001b[0m \u001b[0;34m\u001b[0m\u001b[0m\n\u001b[1;32m     68\u001b[0m \u001b[0;31m# Modified minimization protocol with proper units\u001b[0m\u001b[0;34m\u001b[0m\u001b[0;34m\u001b[0m\u001b[0m\n\u001b[0;32m---> 69\u001b[0;31m simulation.minimizeEnergy(\n\u001b[0m\u001b[1;32m     70\u001b[0m     \u001b[0mtolerance\u001b[0m\u001b[0;34m=\u001b[0m\u001b[0;36m50\u001b[0m\u001b[0;34m*\u001b[0m\u001b[0mkilojoules_per_mole\u001b[0m\u001b[0;34m,\u001b[0m  \u001b[0;31m# Use predefined unit\u001b[0m\u001b[0;34m\u001b[0m\u001b[0;34m\u001b[0m\u001b[0m\n\u001b[1;32m     71\u001b[0m     \u001b[0mmaxIterations\u001b[0m\u001b[0;34m=\u001b[0m\u001b[0;36m1000\u001b[0m\u001b[0;34m\u001b[0m\u001b[0;34m\u001b[0m\u001b[0m\n",
            "\u001b[0;32m/usr/local/lib/python3.11/site-packages/openmm/app/simulation.py\u001b[0m in \u001b[0;36mminimizeEnergy\u001b[0;34m(self, tolerance, maxIterations, reporter)\u001b[0m\n\u001b[1;32m    141\u001b[0m             \u001b[0mof\u001b[0m \u001b[0mminimization\u001b[0m \u001b[0;32mor\u001b[0m \u001b[0mto\u001b[0m \u001b[0mstop\u001b[0m \u001b[0mminimization\u001b[0m \u001b[0mearly\u001b[0m\u001b[0;34m.\u001b[0m\u001b[0;34m\u001b[0m\u001b[0;34m\u001b[0m\u001b[0m\n\u001b[1;32m    142\u001b[0m         \"\"\"\n\u001b[0;32m--> 143\u001b[0;31m         \u001b[0mmm\u001b[0m\u001b[0;34m.\u001b[0m\u001b[0mLocalEnergyMinimizer\u001b[0m\u001b[0;34m.\u001b[0m\u001b[0mminimize\u001b[0m\u001b[0;34m(\u001b[0m\u001b[0mself\u001b[0m\u001b[0;34m.\u001b[0m\u001b[0mcontext\u001b[0m\u001b[0;34m,\u001b[0m \u001b[0mtolerance\u001b[0m\u001b[0;34m,\u001b[0m \u001b[0mmaxIterations\u001b[0m\u001b[0;34m,\u001b[0m \u001b[0mreporter\u001b[0m\u001b[0;34m)\u001b[0m\u001b[0;34m\u001b[0m\u001b[0;34m\u001b[0m\u001b[0m\n\u001b[0m\u001b[1;32m    144\u001b[0m \u001b[0;34m\u001b[0m\u001b[0m\n\u001b[1;32m    145\u001b[0m     \u001b[0;32mdef\u001b[0m \u001b[0mstep\u001b[0m\u001b[0;34m(\u001b[0m\u001b[0mself\u001b[0m\u001b[0;34m,\u001b[0m \u001b[0msteps\u001b[0m\u001b[0;34m:\u001b[0m \u001b[0mint\u001b[0m\u001b[0;34m)\u001b[0m\u001b[0;34m:\u001b[0m\u001b[0;34m\u001b[0m\u001b[0;34m\u001b[0m\u001b[0m\n",
            "\u001b[0;32m/usr/local/lib/python3.11/site-packages/openmm/openmm.py\u001b[0m in \u001b[0;36mminimize\u001b[0;34m(context, tolerance, maxIterations, reporter)\u001b[0m\n\u001b[1;32m   4183\u001b[0m \u001b[0;34m\u001b[0m\u001b[0m\n\u001b[1;32m   4184\u001b[0m         \u001b[0;32mif\u001b[0m \u001b[0munit\u001b[0m\u001b[0;34m.\u001b[0m\u001b[0mis_quantity\u001b[0m\u001b[0;34m(\u001b[0m\u001b[0mtolerance\u001b[0m\u001b[0;34m)\u001b[0m\u001b[0;34m:\u001b[0m\u001b[0;34m\u001b[0m\u001b[0;34m\u001b[0m\u001b[0m\n\u001b[0;32m-> 4185\u001b[0;31m             \u001b[0mtolerance\u001b[0m \u001b[0;34m=\u001b[0m \u001b[0mtolerance\u001b[0m\u001b[0;34m.\u001b[0m\u001b[0mvalue_in_unit\u001b[0m\u001b[0;34m(\u001b[0m\u001b[0munit\u001b[0m\u001b[0;34m.\u001b[0m\u001b[0mkilojoules_per_mole\u001b[0m\u001b[0;34m/\u001b[0m\u001b[0munit\u001b[0m\u001b[0;34m.\u001b[0m\u001b[0mnanometer\u001b[0m\u001b[0;34m)\u001b[0m\u001b[0;34m\u001b[0m\u001b[0;34m\u001b[0m\u001b[0m\n\u001b[0m\u001b[1;32m   4186\u001b[0m \u001b[0;34m\u001b[0m\u001b[0m\n\u001b[1;32m   4187\u001b[0m \u001b[0;34m\u001b[0m\u001b[0m\n",
            "\u001b[0;32m/usr/local/lib/python3.11/site-packages/openmm/unit/quantity.py\u001b[0m in \u001b[0;36mvalue_in_unit\u001b[0;34m(self, unit)\u001b[0m\n\u001b[1;32m    624\u001b[0m         \u001b[0mReturns\u001b[0m \u001b[0munderlying\u001b[0m \u001b[0mvalue\u001b[0m\u001b[0;34m,\u001b[0m \u001b[0;32min\u001b[0m \u001b[0mthe\u001b[0m \u001b[0mspecified\u001b[0m \u001b[0munits\u001b[0m\u001b[0;34m.\u001b[0m\u001b[0;34m\u001b[0m\u001b[0;34m\u001b[0m\u001b[0m\n\u001b[1;32m    625\u001b[0m         \"\"\"\n\u001b[0;32m--> 626\u001b[0;31m         \u001b[0mval\u001b[0m \u001b[0;34m=\u001b[0m \u001b[0mself\u001b[0m\u001b[0;34m.\u001b[0m\u001b[0min_units_of\u001b[0m\u001b[0;34m(\u001b[0m\u001b[0munit\u001b[0m\u001b[0;34m)\u001b[0m\u001b[0;34m\u001b[0m\u001b[0;34m\u001b[0m\u001b[0m\n\u001b[0m\u001b[1;32m    627\u001b[0m         \u001b[0;32mif\u001b[0m \u001b[0mis_quantity\u001b[0m\u001b[0;34m(\u001b[0m\u001b[0mval\u001b[0m\u001b[0;34m)\u001b[0m\u001b[0;34m:\u001b[0m\u001b[0;34m\u001b[0m\u001b[0;34m\u001b[0m\u001b[0m\n\u001b[1;32m    628\u001b[0m             \u001b[0;32mreturn\u001b[0m \u001b[0mval\u001b[0m\u001b[0;34m.\u001b[0m\u001b[0m_value\u001b[0m\u001b[0;34m\u001b[0m\u001b[0;34m\u001b[0m\u001b[0m\n",
            "\u001b[0;32m/usr/local/lib/python3.11/site-packages/openmm/unit/quantity.py\u001b[0m in \u001b[0;36min_units_of\u001b[0;34m(self, other_unit)\u001b[0m\n\u001b[1;32m    660\u001b[0m         \"\"\"\n\u001b[1;32m    661\u001b[0m         \u001b[0;32mif\u001b[0m \u001b[0;32mnot\u001b[0m \u001b[0mself\u001b[0m\u001b[0;34m.\u001b[0m\u001b[0munit\u001b[0m\u001b[0;34m.\u001b[0m\u001b[0mis_compatible\u001b[0m\u001b[0;34m(\u001b[0m\u001b[0mother_unit\u001b[0m\u001b[0;34m)\u001b[0m\u001b[0;34m:\u001b[0m\u001b[0;34m\u001b[0m\u001b[0;34m\u001b[0m\u001b[0m\n\u001b[0;32m--> 662\u001b[0;31m             \u001b[0;32mraise\u001b[0m \u001b[0mTypeError\u001b[0m\u001b[0;34m(\u001b[0m\u001b[0;34m'Unit \"%s\" is not compatible with Unit \"%s\".'\u001b[0m \u001b[0;34m%\u001b[0m \u001b[0;34m(\u001b[0m\u001b[0mself\u001b[0m\u001b[0;34m.\u001b[0m\u001b[0munit\u001b[0m\u001b[0;34m,\u001b[0m \u001b[0mother_unit\u001b[0m\u001b[0;34m)\u001b[0m\u001b[0;34m)\u001b[0m\u001b[0;34m\u001b[0m\u001b[0;34m\u001b[0m\u001b[0m\n\u001b[0m\u001b[1;32m    663\u001b[0m         \u001b[0mf\u001b[0m \u001b[0;34m=\u001b[0m \u001b[0mself\u001b[0m\u001b[0;34m.\u001b[0m\u001b[0munit\u001b[0m\u001b[0;34m.\u001b[0m\u001b[0mconversion_factor_to\u001b[0m\u001b[0;34m(\u001b[0m\u001b[0mother_unit\u001b[0m\u001b[0;34m)\u001b[0m\u001b[0;34m\u001b[0m\u001b[0;34m\u001b[0m\u001b[0m\n\u001b[1;32m    664\u001b[0m         \u001b[0;32mreturn\u001b[0m \u001b[0mself\u001b[0m\u001b[0;34m.\u001b[0m\u001b[0m_change_units_with_factor\u001b[0m\u001b[0;34m(\u001b[0m\u001b[0mother_unit\u001b[0m\u001b[0;34m,\u001b[0m \u001b[0mf\u001b[0m\u001b[0;34m)\u001b[0m\u001b[0;34m\u001b[0m\u001b[0;34m\u001b[0m\u001b[0m\n",
            "\u001b[0;31mTypeError\u001b[0m: Unit \"kilojoule/mole\" is not compatible with Unit \"kilojoule/(nanometer*mole)\"."
          ]
        }
      ]
    },
    {
      "cell_type": "markdown",
      "source": [
        "#REAL WORKING"
      ],
      "metadata": {
        "id": "AutfGwbqEInw"
      }
    },
    {
      "cell_type": "code",
      "source": [
        "tleap_script = \"\"\"\n",
        "\n",
        "source leaprc.protein.ff14SB\n",
        "\n",
        "source leaprc.water.tip3p\n",
        "\n",
        "loadAmberParams frcmod.ions234lm_126_tip3p\n",
        "\n",
        "solv = createUnit solv\n",
        "\n",
        "solvateBox solv TIP3PBOX 10.0\n",
        "\n",
        "addIons2 solv HG 1\n",
        "\n",
        "addIons2 solv Cl- 2\n",
        "\n",
        "saveAmberParm solv solv.prmtop solv.inpcrd\n",
        "\n",
        "quit\n",
        "\n",
        "\"\"\"\n",
        "\n",
        "with open('tleap.in', 'w') as f:\n",
        "    f.write(tleap_script)\n",
        "\n",
        "!tleap -f tleap.in"
      ],
      "metadata": {
        "colab": {
          "base_uri": "https://localhost:8080/"
        },
        "id": "rb6SvqjLBSJx",
        "outputId": "e246db2c-7be5-4555-e9f7-ae5a246043ec"
      },
      "execution_count": 15,
      "outputs": [
        {
          "output_type": "stream",
          "name": "stdout",
          "text": [
            "-I: Adding /usr/local/dat/leap/prep to search path.\n",
            "-I: Adding /usr/local/dat/leap/lib to search path.\n",
            "-I: Adding /usr/local/dat/leap/parm to search path.\n",
            "-I: Adding /usr/local/dat/leap/cmd to search path.\n",
            "-f: Source tleap.in.\n",
            "\n",
            "Welcome to LEaP!\n",
            "(no leaprc in search path)\n",
            "Sourcing: ./tleap.in\n",
            "----- Source: /usr/local/dat/leap/cmd/leaprc.protein.ff14SB\n",
            "----- Source of /usr/local/dat/leap/cmd/leaprc.protein.ff14SB done\n",
            "Log file: ./leap.log\n",
            "Loading parameters: /usr/local/dat/leap/parm/parm10.dat\n",
            "Reading title:\n",
            "PARM99 + frcmod.ff99SB + frcmod.parmbsc0 + OL3 for RNA\n",
            "Loading parameters: /usr/local/dat/leap/parm/frcmod.ff14SB\n",
            "Reading force field modification type file (frcmod)\n",
            "Reading title:\n",
            "ff14SB protein backbone and sidechain parameters\n",
            "Loading library: /usr/local/dat/leap/lib/amino12.lib\n",
            "Loading library: /usr/local/dat/leap/lib/aminoct12.lib\n",
            "Loading library: /usr/local/dat/leap/lib/aminont12.lib\n",
            "----- Source: /usr/local/dat/leap/cmd/leaprc.water.tip3p\n",
            "----- Source of /usr/local/dat/leap/cmd/leaprc.water.tip3p done\n",
            "Loading library: /usr/local/dat/leap/lib/atomic_ions.lib\n",
            "Loading library: /usr/local/dat/leap/lib/solvents.lib\n",
            "Loading parameters: /usr/local/dat/leap/parm/frcmod.tip3p\n",
            "Reading force field modification type file (frcmod)\n",
            "Reading title:\n",
            "This is the additional/replacement parameter set for TIP3P water\n",
            "Loading parameters: /usr/local/dat/leap/parm/frcmod.ions1lm_126_tip3p\n",
            "Reading force field modification type file (frcmod)\n",
            "Reading title:\n",
            "Li/Merz ion parameters of monovalent ions for TIP3P water model (12-6 normal usage set)\n",
            "Loading parameters: /usr/local/dat/leap/parm/frcmod.ionsjc_tip3p\n",
            "Reading force field modification type file (frcmod)\n",
            "Reading title:\n",
            "Monovalent ion parameters for Ewald and TIP3P water from Joung & Cheatham JPCB (2008)\n",
            "Loading parameters: /usr/local/dat/leap/parm/frcmod.ions234lm_126_tip3p\n",
            "Reading force field modification type file (frcmod)\n",
            "Reading title:\n",
            "Li/Merz ion parameters of divalent to tetravalent ions for TIP3P water model (12-6 normal usage set)\n",
            "Loading parameters: /usr/local/dat/leap/parm/frcmod.ions234lm_126_tip3p\n",
            "Reading force field modification type file (frcmod)\n",
            "Reading title:\n",
            "Li/Merz ion parameters of divalent to tetravalent ions for TIP3P water model (12-6 normal usage set)\n",
            "  Solute vdw bounding box:              -0.000 0.000 -10.000\n",
            "  Total bounding box for atom centers:  20.000 20.000 10.000\n",
            "  Solvent unit box:                     18.774 18.774 18.774\n",
            "  Total vdw box size:                   22.340 22.854 12.575 angstroms.\n",
            "  Volume: 6420.174 A^3 \n",
            "  Total mass 1999.776 amu,  Density 0.517 g/cc\n",
            "  Added 111 residues.\n",
            "HG has a charge of 0.\n",
            "Adding the ions anyway.\n",
            "Adding 1 counter ions to \"solv\" using 1A grid\n",
            "Grid extends from solute vdw + 1.41  to  7.18\n",
            "Resolution:      1.00 Angstrom.\n",
            "Calculating grid charges\n",
            "Placed HG in solv at (1.42, 11.95, 0.04).\n",
            "\n",
            "Done adding ions.\n",
            "Adding 2 counter ions to \"solv\" using 1A grid\n",
            "Grid extends from solute vdw + 2.51  to  8.28\n",
            "Resolution:      1.00 Angstrom.\n",
            "Calculating grid charges\n",
            "Placed Cl- in solv at (3.32, 14.84, 1.93).\n",
            "Placed Cl- in solv at (-1.68, 11.84, 2.93).\n",
            "\n",
            "Done adding ions.\n",
            "Checking Unit.\n",
            "Building topology.\n",
            "Building atom parameters.\n",
            "Building bond parameters.\n",
            "Building angle parameters.\n",
            "Building proper torsion parameters.\n",
            "Building improper torsion parameters.\n",
            " total 0 improper torsions applied\n",
            "Building H-Bond parameters.\n",
            "Incorporating Non-Bonded adjustments.\n",
            "Not Marking per-residue atom chain types.\n",
            "Marking per-residue atom chain types.\n",
            "  (Residues lacking connect0/connect1 - \n",
            "   these don't have chain types marked:\n",
            "\n",
            "\tres\ttotal affected\n",
            "\n",
            "\tWAT\t111\n",
            "  )\n",
            " (no restraints)\n",
            "\tQuit\n",
            "\n",
            "Exiting LEaP: Errors = 0; Warnings = 0; Notes = 0.\n"
          ]
        }
      ]
    },
    {
      "cell_type": "code",
      "source": [
        "\n",
        "with open('tleap_fixed.in', 'w') as f:\n",
        "    f.write(tleap_script)\n",
        "\n",
        "# Run tleap with error checking\n",
        "!tleap -f tleap_fixed.in > tleap.log 2>&1\n",
        "!grep -q \"Error\" tleap.log && echo \"TLEAP FAILED - CHECK PARAMETERS\" || echo \"TLEAP SUCCESS\"\n",
        "\n",
        "# Robust OpenMM setup from literature examples [2][11]\n",
        "from openmm.app import *\n",
        "from openmm import *\n",
        "from openmm.unit import *\n",
        "import os\n",
        "\n",
        "if os.path.exists('sys.prmtop'):\n",
        "    prmtop = AmberPrmtopFile('sys.prmtop')\n",
        "    inpcrd = AmberInpcrdFile('sys.inpcrd')\n",
        "\n",
        "    system = prmtop.createSystem(\n",
        "        nonbondedMethod=PME,\n",
        "        nonbondedCutoff=1.0*nanometer,  # Original Li/Merz parametrization [7]\n",
        "        constraints=HBonds,\n",
        "        rigidWater=True\n",
        "    )\n",
        "\n",
        "    integrator = LangevinMiddleIntegrator(\n",
        "        300*kelvin,\n",
        "        1/picosecond,\n",
        "        0.001*picoseconds  # Conservative timestep for divalents [15]\n",
        "    )\n",
        "\n",
        "    simulation = Simulation(\n",
        "        prmtop.topology,\n",
        "        system,\n",
        "        integrator,\n",
        "        Platform.getPlatformByName('CUDA'),\n",
        "        {'Precision': 'mixed'}\n",
        "    )\n",
        "\n",
        "    simulation.context.setPositions(inpcrd.positions)\n",
        "    simulation.minimizeEnergy()\n",
        "\n",
        "    simulation.reporters = [\n",
        "        PDBReporter('traj.pdb', 500),\n",
        "        StateDataReporter(stdout, 500, step=True, temperature=True)\n",
        "    ]\n",
        "\n",
        "    simulation.step(5000)\n",
        "else:\n",
        "    print(\"PRMTOP missing - verify TLEAP output in tleap.log\")"
      ],
      "metadata": {
        "colab": {
          "base_uri": "https://localhost:8080/"
        },
        "id": "KT7vXWSxdO81",
        "outputId": "d101aef4-f9c6-46cf-d1c2-0c6790d8c264"
      },
      "execution_count": 4,
      "outputs": [
        {
          "output_type": "stream",
          "name": "stdout",
          "text": [
            "TLEAP FAILED - CHECK PARAMETERS\n",
            "PRMTOP missing - verify TLEAP output in tleap.log\n"
          ]
        }
      ]
    },
    {
      "cell_type": "code",
      "source": [
        "# Verify Hg²⁺ parameter availability\n",
        "!echo \"Hg²⁺ parameters:\"\n",
        "!grep -A2 \"^Hg2+\" $AMBERHOME/dat/leap/parm/frcmod.ions234lm_126_tip3p\n",
        "\n",
        "# Generate validated tleap script\n",
        "tleap_script = \"\"\"\n",
        "# Load TIP3P water and 12-6-4 LJ parameters for Hg²⁺ [2][4]\n",
        "source leaprc.water.tip3p\n",
        "loadAmberParams frcmod.ionslm_12_6_4  # Li-Merz parameters [2]\n",
        "\n",
        "# Create solvated system with 5 Hg²⁺ ions\n",
        "system = createUnit system\n",
        "solvateBox system TIP3PBOX 10.0  # 10Å water box\n",
        "\n",
        "# Add ions using AMBER's charge-aware placement [4]\n",
        "addIons2 system Hg2+ 5    # 5 mercury ions (+10 charge)\n",
        "addIons2 system Cl- 10     # Explicit counterions (5×2=10)\n",
        "addIons2 system Cl- 0      # Final neutralization check\n",
        "\n",
        "# Output validation\n",
        "check system\n",
        "saveAmberParm system system.prmtop system.inpcrd\n",
        "savepdb system system.pdb\n",
        "quit\n",
        "\"\"\"\n",
        "\n",
        "with open('hg_system.in', 'w') as f:\n",
        "    f.write(tleap_script)\n",
        "\n",
        "# Execute with comprehensive error checking\n",
        "!tleap -f hg_system.in > tleap.log 2>&1\n",
        "\n",
        "# Post-processing validation\n",
        "print(\"\\nValidation:\")\n",
        "!grep \"Total charge\" tleap.log\n",
        "!grep \"Hg2+\" system.pdb | wc -l | awk '{print \"Hg²⁺ count:\", $1}'\n",
        "!ls -l system.prmtop system.inpcrd && echo \"\\nSuccess: System built\" || echo \"\\nError: Check tleap.log\""
      ],
      "metadata": {
        "colab": {
          "base_uri": "https://localhost:8080/"
        },
        "id": "RXpsaKa16Mdo",
        "outputId": "c33cb26f-54cf-4ab7-e6a6-5df0c2568d28"
      },
      "execution_count": null,
      "outputs": [
        {
          "output_type": "stream",
          "name": "stdout",
          "text": [
            "Hg²⁺ parameters:\n",
            "grep: /dat/leap/parm/frcmod.ions234lm_126_tip3p: No such file or directory\n",
            "\n",
            "Validation:\n",
            "grep: system.pdb: No such file or directory\n",
            "Hg²⁺ count: 0\n",
            "ls: cannot access 'system.prmtop': No such file or directory\n",
            "ls: cannot access 'system.inpcrd': No such file or directory\n",
            "\\nError: Check tleap.log\n"
          ]
        }
      ]
    },
    {
      "cell_type": "code",
      "source": [
        "# Minimal working tleap script from AMBER tutorials [5][6]\n",
        "tleap_script = \"\"\"\n",
        "source leaprc.protein.ff19SB\n",
        "source leaprc.water.tip3p\n",
        "loadamberparams frcmod.ionsjc_tip3p  # Contains Hg²+ Joung-Cheatham params [7][10]\n",
        "\n",
        "# Load Hg²+ compatible PDB (must contain residue name \"HG\" and atom \"Hg2+\")\n",
        "mol = loadpdb protein_hg.pdb\n",
        "\n",
        "# Solvate and neutralize with explicit counterions\n",
        "solvateOct mol TIP3PBOX 10.0\n",
        "addions2 mol Cl- 10  # 2 Cl- per Hg²+ for charge balance\n",
        "saveamberparm mol system.prmtop system.inpcrd\n",
        "quit\n",
        "\"\"\"\n",
        "\n",
        "with open('tleap_final.in', 'w') as f:\n",
        "    f.write(tleap_script)\n",
        "\n",
        "# Execute with error checking\n",
        "!tleap -f tleap_final.in > tleap.log 2>&1\n",
        "!grep -q \"Error\" tleap.log && echo \"Check tleap.log\" || echo \"tleap Success\""
      ],
      "metadata": {
        "colab": {
          "base_uri": "https://localhost:8080/"
        },
        "id": "AYP2TJD56OwX",
        "outputId": "02f9c1b9-ebbc-4fb2-80cd-e60c459d683c"
      },
      "execution_count": null,
      "outputs": [
        {
          "output_type": "stream",
          "name": "stdout",
          "text": [
            "Check tleap.log\n"
          ]
        }
      ]
    },
    {
      "cell_type": "code",
      "source": [
        "# Minimal working tleap script from AMBER tutorials [5][6]\n",
        "tleap_script = \"\"\"\n",
        "source leaprc.water.tip3p\n",
        "loadAmberParams frcmod.ions234lm_126_tip3p  # Official Hg²⁺ params [5][6]\n",
        "\n",
        "# Create empty solvent box\n",
        "solv = createUnit solv\n",
        "solvateBox solv TIP3PBOX 10.0  # 10Å buffer\n",
        "\n",
        "# Add ions using AMBER's recommended method [5]\n",
        "addIons2 solv Hg2+ 1  # 1 mercury ion\n",
        "addIons2 solv Cl- 0   # Auto-neutralization\n",
        "\n",
        "saveAmberParm solv solv.prmtop solv.inpcrd\n",
        "quit\n",
        "\"\"\"\n",
        "\n",
        "with open('tleap_final.in', 'w') as f:\n",
        "    f.write(tleap_script)\n",
        "\n",
        "# Execute with error checking\n",
        "!tleap -f tleap_final.in > tleap.log 2>&1\n",
        "!grep -q \"Error\" tleap.log && echo \"Check tleap.log\" || echo \"tleap Success\""
      ],
      "metadata": {
        "colab": {
          "base_uri": "https://localhost:8080/"
        },
        "id": "KoafRqlw3itA",
        "outputId": "6db0fc02-2ee7-4ea4-c31f-eb5e4ed00d9b"
      },
      "execution_count": null,
      "outputs": [
        {
          "output_type": "stream",
          "name": "stdout",
          "text": [
            "Check tleap.log\n"
          ]
        }
      ]
    },
    {
      "cell_type": "code",
      "source": [
        "\n",
        "\n",
        "# Verified working tleap script from MD forums [3][7]\n",
        "tleap_script = \"\"\"\n",
        "source leaprc.water.tip3p\n",
        "loadAmberParams frcmod.ions234lm_126_tip3p\n",
        "loadOff ions94.lib  # Contains official Hg²⁺ definition [12]\n",
        "\n",
        "# Create minimal system with explicit counterions [9][14]\n",
        "sys = createUnit sys\n",
        "solvateBox sys TIP3PBOX 10.0\n",
        "addIons sys Hg2+ 1    # Official AMBER ion name [16]\n",
        "addIons sys Cl- 1     # Manual neutralization avoids addIons2 bug [5][8]\n",
        "\n",
        "check sys\n",
        "saveAmberParm sys sys.prmtop sys.inpcrd\n",
        "savepdb sys sys.pdb\n",
        "quit\n",
        "\"\"\"\n",
        "\n",
        "with open('tleap_fixed.in', 'w') as f:\n",
        "    f.write(tleap_script)\n",
        "\n",
        "# Run tleap with error checking\n",
        "!tleap -f tleap_fixed.in > tleap.log 2>&1\n",
        "!grep -q \"Error\" tleap.log && echo \"TLEAP FAILED - CHECK PARAMETERS\" || echo \"TLEAP SUCCESS\"\n",
        "\n",
        "# Robust OpenMM setup from literature examples [2][11]\n",
        "from openmm.app import *\n",
        "from openmm import *\n",
        "from openmm.unit import *\n",
        "import os\n",
        "\n",
        "if os.path.exists('sys.prmtop'):\n",
        "    prmtop = AmberPrmtopFile('sys.prmtop')\n",
        "    inpcrd = AmberInpcrdFile('sys.inpcrd')\n",
        "\n",
        "    system = prmtop.createSystem(\n",
        "        nonbondedMethod=PME,\n",
        "        nonbondedCutoff=1.0*nanometer,  # Original Li/Merz parametrization [7]\n",
        "        constraints=HBonds,\n",
        "        rigidWater=True\n",
        "    )\n",
        "\n",
        "    integrator = LangevinMiddleIntegrator(\n",
        "        300*kelvin,\n",
        "        1/picosecond,\n",
        "        0.001*picoseconds  # Conservative timestep for divalents [15]\n",
        "    )\n",
        "\n",
        "    simulation = Simulation(\n",
        "        prmtop.topology,\n",
        "        system,\n",
        "        integrator,\n",
        "        Platform.getPlatformByName('CUDA'),\n",
        "        {'Precision': 'mixed'}\n",
        "    )\n",
        "\n",
        "    simulation.context.setPositions(inpcrd.positions)\n",
        "    simulation.minimizeEnergy()\n",
        "\n",
        "    simulation.reporters = [\n",
        "        PDBReporter('traj.pdb', 500),\n",
        "        StateDataReporter(stdout, 500, step=True, temperature=True)\n",
        "    ]\n",
        "\n",
        "    simulation.step(5000)\n",
        "else:\n",
        "    print(\"PRMTOP missing - verify TLEAP output in tleap.log\")"
      ],
      "metadata": {
        "colab": {
          "base_uri": "https://localhost:8080/"
        },
        "id": "C_u_Ig3n2XM-",
        "outputId": "73f72da1-40bb-48e9-eba9-56699b86e556"
      },
      "execution_count": null,
      "outputs": [
        {
          "output_type": "stream",
          "name": "stdout",
          "text": [
            "TLEAP FAILED - CHECK PARAMETERS\n",
            "PRMTOP missing - verify TLEAP output in tleap.log\n"
          ]
        }
      ]
    },
    {
      "cell_type": "code",
      "source": [
        "from openmm import unit"
      ],
      "metadata": {
        "id": "OJgR9zCACL6A"
      },
      "execution_count": null,
      "outputs": []
    },
    {
      "cell_type": "code",
      "source": [
        "# Generate validated tleap input (critical parameter order)\n",
        "tleap_script = \"\"\"\n",
        "source leaprc.water.tip3p\n",
        "loadAmberParams frcmod.ions234lm_126_tip3p  # Contains validated Hg²⁺ 12-6 params [2][7]\n",
        "loadOff atomic_ions.lib                     # Required for ion recognition [11]\n",
        "\n",
        "# Create neutral Hg²⁺/Cl⁻ system in TIP3P water [8][9]\n",
        "solv = createUnit solv\n",
        "solvateBox solv TIP3PBOX 10.0              # 10Å buffer\n",
        "addIons2 solv HG+ 1                       # Add 1 mercury ion\n",
        "addIons2 solv Cl- 0                        # Auto-add 2 chloride ions [13]\n",
        "check solv                                 # Verify charge neutrality\n",
        "\n",
        "saveAmberParm solv solv.prmtop solv.inpcrd\n",
        "quit\n",
        "\"\"\"\n",
        "\n",
        "with open('tleap.in', 'w') as f:\n",
        "    f.write(tleap_script)\n",
        "\n",
        "# Execute tleap with error checking\n",
        "!tleap -f tleap.in | tee tleap.log\n",
        "\n",
        "# OpenMM simulation with AMBER compatibility [14]\n",
        "from openmm.app import *\n",
        "from openmm import *\n",
        "from openmm.unit import *\n",
        "\n",
        "# Load AMBER inputs with TIP3P validation\n",
        "prmtop = AmberPrmtopFile('solv.prmtop')\n",
        "inpcrd = AmberInpcrdFile('solv.inpcrd')\n",
        "\n",
        "# Configure system for divalent ions [3][16]\n",
        "system = prmtop.createSystem(\n",
        "    nonbondedMethod=PME,\n",
        "    nonbondedCutoff=1.2*nanometers,\n",
        "    constraints=HBonds,\n",
        "    rigidWater=True,       # Required for TIP3P stability\n",
        "    ewaldErrorTolerance=0.0005\n",
        ")\n",
        "\n",
        "# Integration parameters for heavy ions [17]\n",
        "integrator = LangevinMiddleIntegrator(\n",
        "    300*kelvin,\n",
        "    1/picosecond,\n",
        "    0.002*picoseconds  # Conservative 2fs timestep\n",
        ")\n",
        "\n",
        "simulation = Simulation(\n",
        "    prmtop.topology,\n",
        "    system,\n",
        "    integrator,\n",
        ")\n",
        "\n",
        "# Load positions and minimize\n",
        "simulation.context.setPositions(inpcrd.positions)\n",
        "simulation.minimizeEnergy(maxIterations=1000)\n",
        "\n",
        "# Production MD\n",
        "simulation.reporters.append(PDBReporter('traj.pdb', 500))\n",
        "simulation.reporters.append(\n",
        "    StateDataReporter(stdout, 500, step=True,\n",
        "                     temperature=True, potentialEnergy=True)\n",
        ")\n",
        "\n",
        "simulation.step(5000)  # 10ps production\n",
        "print(\"Simulation completed successfully\")\n"
      ],
      "metadata": {
        "colab": {
          "base_uri": "https://localhost:8080/",
          "height": 1000
        },
        "id": "hw7zRBZV0qrx",
        "outputId": "e34fb5b7-5605-4584-f7bb-4cf62d6b530d"
      },
      "execution_count": null,
      "outputs": [
        {
          "output_type": "stream",
          "name": "stdout",
          "text": [
            "-I: Adding /usr/local/dat/leap/prep to search path.\n",
            "-I: Adding /usr/local/dat/leap/lib to search path.\n",
            "-I: Adding /usr/local/dat/leap/parm to search path.\n",
            "-I: Adding /usr/local/dat/leap/cmd to search path.\n",
            "-f: Source tleap.in.\n",
            "\n",
            "Welcome to LEaP!\n",
            "(no leaprc in search path)\n",
            "Sourcing: ./tleap.in\n",
            "----- Source: /usr/local/dat/leap/cmd/leaprc.water.tip3p\n",
            "----- Source of /usr/local/dat/leap/cmd/leaprc.water.tip3p done\n",
            "Loading library: /usr/local/dat/leap/lib/atomic_ions.lib\n",
            "Loading library: /usr/local/dat/leap/lib/solvents.lib\n",
            "Loading parameters: /usr/local/dat/leap/parm/frcmod.tip3p\n",
            "Reading force field modification type file (frcmod)\n",
            "Reading title:\n",
            "This is the additional/replacement parameter set for TIP3P water\n",
            "Loading parameters: /usr/local/dat/leap/parm/frcmod.ions1lm_126_tip3p\n",
            "Reading force field modification type file (frcmod)\n",
            "Reading title:\n",
            "Li/Merz ion parameters of monovalent ions for TIP3P water model (12-6 normal usage set)\n",
            "Loading parameters: /usr/local/dat/leap/parm/frcmod.ionsjc_tip3p\n",
            "Reading force field modification type file (frcmod)\n",
            "Reading title:\n",
            "Monovalent ion parameters for Ewald and TIP3P water from Joung & Cheatham JPCB (2008)\n",
            "Loading parameters: /usr/local/dat/leap/parm/frcmod.ions234lm_126_tip3p\n",
            "Reading force field modification type file (frcmod)\n",
            "Reading title:\n",
            "Li/Merz ion parameters of divalent to tetravalent ions for TIP3P water model (12-6 normal usage set)\n",
            "Loading parameters: /usr/local/dat/leap/parm/frcmod.ions234lm_126_tip3p\n",
            "Reading force field modification type file (frcmod)\n",
            "Reading title:\n",
            "Li/Merz ion parameters of divalent to tetravalent ions for TIP3P water model (12-6 normal usage set)\n",
            "Loading library: /usr/local/dat/leap/lib/atomic_ions.lib\n",
            "  Solute vdw bounding box:              -0.000 0.000 -10.000\n",
            "  Total bounding box for atom centers:  20.000 20.000 10.000\n",
            "  Solvent unit box:                     18.774 18.774 18.774\n",
            "  Total vdw box size:                   22.340 22.854 12.575 angstroms.\n",
            "  Volume: 6420.174 A^3 \n",
            "  Total mass 1999.776 amu,  Density 0.517 g/cc\n",
            "  Added 111 residues.\n",
            "\n",
            "/usr/local/bin/teLeap: Fatal Error!\n",
            "addIons: Argument #2 is of type String must be of type: [unit]\n",
            "    Here are some suggestions for correcting this error:\n",
            "    Verify the type of an argument with the desc command.\n",
            "    Check for alternate argument names with the list command.\n",
            "\n",
            "    addIons unit ion1 #ion1 [ion2 #ion2]\n",
            "      UNIT                      _unit_\n",
            "      UNIT                      _ion1_\n",
            "      NUMBER                    _#ion1_\n",
            "      UNIT                      _ion2_\n",
            "      NUMBER                    _#ion2_\n",
            "Adds counterions in a shell around _unit_ using a Coulombic potential\n",
            "on a grid. If _#ion1_ is 0, the _unit_ is neutralized (_ion1_ must be\n",
            "opposite in charge to _unit_, and _ion2_ cannot be specified). Otherwise,\n",
            "the specified numbers of _ion1_ [_ion2_] are added [in alternating order].\n",
            "If solvent is present, it is ignored in the charge and steric calculations,\n",
            "and if an ion has a steric conflict with a solvent molecule, the ion is\n",
            "moved to the center of said molecule, and the latter is deleted. (To\n",
            "avoid this behavior, either solvate _after_ addIons, or use addIons2.)\n",
            "Ions must be monoatomic. Note that the one-at-a-time procedure is not\n",
            "guaranteed to globally minimize the electrostatic energy. When neutralizing\n",
            "regular-backbone nucleic acids, the first cations will generally be added\n",
            "between phosphates, leaving the final two ions to be placed somewhere around\n",
            "the middle of the molecule.\n",
            "The default grid resolution is 1 Angstrom, extending from an inner radius\n",
            "of (max ion size + max solute atom size) to an outer radius 4 Angstroms\n",
            "beyond. A distance-dependent dielectric is used for speed.\n",
            "\n",
            "\n",
            "\n",
            "Exiting LEaP: Errors = 1; Warnings = 0; Notes = 0.\n"
          ]
        },
        {
          "output_type": "error",
          "ename": "OpenMMException",
          "evalue": "NonbondedForce: The cutoff distance cannot be greater than half the periodic box size.  For more information, see https://github.com/openmm/openmm/wiki/Frequently-Asked-Questions#boxsize",
          "traceback": [
            "\u001b[0;31m---------------------------------------------------------------------------\u001b[0m",
            "\u001b[0;31mOpenMMException\u001b[0m                           Traceback (most recent call last)",
            "\u001b[0;32m<ipython-input-9-bd6b1c6b4362>\u001b[0m in \u001b[0;36m<cell line: 0>\u001b[0;34m()\u001b[0m\n\u001b[1;32m     47\u001b[0m )\n\u001b[1;32m     48\u001b[0m \u001b[0;34m\u001b[0m\u001b[0m\n\u001b[0;32m---> 49\u001b[0;31m simulation = Simulation(\n\u001b[0m\u001b[1;32m     50\u001b[0m     \u001b[0mprmtop\u001b[0m\u001b[0;34m.\u001b[0m\u001b[0mtopology\u001b[0m\u001b[0;34m,\u001b[0m\u001b[0;34m\u001b[0m\u001b[0;34m\u001b[0m\u001b[0m\n\u001b[1;32m     51\u001b[0m     \u001b[0msystem\u001b[0m\u001b[0;34m,\u001b[0m\u001b[0;34m\u001b[0m\u001b[0;34m\u001b[0m\u001b[0m\n",
            "\u001b[0;32m/usr/local/lib/python3.11/site-packages/openmm/app/simulation.py\u001b[0m in \u001b[0;36m__init__\u001b[0;34m(self, topology, system, integrator, platform, platformProperties, state)\u001b[0m\n\u001b[1;32m    100\u001b[0m                 \u001b[0;32mraise\u001b[0m \u001b[0mValueError\u001b[0m\u001b[0;34m(\u001b[0m\u001b[0;34m'Cannot specify platform-specific properties, because the Platform is not specified'\u001b[0m\u001b[0;34m)\u001b[0m\u001b[0;34m\u001b[0m\u001b[0;34m\u001b[0m\u001b[0m\n\u001b[1;32m    101\u001b[0m             \u001b[0;31m## The Context containing the current state of the simulation\u001b[0m\u001b[0;34m\u001b[0m\u001b[0;34m\u001b[0m\u001b[0m\n\u001b[0;32m--> 102\u001b[0;31m             \u001b[0mself\u001b[0m\u001b[0;34m.\u001b[0m\u001b[0mcontext\u001b[0m \u001b[0;34m=\u001b[0m \u001b[0mmm\u001b[0m\u001b[0;34m.\u001b[0m\u001b[0mContext\u001b[0m\u001b[0;34m(\u001b[0m\u001b[0mself\u001b[0m\u001b[0;34m.\u001b[0m\u001b[0msystem\u001b[0m\u001b[0;34m,\u001b[0m \u001b[0mself\u001b[0m\u001b[0;34m.\u001b[0m\u001b[0mintegrator\u001b[0m\u001b[0;34m)\u001b[0m\u001b[0;34m\u001b[0m\u001b[0;34m\u001b[0m\u001b[0m\n\u001b[0m\u001b[1;32m    103\u001b[0m         \u001b[0;32melif\u001b[0m \u001b[0mplatformProperties\u001b[0m \u001b[0;32mis\u001b[0m \u001b[0;32mNone\u001b[0m\u001b[0;34m:\u001b[0m\u001b[0;34m\u001b[0m\u001b[0;34m\u001b[0m\u001b[0m\n\u001b[1;32m    104\u001b[0m             \u001b[0mself\u001b[0m\u001b[0;34m.\u001b[0m\u001b[0mcontext\u001b[0m \u001b[0;34m=\u001b[0m \u001b[0mmm\u001b[0m\u001b[0;34m.\u001b[0m\u001b[0mContext\u001b[0m\u001b[0;34m(\u001b[0m\u001b[0mself\u001b[0m\u001b[0;34m.\u001b[0m\u001b[0msystem\u001b[0m\u001b[0;34m,\u001b[0m \u001b[0mself\u001b[0m\u001b[0;34m.\u001b[0m\u001b[0mintegrator\u001b[0m\u001b[0;34m,\u001b[0m \u001b[0mplatform\u001b[0m\u001b[0;34m)\u001b[0m\u001b[0;34m\u001b[0m\u001b[0;34m\u001b[0m\u001b[0m\n",
            "\u001b[0;32m/usr/local/lib/python3.11/site-packages/openmm/openmm.py\u001b[0m in \u001b[0;36m__init__\u001b[0;34m(self, *args)\u001b[0m\n\u001b[1;32m  15352\u001b[0m             \u001b[0ma\u001b[0m \u001b[0mset\u001b[0m \u001b[0mof\u001b[0m \u001b[0mvalues\u001b[0m \u001b[0;32mfor\u001b[0m \u001b[0mplatform\u001b[0m\u001b[0;34m-\u001b[0m\u001b[0mspecific\u001b[0m \u001b[0mproperties\u001b[0m\u001b[0;34m.\u001b[0m \u001b[0mKeys\u001b[0m \u001b[0mare\u001b[0m \u001b[0mthe\u001b[0m \u001b[0mproperty\u001b[0m \u001b[0mnames\u001b[0m\u001b[0;34m.\u001b[0m\u001b[0;34m\u001b[0m\u001b[0;34m\u001b[0m\u001b[0m\n\u001b[1;32m  15353\u001b[0m         \"\"\"\n\u001b[0;32m> 15354\u001b[0;31m         \u001b[0m_openmm\u001b[0m\u001b[0;34m.\u001b[0m\u001b[0mContext_swiginit\u001b[0m\u001b[0;34m(\u001b[0m\u001b[0mself\u001b[0m\u001b[0;34m,\u001b[0m \u001b[0m_openmm\u001b[0m\u001b[0;34m.\u001b[0m\u001b[0mnew_Context\u001b[0m\u001b[0;34m(\u001b[0m\u001b[0;34m*\u001b[0m\u001b[0margs\u001b[0m\u001b[0;34m)\u001b[0m\u001b[0;34m)\u001b[0m\u001b[0;34m\u001b[0m\u001b[0;34m\u001b[0m\u001b[0m\n\u001b[0m\u001b[1;32m  15355\u001b[0m \u001b[0;34m\u001b[0m\u001b[0m\n\u001b[1;32m  15356\u001b[0m         \u001b[0mself\u001b[0m\u001b[0;34m.\u001b[0m\u001b[0m_system\u001b[0m \u001b[0;34m=\u001b[0m \u001b[0margs\u001b[0m\u001b[0;34m[\u001b[0m\u001b[0;36m0\u001b[0m\u001b[0;34m]\u001b[0m\u001b[0;34m\u001b[0m\u001b[0;34m\u001b[0m\u001b[0m\n",
            "\u001b[0;31mOpenMMException\u001b[0m: NonbondedForce: The cutoff distance cannot be greater than half the periodic box size.  For more information, see https://github.com/openmm/openmm/wiki/Frequently-Asked-Questions#boxsize"
          ]
        }
      ]
    },
    {
      "cell_type": "code",
      "source": [
        "\n",
        "# Precision-focused tleap script\n",
        "tleap_script = \"\"\"\n",
        "source leaprc.protein.ff14SB\n",
        "\n",
        "source leaprc.water.tip3p\n",
        "\n",
        "loadAmberParams frcmod.ions234lm_126_tip3p\n",
        "\n",
        "solv = createUnit solv\n",
        "\n",
        "solvateBox solv TIP3PBOX 10.0\n",
        "\n",
        "addIons2 solv HG 1\n",
        "\n",
        "addIons2 solv Cl- 2\n",
        "\n",
        "saveAmberParm solv solv.prmtop solv.inpcrd\n",
        "\n",
        "quit\n",
        "\"\"\"\n",
        "\n",
        "with open('tleap.in', 'w') as f:\n",
        "    f.write(tleap_script)\n",
        "\n",
        "!tleap -f tleap.in\n",
        "\n",
        "# Optimized OpenMM simulation setup\n",
        "from openmm.app import *\n",
        "from openmm import *\n",
        "from openmm.unit import *\n",
        "import numpy as np\n",
        "\n",
        "# Load AMBER inputs with validation\n",
        "prmtop = AmberPrmtopFile('solv.prmtop')\n",
        "inpcrd = AmberInpcrdFile('solv.inpcrd')\n",
        "\n",
        "# System configuration for heavy metal simulation\n",
        "system = prmtop.createSystem(\n",
        "    nonbondedMethod=PME,\n",
        "    nonbondedCutoff=1.2*nanometers,  # Increased cutoff for ions\n",
        "    constraints=HBonds,\n",
        "    rigidWater=True,                # Essential for TIP3P stability\n",
        "    ewaldErrorTolerance=0.0005\n",
        ")\n",
        "\n",
        "# Enhanced integration parameters\n",
        "integrator = LangevinMiddleIntegrator(\n",
        "    300*kelvin,\n",
        "    1/picosecond,\n",
        "    0.002*picoseconds  # Conservative timestep for divalent ions\n",
        ")\n",
        "\n",
        "# GPU acceleration setup\n",
        "platform = Platform.getPlatformByName('CUDA')\n",
        "properties = {'Precision': 'mixed', 'DeviceIndex': '0'}\n",
        "\n",
        "simulation = Simulation(\n",
        "    prmtop.topology,\n",
        "    system,\n",
        "    integrator,\n",
        "    platform,\n",
        "    properties\n",
        ")\n",
        "\n",
        "# Energy minimization protocol\n",
        "simulation.context.setPositions(inpcrd.positions)\n",
        "simulation.minimizeEnergy(tolerance=10*kilojoule/mole)\n",
        "\n",
        "# Production run with comprehensive monitoring\n",
        "simulation.reporters = [\n",
        "    PDBReporter('traj.pdb', 500),\n",
        "    StateDataReporter(stdout, 500, step=True, temperature=True,\n",
        "                     potentialEnergy=True, density=True),\n",
        "    DCDReporter('traj.dcd', 1000)\n",
        "]\n",
        "\n",
        "simulation.step(10000)  # 20 ps production\n"
      ],
      "metadata": {
        "colab": {
          "base_uri": "https://localhost:8080/",
          "height": 1000
        },
        "id": "aOM5xgqlzSlq",
        "outputId": "b0a453a4-5076-4bc8-d814-da5ca75b5755"
      },
      "execution_count": null,
      "outputs": [
        {
          "output_type": "stream",
          "name": "stdout",
          "text": [
            "-I: Adding /usr/local/dat/leap/prep to search path.\n",
            "-I: Adding /usr/local/dat/leap/lib to search path.\n",
            "-I: Adding /usr/local/dat/leap/parm to search path.\n",
            "-I: Adding /usr/local/dat/leap/cmd to search path.\n",
            "-f: Source tleap.in.\n",
            "\n",
            "Welcome to LEaP!\n",
            "(no leaprc in search path)\n",
            "Sourcing: ./tleap.in\n",
            "----- Source: /usr/local/dat/leap/cmd/leaprc.water.tip3p\n",
            "----- Source of /usr/local/dat/leap/cmd/leaprc.water.tip3p done\n",
            "Loading library: /usr/local/dat/leap/lib/atomic_ions.lib\n",
            "Loading library: /usr/local/dat/leap/lib/solvents.lib\n",
            "Loading parameters: /usr/local/dat/leap/parm/frcmod.tip3p\n",
            "Reading force field modification type file (frcmod)\n",
            "Reading title:\n",
            "This is the additional/replacement parameter set for TIP3P water\n",
            "Loading parameters: /usr/local/dat/leap/parm/frcmod.ions1lm_126_tip3p\n",
            "Reading force field modification type file (frcmod)\n",
            "Reading title:\n",
            "Li/Merz ion parameters of monovalent ions for TIP3P water model (12-6 normal usage set)\n",
            "Loading parameters: /usr/local/dat/leap/parm/frcmod.ionsjc_tip3p\n",
            "Reading force field modification type file (frcmod)\n",
            "Reading title:\n",
            "Monovalent ion parameters for Ewald and TIP3P water from Joung & Cheatham JPCB (2008)\n",
            "Loading parameters: /usr/local/dat/leap/parm/frcmod.ions234lm_126_tip3p\n",
            "Reading force field modification type file (frcmod)\n",
            "Reading title:\n",
            "Li/Merz ion parameters of divalent to tetravalent ions for TIP3P water model (12-6 normal usage set)\n",
            "Loading parameters: /usr/local/dat/leap/parm/frcmod.ions234lm_126_tip3p\n",
            "Reading force field modification type file (frcmod)\n",
            "Reading title:\n",
            "Li/Merz ion parameters of divalent to tetravalent ions for TIP3P water model (12-6 normal usage set)\n",
            "Loading parameters: ./frcmod.hg2+\n",
            "Reading force field modification type file (frcmod)\n",
            "Reading title:\n",
            "\n",
            "\n",
            "/usr/local/bin/teLeap: Warning!\n",
            "Unknown keyword (frcmod Hg2+\n",
            ") in parameter file. Perhaps a format issue?\n",
            "  Solute vdw bounding box:              -0.000 -0.000 -10.000\n",
            "  Total bounding box for atom centers:  20.000 20.000 20.000\n",
            "      (box expansion for 'iso' is 100.0%)\n",
            "  Solvent unit box:                     18.774 18.774 18.774\n",
            "  Volume: 12230.508 A^3 \n",
            "  Total mass 4143.680 amu,  Density 0.563 g/cc\n",
            "  Added 230 residues.\n",
            "\n",
            "/usr/local/bin/teLeap: Fatal Error!\n",
            "addIons: Argument #2 is of type String must be of type: [unit]\n",
            "    Here are some suggestions for correcting this error:\n",
            "    Verify the type of an argument with the desc command.\n",
            "    Check for alternate argument names with the list command.\n",
            "\n",
            "    addIons unit ion1 #ion1 [ion2 #ion2]\n",
            "      UNIT                      _unit_\n",
            "      UNIT                      _ion1_\n",
            "      NUMBER                    _#ion1_\n",
            "      UNIT                      _ion2_\n",
            "      NUMBER                    _#ion2_\n",
            "Adds counterions in a shell around _unit_ using a Coulombic potential\n",
            "on a grid. If _#ion1_ is 0, the _unit_ is neutralized (_ion1_ must be\n",
            "opposite in charge to _unit_, and _ion2_ cannot be specified). Otherwise,\n",
            "the specified numbers of _ion1_ [_ion2_] are added [in alternating order].\n",
            "If solvent is present, it is ignored in the charge and steric calculations,\n",
            "and if an ion has a steric conflict with a solvent molecule, the ion is\n",
            "moved to the center of said molecule, and the latter is deleted. (To\n",
            "avoid this behavior, either solvate _after_ addIons, or use addIons2.)\n",
            "Ions must be monoatomic. Note that the one-at-a-time procedure is not\n",
            "guaranteed to globally minimize the electrostatic energy. When neutralizing\n",
            "regular-backbone nucleic acids, the first cations will generally be added\n",
            "between phosphates, leaving the final two ions to be placed somewhere around\n",
            "the middle of the molecule.\n",
            "The default grid resolution is 1 Angstrom, extending from an inner radius\n",
            "of (max ion size + max solute atom size) to an outer radius 4 Angstroms\n",
            "beyond. A distance-dependent dielectric is used for speed.\n",
            "\n",
            "\n",
            "\n",
            "Exiting LEaP: Errors = 1; Warnings = 1; Notes = 0.\n"
          ]
        },
        {
          "output_type": "error",
          "ename": "FileNotFoundError",
          "evalue": "[Errno 2] No such file or directory: 'solv.prmtop'",
          "traceback": [
            "\u001b[0;31m---------------------------------------------------------------------------\u001b[0m",
            "\u001b[0;31mFileNotFoundError\u001b[0m                         Traceback (most recent call last)",
            "\u001b[0;32m<ipython-input-3-2ba97fff1b58>\u001b[0m in \u001b[0;36m<cell line: 0>\u001b[0;34m()\u001b[0m\n\u001b[1;32m     51\u001b[0m \u001b[0;34m\u001b[0m\u001b[0m\n\u001b[1;32m     52\u001b[0m \u001b[0;31m# Load AMBER inputs with validation\u001b[0m\u001b[0;34m\u001b[0m\u001b[0;34m\u001b[0m\u001b[0m\n\u001b[0;32m---> 53\u001b[0;31m \u001b[0mprmtop\u001b[0m \u001b[0;34m=\u001b[0m \u001b[0mAmberPrmtopFile\u001b[0m\u001b[0;34m(\u001b[0m\u001b[0;34m'solv.prmtop'\u001b[0m\u001b[0;34m)\u001b[0m\u001b[0;34m\u001b[0m\u001b[0;34m\u001b[0m\u001b[0m\n\u001b[0m\u001b[1;32m     54\u001b[0m \u001b[0minpcrd\u001b[0m \u001b[0;34m=\u001b[0m \u001b[0mAmberInpcrdFile\u001b[0m\u001b[0;34m(\u001b[0m\u001b[0;34m'solv.inpcrd'\u001b[0m\u001b[0;34m)\u001b[0m\u001b[0;34m\u001b[0m\u001b[0;34m\u001b[0m\u001b[0m\n\u001b[1;32m     55\u001b[0m \u001b[0;34m\u001b[0m\u001b[0m\n",
            "\u001b[0;32m/usr/local/lib/python3.11/site-packages/openmm/app/amberprmtopfile.py\u001b[0m in \u001b[0;36m__init__\u001b[0;34m(self, file, periodicBoxVectors, unitCellDimensions)\u001b[0m\n\u001b[1;32m    106\u001b[0m         \u001b[0;31m# Load the prmtop file\u001b[0m\u001b[0;34m\u001b[0m\u001b[0;34m\u001b[0m\u001b[0m\n\u001b[1;32m    107\u001b[0m \u001b[0;34m\u001b[0m\u001b[0m\n\u001b[0;32m--> 108\u001b[0;31m         \u001b[0mprmtop\u001b[0m \u001b[0;34m=\u001b[0m \u001b[0mamber_file_parser\u001b[0m\u001b[0;34m.\u001b[0m\u001b[0mPrmtopLoader\u001b[0m\u001b[0;34m(\u001b[0m\u001b[0mfile\u001b[0m\u001b[0;34m)\u001b[0m\u001b[0;34m\u001b[0m\u001b[0;34m\u001b[0m\u001b[0m\n\u001b[0m\u001b[1;32m    109\u001b[0m         \u001b[0mself\u001b[0m\u001b[0;34m.\u001b[0m\u001b[0m_prmtop\u001b[0m \u001b[0;34m=\u001b[0m \u001b[0mprmtop\u001b[0m\u001b[0;34m\u001b[0m\u001b[0;34m\u001b[0m\u001b[0m\n\u001b[1;32m    110\u001b[0m \u001b[0;34m\u001b[0m\u001b[0m\n",
            "\u001b[0;32m/usr/local/lib/python3.11/site-packages/openmm/app/internal/amber_file_parser.py\u001b[0m in \u001b[0;36m__init__\u001b[0;34m(self, inFilename)\u001b[0m\n\u001b[1;32m    122\u001b[0m         \u001b[0mself\u001b[0m\u001b[0;34m.\u001b[0m\u001b[0m_has_nbfix_terms\u001b[0m \u001b[0;34m=\u001b[0m \u001b[0;32mFalse\u001b[0m\u001b[0;34m\u001b[0m\u001b[0;34m\u001b[0m\u001b[0m\n\u001b[1;32m    123\u001b[0m \u001b[0;34m\u001b[0m\u001b[0m\n\u001b[0;32m--> 124\u001b[0;31m         \u001b[0;32mwith\u001b[0m \u001b[0mopen\u001b[0m\u001b[0;34m(\u001b[0m\u001b[0minFilename\u001b[0m\u001b[0;34m,\u001b[0m \u001b[0;34m'r'\u001b[0m\u001b[0;34m)\u001b[0m \u001b[0;32mas\u001b[0m \u001b[0mfIn\u001b[0m\u001b[0;34m:\u001b[0m\u001b[0;34m\u001b[0m\u001b[0;34m\u001b[0m\u001b[0m\n\u001b[0m\u001b[1;32m    125\u001b[0m             \u001b[0;32mfor\u001b[0m \u001b[0mline\u001b[0m \u001b[0;32min\u001b[0m \u001b[0mfIn\u001b[0m\u001b[0;34m:\u001b[0m\u001b[0;34m\u001b[0m\u001b[0;34m\u001b[0m\u001b[0m\n\u001b[1;32m    126\u001b[0m                 \u001b[0;32mif\u001b[0m \u001b[0mline\u001b[0m\u001b[0;34m[\u001b[0m\u001b[0;36m0\u001b[0m\u001b[0;34m]\u001b[0m \u001b[0;34m==\u001b[0m \u001b[0;34m'%'\u001b[0m\u001b[0;34m:\u001b[0m\u001b[0;34m\u001b[0m\u001b[0;34m\u001b[0m\u001b[0m\n",
            "\u001b[0;31mFileNotFoundError\u001b[0m: [Errno 2] No such file or directory: 'solv.prmtop'"
          ]
        }
      ]
    },
    {
      "cell_type": "code",
      "source": [
        "# Write the zinc_ion.cmd file\n",
        "zinc_ion_cmd = \"\"\"\n",
        "i = createAtom OOGA Zn2+ 2.0  # Create an atom named ZN with atom type Zn2+ and charge 2.0\n",
        "set i element \"Zn\"          # Set its element to Zn\n",
        "set i position { 0 0 0 }    # Assign coordinates for the ion\n",
        "r = createResidue OOGA        # Create a residue named ZN\n",
        "add r i                     # Add the atom to the residue\n",
        "ZN = createUnit OOGA          # Create a unit named ZN\n",
        "add ZN r                    # Add the residue to the unit\n",
        "saveOff ZN atomic_ions.lib  # Save the ion definition into a library file\n",
        "\"\"\"\n",
        "\n",
        "with open('zinc_ion.cmd', 'w') as f:\n",
        "    f.write(zinc_ion_cmd)\n",
        "\n",
        "print(\"Zinc ion definition file 'zinc_ion.cmd' created.\")\n"
      ],
      "metadata": {
        "colab": {
          "base_uri": "https://localhost:8080/"
        },
        "id": "ovF5klJwV1fa",
        "outputId": "2b90566d-61fe-47ae-dcd4-b85ebe15551e"
      },
      "execution_count": null,
      "outputs": [
        {
          "output_type": "stream",
          "name": "stdout",
          "text": [
            "Zinc ion definition file 'zinc_ion.cmd' created.\n"
          ]
        }
      ]
    },
    {
      "cell_type": "code",
      "source": [
        "!tleap -s -f zinc_ion.cmd"
      ],
      "metadata": {
        "colab": {
          "base_uri": "https://localhost:8080/"
        },
        "id": "hYU67gwZV7vj",
        "outputId": "366a6172-b84e-4665-b4d8-6afed8bed6e1"
      },
      "execution_count": null,
      "outputs": [
        {
          "output_type": "stream",
          "name": "stdout",
          "text": [
            "-I: Adding /usr/local/dat/leap/prep to search path.\n",
            "-I: Adding /usr/local/dat/leap/lib to search path.\n",
            "-I: Adding /usr/local/dat/leap/parm to search path.\n",
            "-I: Adding /usr/local/dat/leap/cmd to search path.\n",
            "-s: Ignoring all leaprc startup files.\n",
            "-f: Source zinc_ion.cmd.\n",
            "\n",
            "Welcome to LEaP!\n",
            "Sourcing: ./zinc_ion.cmd\n",
            "Building topology.\n",
            "Building atom parameters.\n",
            "\r> ^C\n"
          ]
        }
      ]
    },
    {
      "cell_type": "code",
      "source": [
        "# Write the content of the command to a file named zinc_ion.cmd\n",
        "with open(\"zinc_ion.cmd\", \"w\") as file:\n",
        "    file.write(\"\"\"\n",
        "i = createAtom ZN Zn2+ 2.0  # Create an atom named ZN with atom type Zn2+ and charge 2.0\n",
        "set i element \"Zn\"          # Set its element to Zn\n",
        "set i position { 0 0 0 }    # Assign coordinates for the ion\n",
        "r = createResidue ZN        # Create a residue named ZN\n",
        "add r i                     # Add the atom to the residue\n",
        "ZN = createUnit ZN          # Create a unit named ZN\n",
        "add ZN r                    # Add the residue to the unit\n",
        "saveOff ZN atomic_ions.lib  # Save the ion definition into a library file\n",
        "\"\"\")\n",
        "\n",
        "# Verify the content of the file\n",
        "!cat zinc_ion.cmd\n"
      ],
      "metadata": {
        "colab": {
          "base_uri": "https://localhost:8080/"
        },
        "id": "rqHJ_ze-U15t",
        "outputId": "1b5e3702-b236-4eee-f17a-c8822f6ad4bf"
      },
      "execution_count": null,
      "outputs": [
        {
          "output_type": "stream",
          "name": "stdout",
          "text": [
            "\n",
            "i = createAtom ZN Zn2+ 2.0  # Create an atom named ZN with atom type Zn2+ and charge 2.0\n",
            "set i element \"Zn\"          # Set its element to Zn\n",
            "set i position { 0 0 0 }    # Assign coordinates for the ion\n",
            "r = createResidue ZN        # Create a residue named ZN\n",
            "add r i                     # Add the atom to the residue\n",
            "ZN = createUnit ZN          # Create a unit named ZN\n",
            "add ZN r                    # Add the residue to the unit\n",
            "saveOff ZN atomic_ions.lib  # Save the ion definition into a library file\n"
          ]
        }
      ]
    },
    {
      "cell_type": "code",
      "source": [
        "!tleap -f tleap_Zn.in"
      ],
      "metadata": {
        "colab": {
          "base_uri": "https://localhost:8080/"
        },
        "id": "kGW1KSoqVPV8",
        "outputId": "c4f5c7cb-da4d-482b-8d90-01bc8c4bb3f9"
      },
      "execution_count": null,
      "outputs": [
        {
          "output_type": "stream",
          "name": "stdout",
          "text": [
            "-I: Adding /usr/local/dat/leap/prep to search path.\n",
            "-I: Adding /usr/local/dat/leap/lib to search path.\n",
            "-I: Adding /usr/local/dat/leap/parm to search path.\n",
            "-I: Adding /usr/local/dat/leap/cmd to search path.\n",
            "-f: Source tleap_Zn.in.\n",
            "\n",
            "Welcome to LEaP!\n",
            "(no leaprc in search path)\n",
            "\n",
            "Error: Could not open file tleap_Zn.in: not found\n"
          ]
        }
      ]
    },
    {
      "cell_type": "code",
      "source": [
        "# Step 1: Verify the current directory and permissions\n",
        "!ls -la\n",
        "\n",
        "# Step 2: Write the content of the command to a file named zinc_ion.cmd\n",
        "zinc_ion_cmd_content = \"\"\"i = createAtom ZN Zn2+ 2.0  # Create an atom named ZN with atom type Zn2+ and charge 2.0\n",
        "set i element \"Zn\"          # Set its element to Zn\n",
        "set i position { 0 0 0 }    # Assign coordinates for the ion\n",
        "r = createResidue ZN        # Create a residue named ZN\n",
        "add r i                     # Add the atom to the residue\n",
        "ZN = createUnit ZN          # Create a unit named ZN\n",
        "add ZN r                    # Add the residue to the unit\n",
        "saveOff ZN atomic_ions.lib  # Save the ion definition into a library file\n",
        "\"\"\"\n",
        "\n",
        "# Writing content properly\n",
        "with open(\"zinc_ion.cmd\", \"w\") as file:\n",
        "    file.write(zinc_ion_cmd_content)\n",
        "\n",
        "# Step 3: Verify the content of the created file\n",
        "!cat zinc_ion.cmd\n",
        "\n",
        "# Step 4: Run tleap using a provided input file (tleap_Zn.in)\n",
        "# Ensure tleap_Zn.in exists and is properly formatted\n",
        "!tleap -f tleap_Zn.in\n"
      ],
      "metadata": {
        "colab": {
          "base_uri": "https://localhost:8080/"
        },
        "id": "1hAer-b-Vfc0",
        "outputId": "5f56a51f-4e8f-4e20-87bc-13d328d8c48c"
      },
      "execution_count": null,
      "outputs": [
        {
          "output_type": "stream",
          "name": "stdout",
          "text": [
            "total 96\n",
            "drwxr-xr-x 1 root root  4096 Jan 27 05:56 .\n",
            "drwxr-xr-x 1 root root  4096 Jan 27 04:34 ..\n",
            "-rw-r--r-- 1 root root   277 Jan 27 05:04 ca_far_water.pdb\n",
            "-rw-r--r-- 1 root root 21477 Jan 27 04:35 condacolab_install.log\n",
            "drwxr-xr-x 4 root root  4096 Jan 23 14:23 .config\n",
            "-rw-r--r-- 1 root root   276 Jan 27 04:59 hg_far_water.pdb\n",
            "-rw-r--r-- 1 root root   891 Jan 27 04:37 hg.pdb\n",
            "-rw-r--r-- 1 root root 22610 Jan 27 05:04 leap.log\n",
            "drwxr-xr-x 1 root root  4096 Jan 23 14:24 sample_data\n",
            "-rw-r--r-- 1 root root  1153 Jan 27 05:54 simulation_setup.log\n",
            "-rw-r--r-- 1 root root   277 Jan 27 05:37 test.pdb\n",
            "-rw-r--r-- 1 root root   694 Jan 27 05:14 tleap_CaCl2.in\n",
            "-rw-r--r-- 1 root root   335 Jan 27 05:37 tleap.in\n",
            "-rw-r--r-- 1 root root   502 Jan 27 05:56 zinc_ion.cmd\n",
            "i = createAtom ZN Zn2+ 2.0  # Create an atom named ZN with atom type Zn2+ and charge 2.0\n",
            "set i element \"Zn\"          # Set its element to Zn\n",
            "set i position { 0 0 0 }    # Assign coordinates for the ion\n",
            "r = createResidue ZN        # Create a residue named ZN\n",
            "add r i                     # Add the atom to the residue\n",
            "ZN = createUnit ZN          # Create a unit named ZN\n",
            "add ZN r                    # Add the residue to the unit\n",
            "saveOff ZN atomic_ions.lib  # Save the ion definition into a library file\n",
            "-I: Adding /usr/local/dat/leap/prep to search path.\n",
            "-I: Adding /usr/local/dat/leap/lib to search path.\n",
            "-I: Adding /usr/local/dat/leap/parm to search path.\n",
            "-I: Adding /usr/local/dat/leap/cmd to search path.\n",
            "-f: Source tleap_Zn.in.\n",
            "\n",
            "Welcome to LEaP!\n",
            "(no leaprc in search path)\n",
            "\n",
            "Error: Could not open file tleap_Zn.in: not found\n"
          ]
        }
      ]
    },
    {
      "cell_type": "markdown",
      "source": [
        "#Gem code"
      ],
      "metadata": {
        "id": "x-Uv0BNWCoFK"
      }
    },
    {
      "cell_type": "code",
      "source": [
        "# Gem code\n",
        "\n",
        "import subprocess\n",
        "\n",
        "# Create the PDB content for Calcium with water molecules\n",
        "pdb_file = \"\"\"\n",
        "ATOM      1  ZN  CAL     1       0.000   0.000   0.000  1.00  0.00\n",
        "TER\n",
        "HETATM    2  OH2 HOH     2       5.000   5.000   5.000  1.00  0.00\n",
        "HETATM    3  H1  HOH     2       5.816   5.000   5.221  1.00  0.00\n",
        "HETATM    4  H2  HOH     2       4.184   5.000   5.221  1.00  0.00\n",
        "TER\n",
        "\"\"\"\n",
        "\n",
        "# Save the PDB content to a file\n",
        "with open('test.pdb', 'w') as f:\n",
        "    f.write(pdb_file)\n",
        "\n",
        "print(\"PDB file 'test.pdb' created successfully!\")\n",
        "\n",
        "# Prepare the TLEAP input file for Calcium\n",
        "tleap_script = \"\"\"\n",
        "source leaprc.ff14SB\n",
        "loadOff atomic_ions.lib #residue name for ions\n",
        "loadamberparams frcmod.ions1lm_1264_tip3p #monovalent ions\n",
        "loadamberparams frcmod.ions234lm_1264_tip3p #divalent ions\n",
        "i = loadpdb test.pdb\n",
        "check i\n",
        "solvatebox i TIP3PBOX 10 0.75\n",
        "addions i CA 10 CL 20\n",
        "charge i\n",
        "saveamberparm i test_CaCl2.prmtop test_CaCl2.inpcrd\n",
        "quit\n",
        "\"\"\"\n",
        "\n",
        "# Save the TLEAP script to a file\n",
        "with open('tleap.in', 'w') as f:\n",
        "    f.write(tleap_script)\n",
        "\n",
        "print(\"TLEAP script 'tleap.in' created successfully!\")\n",
        "\n",
        "# Run TLEAP to generate PRMTOP and INPCRD\n",
        "subprocess.run(['tleap', '-f', 'tleap.in'], check=True)\n",
        "print(\"TLEAP executed successfully!\")\n",
        "\n",
        "# Modify the PRMTOP to include 12-6-4 LJ potential using parmed.py\n",
        "parmed_commands = \"\"\"\n",
        "add12_6_4 :CA,CL\n",
        "outparm modified_CaCl2.prmtop\n",
        "quit\n",
        "\"\"\"\n",
        "\n",
        "process = subprocess.Popen(['parmed.py', 'test_CaCl2.prmtop'], stdin=subprocess.PIPE, stdout=subprocess.PIPE, stderr=subprocess.PIPE, text=True)\n",
        "stdout, stderr = process.communicate(parmed_commands)\n",
        "\n",
        "if process.returncode != 0:\n",
        "    print(\"Error in parmed.py modification:\", stderr)\n",
        "else:\n",
        "    print(\"PRMTOP modified to include 12-6-4 LJ potential successfully!\")\n",
        "\n",
        "# Prepare the SANDER input file (mdin)\n",
        "mdin = \"\"\"\n",
        "&cntrl\n",
        "    imin=0,\n",
        "    ntx=1,\n",
        "    irest=1,\n",
        "    nstlim=5000,\n",
        "    dt=0.002,\n",
        "    ntc=2,\n",
        "    ntf=2,\n",
        "    lj1264=1,\n",
        "    ntpr=100,\n",
        "    ntwx=100,\n",
        "    ntwr=100,\n",
        "    /\n",
        "\"\"\"\n",
        "\n",
        "with open('mdin', 'w') as f:\n",
        "    f.write(mdin)\n",
        "\n",
        "print(\"SANDER input file 'mdin' created successfully!\")\n",
        "\n",
        "# Run SANDER\n",
        "subprocess.run(['sander', '-O', '-i', 'mdin', '-p', 'modified_CaCl2.prmtop', '-c', 'test_CaCl2.inpcrd', '-o', 'mdout', '-r', 'mdrst', '-x', 'mdcrd'], check=True)\n",
        "print(\"Simulation completed with SANDER. Outputs saved as 'mdcrd'.\")\n",
        "\n",
        "# Note: The OpenMM section has been removed as it is incompatible with the 12-6-4 LJ potential\n"
      ],
      "metadata": {
        "colab": {
          "base_uri": "https://localhost:8080/",
          "height": 448
        },
        "id": "r0Bz-I-XPQu4",
        "outputId": "bc65ef0c-4ebc-49b6-a0b9-c77a66d7ce12"
      },
      "execution_count": null,
      "outputs": [
        {
          "output_type": "stream",
          "name": "stdout",
          "text": [
            "PDB file 'test.pdb' created successfully!\n",
            "TLEAP script 'tleap.in' created successfully!\n"
          ]
        },
        {
          "output_type": "error",
          "ename": "CalledProcessError",
          "evalue": "Command '['tleap', '-f', 'tleap.in']' returned non-zero exit status 31.",
          "traceback": [
            "\u001b[0;31m---------------------------------------------------------------------------\u001b[0m",
            "\u001b[0;31mCalledProcessError\u001b[0m                        Traceback (most recent call last)",
            "\u001b[0;32m<ipython-input-21-a219e3859779>\u001b[0m in \u001b[0;36m<cell line: 0>\u001b[0;34m()\u001b[0m\n\u001b[1;32m     41\u001b[0m \u001b[0;34m\u001b[0m\u001b[0m\n\u001b[1;32m     42\u001b[0m \u001b[0;31m# Run TLEAP to generate PRMTOP and INPCRD\u001b[0m\u001b[0;34m\u001b[0m\u001b[0;34m\u001b[0m\u001b[0m\n\u001b[0;32m---> 43\u001b[0;31m \u001b[0msubprocess\u001b[0m\u001b[0;34m.\u001b[0m\u001b[0mrun\u001b[0m\u001b[0;34m(\u001b[0m\u001b[0;34m[\u001b[0m\u001b[0;34m'tleap'\u001b[0m\u001b[0;34m,\u001b[0m \u001b[0;34m'-f'\u001b[0m\u001b[0;34m,\u001b[0m \u001b[0;34m'tleap.in'\u001b[0m\u001b[0;34m]\u001b[0m\u001b[0;34m,\u001b[0m \u001b[0mcheck\u001b[0m\u001b[0;34m=\u001b[0m\u001b[0;32mTrue\u001b[0m\u001b[0;34m)\u001b[0m\u001b[0;34m\u001b[0m\u001b[0;34m\u001b[0m\u001b[0m\n\u001b[0m\u001b[1;32m     44\u001b[0m \u001b[0mprint\u001b[0m\u001b[0;34m(\u001b[0m\u001b[0;34m\"TLEAP executed successfully!\"\u001b[0m\u001b[0;34m)\u001b[0m\u001b[0;34m\u001b[0m\u001b[0;34m\u001b[0m\u001b[0m\n\u001b[1;32m     45\u001b[0m \u001b[0;34m\u001b[0m\u001b[0m\n",
            "\u001b[0;32m/usr/lib/python3.11/subprocess.py\u001b[0m in \u001b[0;36mrun\u001b[0;34m(input, capture_output, timeout, check, *popenargs, **kwargs)\u001b[0m\n\u001b[1;32m    569\u001b[0m         \u001b[0mretcode\u001b[0m \u001b[0;34m=\u001b[0m \u001b[0mprocess\u001b[0m\u001b[0;34m.\u001b[0m\u001b[0mpoll\u001b[0m\u001b[0;34m(\u001b[0m\u001b[0;34m)\u001b[0m\u001b[0;34m\u001b[0m\u001b[0;34m\u001b[0m\u001b[0m\n\u001b[1;32m    570\u001b[0m         \u001b[0;32mif\u001b[0m \u001b[0mcheck\u001b[0m \u001b[0;32mand\u001b[0m \u001b[0mretcode\u001b[0m\u001b[0;34m:\u001b[0m\u001b[0;34m\u001b[0m\u001b[0;34m\u001b[0m\u001b[0m\n\u001b[0;32m--> 571\u001b[0;31m             raise CalledProcessError(retcode, process.args,\n\u001b[0m\u001b[1;32m    572\u001b[0m                                      output=stdout, stderr=stderr)\n\u001b[1;32m    573\u001b[0m     \u001b[0;32mreturn\u001b[0m \u001b[0mCompletedProcess\u001b[0m\u001b[0;34m(\u001b[0m\u001b[0mprocess\u001b[0m\u001b[0;34m.\u001b[0m\u001b[0margs\u001b[0m\u001b[0;34m,\u001b[0m \u001b[0mretcode\u001b[0m\u001b[0;34m,\u001b[0m \u001b[0mstdout\u001b[0m\u001b[0;34m,\u001b[0m \u001b[0mstderr\u001b[0m\u001b[0;34m)\u001b[0m\u001b[0;34m\u001b[0m\u001b[0;34m\u001b[0m\u001b[0m\n",
            "\u001b[0;31mCalledProcessError\u001b[0m: Command '['tleap', '-f', 'tleap.in']' returned non-zero exit status 31."
          ]
        }
      ]
    }
  ]
}